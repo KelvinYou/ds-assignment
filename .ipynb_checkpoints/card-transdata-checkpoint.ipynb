{
 "cells": [
  {
   "cell_type": "markdown",
   "id": "7e4ce494",
   "metadata": {
    "papermill": {
     "duration": 0.034404,
     "end_time": "2022-08-09T17:31:44.482440",
     "exception": false,
     "start_time": "2022-08-09T17:31:44.448036",
     "status": "completed"
    },
    "tags": []
   },
   "source": [
    "<font size=24>“钉钉杯”大数据挑战赛</font>"
   ]
  },
  {
   "cell_type": "markdown",
   "id": "c8261305",
   "metadata": {
    "papermill": {
     "duration": 0.027265,
     "end_time": "2022-08-09T17:31:44.540145",
     "exception": false,
     "start_time": "2022-08-09T17:31:44.512880",
     "status": "completed"
    },
    "tags": []
   },
   "source": [
    "# 任务\n",
    "- 选题：A\n",
    "- 数据集文件：card_transdata.csv"
   ]
  },
  {
   "cell_type": "markdown",
   "id": "c97970e4",
   "metadata": {
    "papermill": {
     "duration": 0.028198,
     "end_time": "2022-08-09T17:31:44.595487",
     "exception": false,
     "start_time": "2022-08-09T17:31:44.567289",
     "status": "completed"
    },
    "tags": []
   },
   "source": [
    "# 代码部分"
   ]
  },
  {
   "cell_type": "markdown",
   "id": "c3f2f967",
   "metadata": {
    "papermill": {
     "duration": 0.025942,
     "end_time": "2022-08-09T17:31:44.652734",
     "exception": false,
     "start_time": "2022-08-09T17:31:44.626792",
     "status": "completed"
    },
    "tags": []
   },
   "source": [
    "## 导入包"
   ]
  },
  {
   "cell_type": "code",
   "execution_count": 1,
   "id": "2fa4b0e0",
   "metadata": {
    "execution": {
     "iopub.execute_input": "2022-08-09T17:31:44.708137Z",
     "iopub.status.busy": "2022-08-09T17:31:44.707207Z",
     "iopub.status.idle": "2022-08-09T17:31:46.163906Z",
     "shell.execute_reply": "2022-08-09T17:31:46.162874Z"
    },
    "papermill": {
     "duration": 1.487951,
     "end_time": "2022-08-09T17:31:46.167038",
     "exception": false,
     "start_time": "2022-08-09T17:31:44.679087",
     "status": "completed"
    },
    "tags": []
   },
   "outputs": [],
   "source": [
    "#导入常用包\n",
    "import numpy as np\n",
    "import pandas as pd \n",
    "import matplotlib.pyplot as plt\n",
    "import seaborn as sns\n",
    "import random as rnd  \n",
    "%matplotlib inline\n",
    "\n",
    "#导入机器学习包\n",
    "from sklearn.linear_model import LogisticRegression   #逻辑回归\n",
    "from sklearn.svm import SVC, LinearSVC                #SVC\n",
    "from sklearn.ensemble import RandomForestClassifier   #随机森林\n",
    "from sklearn.neighbors import KNeighborsClassifier    #KNN\n",
    "from sklearn.naive_bayes import GaussianNB            #贝叶斯\n",
    "from sklearn.linear_model import Perceptron           #感知机\n",
    "from sklearn.linear_model import SGDClassifier        #SGD\n",
    "from sklearn.tree import DecisionTreeClassifier       #决策树"
   ]
  },
  {
   "cell_type": "code",
   "execution_count": 2,
   "id": "c8483720",
   "metadata": {
    "execution": {
     "iopub.execute_input": "2022-08-09T17:31:46.219166Z",
     "iopub.status.busy": "2022-08-09T17:31:46.218771Z",
     "iopub.status.idle": "2022-08-09T17:31:46.224001Z",
     "shell.execute_reply": "2022-08-09T17:31:46.222817Z"
    },
    "papermill": {
     "duration": 0.03381,
     "end_time": "2022-08-09T17:31:46.226240",
     "exception": false,
     "start_time": "2022-08-09T17:31:46.192430",
     "status": "completed"
    },
    "tags": []
   },
   "outputs": [],
   "source": [
    "from sklearn.model_selection import cross_val_score\n",
    "from sklearn.metrics import accuracy_score\n",
    "#其他包\n",
    "import warnings\n",
    "warnings.filterwarnings(\"ignore\")"
   ]
  },
  {
   "cell_type": "markdown",
   "id": "156b4401",
   "metadata": {
    "papermill": {
     "duration": 0.028619,
     "end_time": "2022-08-09T17:31:46.283071",
     "exception": false,
     "start_time": "2022-08-09T17:31:46.254452",
     "status": "completed"
    },
    "tags": []
   },
   "source": [
    "## 数据读取"
   ]
  },
  {
   "cell_type": "code",
   "execution_count": 3,
   "id": "67b5528d",
   "metadata": {
    "execution": {
     "iopub.execute_input": "2022-08-09T17:31:46.355221Z",
     "iopub.status.busy": "2022-08-09T17:31:46.354557Z",
     "iopub.status.idle": "2022-08-09T17:31:47.919511Z",
     "shell.execute_reply": "2022-08-09T17:31:47.918394Z"
    },
    "papermill": {
     "duration": 1.600304,
     "end_time": "2022-08-09T17:31:47.922102",
     "exception": false,
     "start_time": "2022-08-09T17:31:46.321798",
     "status": "completed"
    },
    "tags": []
   },
   "outputs": [],
   "source": [
    "df=pd.read_csv('../input/credit-card-fraud/card_transdata.csv')"
   ]
  },
  {
   "cell_type": "markdown",
   "id": "f16a3989",
   "metadata": {
    "papermill": {
     "duration": 0.025015,
     "end_time": "2022-08-09T17:31:47.973152",
     "exception": false,
     "start_time": "2022-08-09T17:31:47.948137",
     "status": "completed"
    },
    "tags": []
   },
   "source": [
    "## EDA"
   ]
  },
  {
   "cell_type": "markdown",
   "id": "c88391d9",
   "metadata": {
    "papermill": {
     "duration": 0.02473,
     "end_time": "2022-08-09T17:31:48.022514",
     "exception": false,
     "start_time": "2022-08-09T17:31:47.997784",
     "status": "completed"
    },
    "tags": []
   },
   "source": [
    "### 数据查看"
   ]
  },
  {
   "cell_type": "markdown",
   "id": "587eec3b",
   "metadata": {
    "papermill": {
     "duration": 0.024401,
     "end_time": "2022-08-09T17:31:48.071409",
     "exception": false,
     "start_time": "2022-08-09T17:31:48.047008",
     "status": "completed"
    },
    "tags": []
   },
   "source": [
    "#### 查看前5行数据"
   ]
  },
  {
   "cell_type": "code",
   "execution_count": 4,
   "id": "b900095e",
   "metadata": {
    "execution": {
     "iopub.execute_input": "2022-08-09T17:31:48.122388Z",
     "iopub.status.busy": "2022-08-09T17:31:48.121991Z",
     "iopub.status.idle": "2022-08-09T17:31:48.145960Z",
     "shell.execute_reply": "2022-08-09T17:31:48.144935Z"
    },
    "papermill": {
     "duration": 0.052095,
     "end_time": "2022-08-09T17:31:48.148191",
     "exception": false,
     "start_time": "2022-08-09T17:31:48.096096",
     "status": "completed"
    },
    "tags": []
   },
   "outputs": [
    {
     "data": {
      "text/html": [
       "<div>\n",
       "<style scoped>\n",
       "    .dataframe tbody tr th:only-of-type {\n",
       "        vertical-align: middle;\n",
       "    }\n",
       "\n",
       "    .dataframe tbody tr th {\n",
       "        vertical-align: top;\n",
       "    }\n",
       "\n",
       "    .dataframe thead th {\n",
       "        text-align: right;\n",
       "    }\n",
       "</style>\n",
       "<table border=\"1\" class=\"dataframe\">\n",
       "  <thead>\n",
       "    <tr style=\"text-align: right;\">\n",
       "      <th></th>\n",
       "      <th>distance_from_home</th>\n",
       "      <th>distance_from_last_transaction</th>\n",
       "      <th>ratio_to_median_purchase_price</th>\n",
       "      <th>repeat_retailer</th>\n",
       "      <th>used_chip</th>\n",
       "      <th>used_pin_number</th>\n",
       "      <th>online_order</th>\n",
       "      <th>fraud</th>\n",
       "    </tr>\n",
       "  </thead>\n",
       "  <tbody>\n",
       "    <tr>\n",
       "      <th>0</th>\n",
       "      <td>57.877857</td>\n",
       "      <td>0.311140</td>\n",
       "      <td>1.945940</td>\n",
       "      <td>1.0</td>\n",
       "      <td>1.0</td>\n",
       "      <td>0.0</td>\n",
       "      <td>0.0</td>\n",
       "      <td>0.0</td>\n",
       "    </tr>\n",
       "    <tr>\n",
       "      <th>1</th>\n",
       "      <td>10.829943</td>\n",
       "      <td>0.175592</td>\n",
       "      <td>1.294219</td>\n",
       "      <td>1.0</td>\n",
       "      <td>0.0</td>\n",
       "      <td>0.0</td>\n",
       "      <td>0.0</td>\n",
       "      <td>0.0</td>\n",
       "    </tr>\n",
       "    <tr>\n",
       "      <th>2</th>\n",
       "      <td>5.091079</td>\n",
       "      <td>0.805153</td>\n",
       "      <td>0.427715</td>\n",
       "      <td>1.0</td>\n",
       "      <td>0.0</td>\n",
       "      <td>0.0</td>\n",
       "      <td>1.0</td>\n",
       "      <td>0.0</td>\n",
       "    </tr>\n",
       "    <tr>\n",
       "      <th>3</th>\n",
       "      <td>2.247564</td>\n",
       "      <td>5.600044</td>\n",
       "      <td>0.362663</td>\n",
       "      <td>1.0</td>\n",
       "      <td>1.0</td>\n",
       "      <td>0.0</td>\n",
       "      <td>1.0</td>\n",
       "      <td>0.0</td>\n",
       "    </tr>\n",
       "    <tr>\n",
       "      <th>4</th>\n",
       "      <td>44.190936</td>\n",
       "      <td>0.566486</td>\n",
       "      <td>2.222767</td>\n",
       "      <td>1.0</td>\n",
       "      <td>1.0</td>\n",
       "      <td>0.0</td>\n",
       "      <td>1.0</td>\n",
       "      <td>0.0</td>\n",
       "    </tr>\n",
       "  </tbody>\n",
       "</table>\n",
       "</div>"
      ],
      "text/plain": [
       "   distance_from_home  distance_from_last_transaction  \\\n",
       "0           57.877857                        0.311140   \n",
       "1           10.829943                        0.175592   \n",
       "2            5.091079                        0.805153   \n",
       "3            2.247564                        5.600044   \n",
       "4           44.190936                        0.566486   \n",
       "\n",
       "   ratio_to_median_purchase_price  repeat_retailer  used_chip  \\\n",
       "0                        1.945940              1.0        1.0   \n",
       "1                        1.294219              1.0        0.0   \n",
       "2                        0.427715              1.0        0.0   \n",
       "3                        0.362663              1.0        1.0   \n",
       "4                        2.222767              1.0        1.0   \n",
       "\n",
       "   used_pin_number  online_order  fraud  \n",
       "0              0.0           0.0    0.0  \n",
       "1              0.0           0.0    0.0  \n",
       "2              0.0           1.0    0.0  \n",
       "3              0.0           1.0    0.0  \n",
       "4              0.0           1.0    0.0  "
      ]
     },
     "execution_count": 4,
     "metadata": {},
     "output_type": "execute_result"
    }
   ],
   "source": [
    "df.head(5)"
   ]
  },
  {
   "cell_type": "markdown",
   "id": "38f1f45b",
   "metadata": {
    "papermill": {
     "duration": 0.024572,
     "end_time": "2022-08-09T17:31:48.197778",
     "exception": false,
     "start_time": "2022-08-09T17:31:48.173206",
     "status": "completed"
    },
    "tags": []
   },
   "source": [
    "<font color='#ff590b'><font size=5> 包含7个属性：\n",
    "    \n",
    "➢ distance_from_home：银行卡交易地点与家的距离； \n",
    "\n",
    "➢ distance_from_last_transaction：与上次交易发生的距离；\n",
    "\n",
    "➢ ratio_to_median_purchase_price：近一次交易与以往交易价格中位数的比率；\n",
    "\n",
    "➢ repeat_retailer：交易是否发生在同一个商户；\n",
    "\n",
    "➢ used_chip：是通过芯片（银行卡）进行的交易；\n",
    "\n",
    "➢ used_pin_number：交易时是否使用了 PIN码；\n",
    "\n",
    "➢ online_order：是否是在线交易订单；\n",
    "\n",
    "➢ fraud：诈骗行为（分类标签）；</font><br/>"
   ]
  },
  {
   "cell_type": "markdown",
   "id": "343ffa71",
   "metadata": {
    "papermill": {
     "duration": 0.024332,
     "end_time": "2022-08-09T17:31:48.246780",
     "exception": false,
     "start_time": "2022-08-09T17:31:48.222448",
     "status": "completed"
    },
    "tags": []
   },
   "source": [
    "#### 查看数据行数列数"
   ]
  },
  {
   "cell_type": "code",
   "execution_count": 5,
   "id": "e8b13316",
   "metadata": {
    "execution": {
     "iopub.execute_input": "2022-08-09T17:31:48.297853Z",
     "iopub.status.busy": "2022-08-09T17:31:48.297447Z",
     "iopub.status.idle": "2022-08-09T17:31:48.304613Z",
     "shell.execute_reply": "2022-08-09T17:31:48.303572Z"
    },
    "papermill": {
     "duration": 0.035276,
     "end_time": "2022-08-09T17:31:48.306878",
     "exception": false,
     "start_time": "2022-08-09T17:31:48.271602",
     "status": "completed"
    },
    "tags": []
   },
   "outputs": [
    {
     "data": {
      "text/plain": [
       "(1000000, 8)"
      ]
     },
     "execution_count": 5,
     "metadata": {},
     "output_type": "execute_result"
    }
   ],
   "source": [
    "df.shape"
   ]
  },
  {
   "cell_type": "markdown",
   "id": "18b9fe31",
   "metadata": {
    "papermill": {
     "duration": 0.02456,
     "end_time": "2022-08-09T17:31:48.356774",
     "exception": false,
     "start_time": "2022-08-09T17:31:48.332214",
     "status": "completed"
    },
    "tags": []
   },
   "source": [
    "#### 查看数据基本信息"
   ]
  },
  {
   "cell_type": "code",
   "execution_count": 6,
   "id": "35ac8d2f",
   "metadata": {
    "execution": {
     "iopub.execute_input": "2022-08-09T17:31:48.409478Z",
     "iopub.status.busy": "2022-08-09T17:31:48.409063Z",
     "iopub.status.idle": "2022-08-09T17:31:48.451618Z",
     "shell.execute_reply": "2022-08-09T17:31:48.450160Z"
    },
    "papermill": {
     "duration": 0.071929,
     "end_time": "2022-08-09T17:31:48.453941",
     "exception": false,
     "start_time": "2022-08-09T17:31:48.382012",
     "status": "completed"
    },
    "tags": []
   },
   "outputs": [
    {
     "name": "stdout",
     "output_type": "stream",
     "text": [
      "<class 'pandas.core.frame.DataFrame'>\n",
      "RangeIndex: 1000000 entries, 0 to 999999\n",
      "Data columns (total 8 columns):\n",
      " #   Column                          Non-Null Count    Dtype  \n",
      "---  ------                          --------------    -----  \n",
      " 0   distance_from_home              1000000 non-null  float64\n",
      " 1   distance_from_last_transaction  1000000 non-null  float64\n",
      " 2   ratio_to_median_purchase_price  1000000 non-null  float64\n",
      " 3   repeat_retailer                 1000000 non-null  float64\n",
      " 4   used_chip                       1000000 non-null  float64\n",
      " 5   used_pin_number                 1000000 non-null  float64\n",
      " 6   online_order                    1000000 non-null  float64\n",
      " 7   fraud                           1000000 non-null  float64\n",
      "dtypes: float64(8)\n",
      "memory usage: 61.0 MB\n"
     ]
    }
   ],
   "source": [
    "df.info()"
   ]
  },
  {
   "cell_type": "markdown",
   "id": "02f26cf7",
   "metadata": {
    "papermill": {
     "duration": 0.025087,
     "end_time": "2022-08-09T17:31:48.504208",
     "exception": false,
     "start_time": "2022-08-09T17:31:48.479121",
     "status": "completed"
    },
    "tags": []
   },
   "source": [
    "#### 查看缺失值"
   ]
  },
  {
   "cell_type": "code",
   "execution_count": 7,
   "id": "607b5843",
   "metadata": {
    "execution": {
     "iopub.execute_input": "2022-08-09T17:31:48.555774Z",
     "iopub.status.busy": "2022-08-09T17:31:48.555370Z",
     "iopub.status.idle": "2022-08-09T17:31:48.580632Z",
     "shell.execute_reply": "2022-08-09T17:31:48.579681Z"
    },
    "papermill": {
     "duration": 0.053579,
     "end_time": "2022-08-09T17:31:48.582834",
     "exception": false,
     "start_time": "2022-08-09T17:31:48.529255",
     "status": "completed"
    },
    "tags": []
   },
   "outputs": [
    {
     "data": {
      "text/plain": [
       "distance_from_home                0\n",
       "distance_from_last_transaction    0\n",
       "ratio_to_median_purchase_price    0\n",
       "repeat_retailer                   0\n",
       "used_chip                         0\n",
       "used_pin_number                   0\n",
       "online_order                      0\n",
       "fraud                             0\n",
       "dtype: int64"
      ]
     },
     "execution_count": 7,
     "metadata": {},
     "output_type": "execute_result"
    }
   ],
   "source": [
    "df.isnull().sum()"
   ]
  },
  {
   "cell_type": "markdown",
   "id": "ef4eca10",
   "metadata": {
    "papermill": {
     "duration": 0.024838,
     "end_time": "2022-08-09T17:31:48.632939",
     "exception": false,
     "start_time": "2022-08-09T17:31:48.608101",
     "status": "completed"
    },
    "tags": []
   },
   "source": [
    "<font color='#ff590b'><font size=5> 没有缺失值</font><br/>"
   ]
  },
  {
   "cell_type": "markdown",
   "id": "0af7dd57",
   "metadata": {
    "papermill": {
     "duration": 0.024744,
     "end_time": "2022-08-09T17:31:48.683465",
     "exception": false,
     "start_time": "2022-08-09T17:31:48.658721",
     "status": "completed"
    },
    "tags": []
   },
   "source": [
    "####  查看数据统计信息"
   ]
  },
  {
   "cell_type": "code",
   "execution_count": 8,
   "id": "f801ddf6",
   "metadata": {
    "execution": {
     "iopub.execute_input": "2022-08-09T17:31:48.736539Z",
     "iopub.status.busy": "2022-08-09T17:31:48.735401Z",
     "iopub.status.idle": "2022-08-09T17:31:49.123078Z",
     "shell.execute_reply": "2022-08-09T17:31:49.121935Z"
    },
    "papermill": {
     "duration": 0.416704,
     "end_time": "2022-08-09T17:31:49.125619",
     "exception": false,
     "start_time": "2022-08-09T17:31:48.708915",
     "status": "completed"
    },
    "tags": []
   },
   "outputs": [
    {
     "data": {
      "text/html": [
       "<div>\n",
       "<style scoped>\n",
       "    .dataframe tbody tr th:only-of-type {\n",
       "        vertical-align: middle;\n",
       "    }\n",
       "\n",
       "    .dataframe tbody tr th {\n",
       "        vertical-align: top;\n",
       "    }\n",
       "\n",
       "    .dataframe thead th {\n",
       "        text-align: right;\n",
       "    }\n",
       "</style>\n",
       "<table border=\"1\" class=\"dataframe\">\n",
       "  <thead>\n",
       "    <tr style=\"text-align: right;\">\n",
       "      <th></th>\n",
       "      <th>distance_from_home</th>\n",
       "      <th>distance_from_last_transaction</th>\n",
       "      <th>ratio_to_median_purchase_price</th>\n",
       "      <th>repeat_retailer</th>\n",
       "      <th>used_chip</th>\n",
       "      <th>used_pin_number</th>\n",
       "      <th>online_order</th>\n",
       "      <th>fraud</th>\n",
       "    </tr>\n",
       "  </thead>\n",
       "  <tbody>\n",
       "    <tr>\n",
       "      <th>count</th>\n",
       "      <td>1000000.000000</td>\n",
       "      <td>1000000.000000</td>\n",
       "      <td>1000000.000000</td>\n",
       "      <td>1000000.000000</td>\n",
       "      <td>1000000.000000</td>\n",
       "      <td>1000000.000000</td>\n",
       "      <td>1000000.000000</td>\n",
       "      <td>1000000.000000</td>\n",
       "    </tr>\n",
       "    <tr>\n",
       "      <th>mean</th>\n",
       "      <td>26.628792</td>\n",
       "      <td>5.036519</td>\n",
       "      <td>1.824182</td>\n",
       "      <td>0.881536</td>\n",
       "      <td>0.350399</td>\n",
       "      <td>0.100608</td>\n",
       "      <td>0.650552</td>\n",
       "      <td>0.087403</td>\n",
       "    </tr>\n",
       "    <tr>\n",
       "      <th>std</th>\n",
       "      <td>65.390784</td>\n",
       "      <td>25.843093</td>\n",
       "      <td>2.799589</td>\n",
       "      <td>0.323157</td>\n",
       "      <td>0.477095</td>\n",
       "      <td>0.300809</td>\n",
       "      <td>0.476796</td>\n",
       "      <td>0.282425</td>\n",
       "    </tr>\n",
       "    <tr>\n",
       "      <th>min</th>\n",
       "      <td>0.004874</td>\n",
       "      <td>0.000118</td>\n",
       "      <td>0.004399</td>\n",
       "      <td>0.000000</td>\n",
       "      <td>0.000000</td>\n",
       "      <td>0.000000</td>\n",
       "      <td>0.000000</td>\n",
       "      <td>0.000000</td>\n",
       "    </tr>\n",
       "    <tr>\n",
       "      <th>25%</th>\n",
       "      <td>3.878008</td>\n",
       "      <td>0.296671</td>\n",
       "      <td>0.475673</td>\n",
       "      <td>1.000000</td>\n",
       "      <td>0.000000</td>\n",
       "      <td>0.000000</td>\n",
       "      <td>0.000000</td>\n",
       "      <td>0.000000</td>\n",
       "    </tr>\n",
       "    <tr>\n",
       "      <th>50%</th>\n",
       "      <td>9.967760</td>\n",
       "      <td>0.998650</td>\n",
       "      <td>0.997717</td>\n",
       "      <td>1.000000</td>\n",
       "      <td>0.000000</td>\n",
       "      <td>0.000000</td>\n",
       "      <td>1.000000</td>\n",
       "      <td>0.000000</td>\n",
       "    </tr>\n",
       "    <tr>\n",
       "      <th>75%</th>\n",
       "      <td>25.743985</td>\n",
       "      <td>3.355748</td>\n",
       "      <td>2.096370</td>\n",
       "      <td>1.000000</td>\n",
       "      <td>1.000000</td>\n",
       "      <td>0.000000</td>\n",
       "      <td>1.000000</td>\n",
       "      <td>0.000000</td>\n",
       "    </tr>\n",
       "    <tr>\n",
       "      <th>max</th>\n",
       "      <td>10632.723672</td>\n",
       "      <td>11851.104565</td>\n",
       "      <td>267.802942</td>\n",
       "      <td>1.000000</td>\n",
       "      <td>1.000000</td>\n",
       "      <td>1.000000</td>\n",
       "      <td>1.000000</td>\n",
       "      <td>1.000000</td>\n",
       "    </tr>\n",
       "  </tbody>\n",
       "</table>\n",
       "</div>"
      ],
      "text/plain": [
       "       distance_from_home  distance_from_last_transaction  \\\n",
       "count      1000000.000000                  1000000.000000   \n",
       "mean            26.628792                        5.036519   \n",
       "std             65.390784                       25.843093   \n",
       "min              0.004874                        0.000118   \n",
       "25%              3.878008                        0.296671   \n",
       "50%              9.967760                        0.998650   \n",
       "75%             25.743985                        3.355748   \n",
       "max          10632.723672                    11851.104565   \n",
       "\n",
       "       ratio_to_median_purchase_price  repeat_retailer       used_chip  \\\n",
       "count                  1000000.000000   1000000.000000  1000000.000000   \n",
       "mean                         1.824182         0.881536        0.350399   \n",
       "std                          2.799589         0.323157        0.477095   \n",
       "min                          0.004399         0.000000        0.000000   \n",
       "25%                          0.475673         1.000000        0.000000   \n",
       "50%                          0.997717         1.000000        0.000000   \n",
       "75%                          2.096370         1.000000        1.000000   \n",
       "max                        267.802942         1.000000        1.000000   \n",
       "\n",
       "       used_pin_number    online_order           fraud  \n",
       "count   1000000.000000  1000000.000000  1000000.000000  \n",
       "mean          0.100608        0.650552        0.087403  \n",
       "std           0.300809        0.476796        0.282425  \n",
       "min           0.000000        0.000000        0.000000  \n",
       "25%           0.000000        0.000000        0.000000  \n",
       "50%           0.000000        1.000000        0.000000  \n",
       "75%           0.000000        1.000000        0.000000  \n",
       "max           1.000000        1.000000        1.000000  "
      ]
     },
     "execution_count": 8,
     "metadata": {},
     "output_type": "execute_result"
    }
   ],
   "source": [
    "df.describe()"
   ]
  },
  {
   "cell_type": "markdown",
   "id": "0ed369eb",
   "metadata": {
    "papermill": {
     "duration": 0.025073,
     "end_time": "2022-08-09T17:31:49.176410",
     "exception": false,
     "start_time": "2022-08-09T17:31:49.151337",
     "status": "completed"
    },
    "tags": []
   },
   "source": [
    "#### 自相关矩阵"
   ]
  },
  {
   "cell_type": "code",
   "execution_count": 9,
   "id": "01bff942",
   "metadata": {
    "execution": {
     "iopub.execute_input": "2022-08-09T17:31:49.229529Z",
     "iopub.status.busy": "2022-08-09T17:31:49.228952Z",
     "iopub.status.idle": "2022-08-09T17:31:49.479655Z",
     "shell.execute_reply": "2022-08-09T17:31:49.478894Z"
    },
    "papermill": {
     "duration": 0.279893,
     "end_time": "2022-08-09T17:31:49.481711",
     "exception": false,
     "start_time": "2022-08-09T17:31:49.201818",
     "status": "completed"
    },
    "tags": []
   },
   "outputs": [
    {
     "data": {
      "text/html": [
       "<div>\n",
       "<style scoped>\n",
       "    .dataframe tbody tr th:only-of-type {\n",
       "        vertical-align: middle;\n",
       "    }\n",
       "\n",
       "    .dataframe tbody tr th {\n",
       "        vertical-align: top;\n",
       "    }\n",
       "\n",
       "    .dataframe thead th {\n",
       "        text-align: right;\n",
       "    }\n",
       "</style>\n",
       "<table border=\"1\" class=\"dataframe\">\n",
       "  <thead>\n",
       "    <tr style=\"text-align: right;\">\n",
       "      <th></th>\n",
       "      <th>distance_from_home</th>\n",
       "      <th>distance_from_last_transaction</th>\n",
       "      <th>ratio_to_median_purchase_price</th>\n",
       "      <th>repeat_retailer</th>\n",
       "      <th>used_chip</th>\n",
       "      <th>used_pin_number</th>\n",
       "      <th>online_order</th>\n",
       "      <th>fraud</th>\n",
       "    </tr>\n",
       "  </thead>\n",
       "  <tbody>\n",
       "    <tr>\n",
       "      <th>distance_from_home</th>\n",
       "      <td>1.0000</td>\n",
       "      <td>0.0002</td>\n",
       "      <td>-0.0014</td>\n",
       "      <td>0.1431</td>\n",
       "      <td>-0.0007</td>\n",
       "      <td>-0.0016</td>\n",
       "      <td>-0.0013</td>\n",
       "      <td>0.1876</td>\n",
       "    </tr>\n",
       "    <tr>\n",
       "      <th>distance_from_last_transaction</th>\n",
       "      <td>0.0002</td>\n",
       "      <td>1.0000</td>\n",
       "      <td>0.0010</td>\n",
       "      <td>-0.0009</td>\n",
       "      <td>0.0021</td>\n",
       "      <td>-0.0009</td>\n",
       "      <td>0.0001</td>\n",
       "      <td>0.0919</td>\n",
       "    </tr>\n",
       "    <tr>\n",
       "      <th>ratio_to_median_purchase_price</th>\n",
       "      <td>-0.0014</td>\n",
       "      <td>0.0010</td>\n",
       "      <td>1.0000</td>\n",
       "      <td>0.0014</td>\n",
       "      <td>0.0006</td>\n",
       "      <td>0.0009</td>\n",
       "      <td>-0.0003</td>\n",
       "      <td>0.4623</td>\n",
       "    </tr>\n",
       "    <tr>\n",
       "      <th>repeat_retailer</th>\n",
       "      <td>0.1431</td>\n",
       "      <td>-0.0009</td>\n",
       "      <td>0.0014</td>\n",
       "      <td>1.0000</td>\n",
       "      <td>-0.0013</td>\n",
       "      <td>-0.0004</td>\n",
       "      <td>-0.0005</td>\n",
       "      <td>-0.0014</td>\n",
       "    </tr>\n",
       "    <tr>\n",
       "      <th>used_chip</th>\n",
       "      <td>-0.0007</td>\n",
       "      <td>0.0021</td>\n",
       "      <td>0.0006</td>\n",
       "      <td>-0.0013</td>\n",
       "      <td>1.0000</td>\n",
       "      <td>-0.0014</td>\n",
       "      <td>-0.0002</td>\n",
       "      <td>-0.0610</td>\n",
       "    </tr>\n",
       "    <tr>\n",
       "      <th>used_pin_number</th>\n",
       "      <td>-0.0016</td>\n",
       "      <td>-0.0009</td>\n",
       "      <td>0.0009</td>\n",
       "      <td>-0.0004</td>\n",
       "      <td>-0.0014</td>\n",
       "      <td>1.0000</td>\n",
       "      <td>-0.0003</td>\n",
       "      <td>-0.1003</td>\n",
       "    </tr>\n",
       "    <tr>\n",
       "      <th>online_order</th>\n",
       "      <td>-0.0013</td>\n",
       "      <td>0.0001</td>\n",
       "      <td>-0.0003</td>\n",
       "      <td>-0.0005</td>\n",
       "      <td>-0.0002</td>\n",
       "      <td>-0.0003</td>\n",
       "      <td>1.0000</td>\n",
       "      <td>0.1920</td>\n",
       "    </tr>\n",
       "    <tr>\n",
       "      <th>fraud</th>\n",
       "      <td>0.1876</td>\n",
       "      <td>0.0919</td>\n",
       "      <td>0.4623</td>\n",
       "      <td>-0.0014</td>\n",
       "      <td>-0.0610</td>\n",
       "      <td>-0.1003</td>\n",
       "      <td>0.1920</td>\n",
       "      <td>1.0000</td>\n",
       "    </tr>\n",
       "  </tbody>\n",
       "</table>\n",
       "</div>"
      ],
      "text/plain": [
       "                                distance_from_home  \\\n",
       "distance_from_home                          1.0000   \n",
       "distance_from_last_transaction              0.0002   \n",
       "ratio_to_median_purchase_price             -0.0014   \n",
       "repeat_retailer                             0.1431   \n",
       "used_chip                                  -0.0007   \n",
       "used_pin_number                            -0.0016   \n",
       "online_order                               -0.0013   \n",
       "fraud                                       0.1876   \n",
       "\n",
       "                                distance_from_last_transaction  \\\n",
       "distance_from_home                                      0.0002   \n",
       "distance_from_last_transaction                          1.0000   \n",
       "ratio_to_median_purchase_price                          0.0010   \n",
       "repeat_retailer                                        -0.0009   \n",
       "used_chip                                               0.0021   \n",
       "used_pin_number                                        -0.0009   \n",
       "online_order                                            0.0001   \n",
       "fraud                                                   0.0919   \n",
       "\n",
       "                                ratio_to_median_purchase_price  \\\n",
       "distance_from_home                                     -0.0014   \n",
       "distance_from_last_transaction                          0.0010   \n",
       "ratio_to_median_purchase_price                          1.0000   \n",
       "repeat_retailer                                         0.0014   \n",
       "used_chip                                               0.0006   \n",
       "used_pin_number                                         0.0009   \n",
       "online_order                                           -0.0003   \n",
       "fraud                                                   0.4623   \n",
       "\n",
       "                                repeat_retailer  used_chip  used_pin_number  \\\n",
       "distance_from_home                       0.1431    -0.0007          -0.0016   \n",
       "distance_from_last_transaction          -0.0009     0.0021          -0.0009   \n",
       "ratio_to_median_purchase_price           0.0014     0.0006           0.0009   \n",
       "repeat_retailer                          1.0000    -0.0013          -0.0004   \n",
       "used_chip                               -0.0013     1.0000          -0.0014   \n",
       "used_pin_number                         -0.0004    -0.0014           1.0000   \n",
       "online_order                            -0.0005    -0.0002          -0.0003   \n",
       "fraud                                   -0.0014    -0.0610          -0.1003   \n",
       "\n",
       "                                online_order   fraud  \n",
       "distance_from_home                   -0.0013  0.1876  \n",
       "distance_from_last_transaction        0.0001  0.0919  \n",
       "ratio_to_median_purchase_price       -0.0003  0.4623  \n",
       "repeat_retailer                      -0.0005 -0.0014  \n",
       "used_chip                            -0.0002 -0.0610  \n",
       "used_pin_number                      -0.0003 -0.1003  \n",
       "online_order                          1.0000  0.1920  \n",
       "fraud                                 0.1920  1.0000  "
      ]
     },
     "execution_count": 9,
     "metadata": {},
     "output_type": "execute_result"
    }
   ],
   "source": [
    "df.corr().round(4)"
   ]
  },
  {
   "cell_type": "code",
   "execution_count": 10,
   "id": "cb116514",
   "metadata": {
    "execution": {
     "iopub.execute_input": "2022-08-09T17:31:49.536575Z",
     "iopub.status.busy": "2022-08-09T17:31:49.535926Z",
     "iopub.status.idle": "2022-08-09T17:31:50.475737Z",
     "shell.execute_reply": "2022-08-09T17:31:50.474943Z"
    },
    "papermill": {
     "duration": 0.969072,
     "end_time": "2022-08-09T17:31:50.477971",
     "exception": false,
     "start_time": "2022-08-09T17:31:49.508899",
     "status": "completed"
    },
    "tags": []
   },
   "outputs": [
    {
     "data": {
      "image/png": "[encoded data removed]",
      "text/plain": [
       "<Figure size 432x288 with 3 Axes>"
      ]
     },
     "metadata": {
      "needs_background": "light"
     },
     "output_type": "display_data"
    }
   ],
   "source": [
    "sns.heatmap(df.corr().round(4),  fmt='.20g', cmap=plt.cm.Blues)\n",
    "sns.heatmap(df.corr().round(4),  fmt='.20g', cmap=plt.cm.Blues).get_figure().savefig('./2.png')"
   ]
  },
  {
   "cell_type": "markdown",
   "id": "a263d39b",
   "metadata": {
    "papermill": {
     "duration": 0.025879,
     "end_time": "2022-08-09T17:31:50.530192",
     "exception": false,
     "start_time": "2022-08-09T17:31:50.504313",
     "status": "completed"
    },
    "tags": []
   },
   "source": [
    "### 单个属性数据探索"
   ]
  },
  {
   "cell_type": "code",
   "execution_count": 11,
   "id": "7eefe37d",
   "metadata": {
    "execution": {
     "iopub.execute_input": "2022-08-09T17:31:50.585175Z",
     "iopub.status.busy": "2022-08-09T17:31:50.583885Z",
     "iopub.status.idle": "2022-08-09T17:31:55.056094Z",
     "shell.execute_reply": "2022-08-09T17:31:55.055082Z"
    },
    "papermill": {
     "duration": 4.502741,
     "end_time": "2022-08-09T17:31:55.059282",
     "exception": false,
     "start_time": "2022-08-09T17:31:50.556541",
     "status": "completed"
    },
    "tags": []
   },
   "outputs": [
    {
     "data": {
      "image/png": "[encoded data removed]",
      "text/plain": [
       "<Figure size 1200x1500 with 7 Axes>"
      ]
     },
     "metadata": {},
     "output_type": "display_data"
    }
   ],
   "source": [
    "with sns.axes_style(\"ticks\"):\n",
    "    plt.rcParams['font.sans-serif'] = [u'SimHei']\n",
    "    fig =plt.figure(figsize=(12, 15), dpi=100)\n",
    "   \n",
    "    ax1=fig.add_subplot(421)\n",
    "    ax1=df['distance_from_home'].plot(xlabel='index',ylabel='distance_from_home',title=None).get_figure()\n",
    "   \n",
    "    \n",
    "    ax2=fig.add_subplot(422)\n",
    "    ax2=df['distance_from_last_transaction'].plot(xlabel='index',ylabel='distance_from_last_transaction',title=None).get_figure()\n",
    " \n",
    "    \n",
    "    ax3=fig.add_subplot(423)\n",
    "    ax3=df['ratio_to_median_purchase_price'].plot(xlabel='index',ylabel='ratio_to_median_purchase_price',title=None).get_figure()\n",
    "\n",
    "    \n",
    "    ax4=fig.add_subplot(424)\n",
    "    ax4=sns.countplot(x=df.repeat_retailer,data=df)\n",
    "    \n",
    "  \n",
    "    ax5=fig.add_subplot(425)\n",
    "    ax5=sns.countplot(x=df.used_chip,data=df)\n",
    "   \n",
    "    \n",
    "    ax6=fig.add_subplot(426)\n",
    "    ax6=sns.countplot(x=df.used_pin_number,data=df)\n",
    "   \n",
    "    \n",
    "    ax7=fig.add_subplot(427)\n",
    "    ax7=sns.countplot(x=df.online_order,data=df)\n",
    "\n",
    "    \n",
    "    plt.savefig(r\"./1.png\")\n",
    "    plt.show()"
   ]
  },
  {
   "cell_type": "code",
   "execution_count": 12,
   "id": "8675fb17",
   "metadata": {
    "execution": {
     "iopub.execute_input": "2022-08-09T17:31:55.118324Z",
     "iopub.status.busy": "2022-08-09T17:31:55.117723Z",
     "iopub.status.idle": "2022-08-09T17:31:59.808600Z",
     "shell.execute_reply": "2022-08-09T17:31:59.807425Z"
    },
    "papermill": {
     "duration": 4.723675,
     "end_time": "2022-08-09T17:31:59.811676",
     "exception": false,
     "start_time": "2022-08-09T17:31:55.088001",
     "status": "completed"
    },
    "tags": []
   },
   "outputs": [
    {
     "data": {
      "image/png": "[encoded data removed]",
      "text/plain": [
       "<Figure size 1500x1050 with 4 Axes>"
      ]
     },
     "metadata": {},
     "output_type": "display_data"
    }
   ],
   "source": [
    "with sns.axes_style(\"white\"):\n",
    "    plt.rcParams['font.sans-serif'] = [u'SimHei']\n",
    "    fig =plt.figure(figsize=(15, 10.5), dpi=100)\n",
    "\n",
    "    \n",
    "    ax4=fig.add_subplot(221)\n",
    "    ax4=sns.countplot(hue=df.fraud, x=df.repeat_retailer, data=df).get_figure()\n",
    "    \n",
    "  \n",
    "    ax5=fig.add_subplot(222)\n",
    "    ax5=sns.countplot(hue=df.fraud, x=df.used_chip, data=df).get_figure()\n",
    "   \n",
    "    \n",
    "    ax6=fig.add_subplot(223)\n",
    "    ax6=sns.countplot(hue=df.fraud, x=df.used_pin_number, data=df).get_figure()\n",
    "   \n",
    "    \n",
    "    ax7=fig.add_subplot(224)\n",
    "    ax7=sns.countplot(hue=df.fraud, x=df.online_order, data=df).get_figure()\n",
    "\n",
    "    \n",
    "    plt.savefig(r\"./3.png\")\n",
    "    plt.show()"
   ]
  },
  {
   "cell_type": "markdown",
   "id": "614f353d",
   "metadata": {
    "papermill": {
     "duration": 0.028732,
     "end_time": "2022-08-09T17:31:59.869957",
     "exception": false,
     "start_time": "2022-08-09T17:31:59.841225",
     "status": "completed"
    },
    "tags": []
   },
   "source": [
    "## 特征工程"
   ]
  },
  {
   "cell_type": "markdown",
   "id": "eceb2c67",
   "metadata": {
    "jp-MarkdownHeadingCollapsed": true,
    "papermill": {
     "duration": 0.028944,
     "end_time": "2022-08-09T17:31:59.928340",
     "exception": false,
     "start_time": "2022-08-09T17:31:59.899396",
     "status": "completed"
    },
    "tags": []
   },
   "source": [
    "### 数据预处理"
   ]
  },
  {
   "cell_type": "code",
   "execution_count": 13,
   "id": "3a44dd38",
   "metadata": {
    "execution": {
     "iopub.execute_input": "2022-08-09T17:31:59.988504Z",
     "iopub.status.busy": "2022-08-09T17:31:59.988096Z",
     "iopub.status.idle": "2022-08-09T17:31:59.994302Z",
     "shell.execute_reply": "2022-08-09T17:31:59.993574Z"
    },
    "papermill": {
     "duration": 0.038664,
     "end_time": "2022-08-09T17:31:59.996141",
     "exception": false,
     "start_time": "2022-08-09T17:31:59.957477",
     "status": "completed"
    },
    "tags": []
   },
   "outputs": [
    {
     "data": {
      "text/plain": [
       "'\\ntrain_x=df.iloc[0:700000,0:7]\\ntrain_y=df.iloc[0:700000,[7]]\\ntest_x=df.iloc[700000:,0:7]\\ntest_y=df.iloc[700000:,[7]]\\n'"
      ]
     },
     "execution_count": 13,
     "metadata": {},
     "output_type": "execute_result"
    }
   ],
   "source": [
    "'''\n",
    "train_x=df.iloc[0:700000,0:7]\n",
    "train_y=df.iloc[0:700000,[7]]\n",
    "test_x=df.iloc[700000:,0:7]\n",
    "test_y=df.iloc[700000:,[7]]\n",
    "'''"
   ]
  },
  {
   "cell_type": "code",
   "execution_count": 14,
   "id": "584e6b23",
   "metadata": {
    "execution": {
     "iopub.execute_input": "2022-08-09T17:32:00.055920Z",
     "iopub.status.busy": "2022-08-09T17:32:00.055217Z",
     "iopub.status.idle": "2022-08-09T17:32:00.110435Z",
     "shell.execute_reply": "2022-08-09T17:32:00.109461Z"
    },
    "papermill": {
     "duration": 0.08762,
     "end_time": "2022-08-09T17:32:00.112603",
     "exception": false,
     "start_time": "2022-08-09T17:32:00.024983",
     "status": "completed"
    },
    "tags": []
   },
   "outputs": [
    {
     "data": {
      "text/html": [
       "<div>\n",
       "<style scoped>\n",
       "    .dataframe tbody tr th:only-of-type {\n",
       "        vertical-align: middle;\n",
       "    }\n",
       "\n",
       "    .dataframe tbody tr th {\n",
       "        vertical-align: top;\n",
       "    }\n",
       "\n",
       "    .dataframe thead th {\n",
       "        text-align: right;\n",
       "    }\n",
       "</style>\n",
       "<table border=\"1\" class=\"dataframe\">\n",
       "  <thead>\n",
       "    <tr style=\"text-align: right;\">\n",
       "      <th></th>\n",
       "      <th>distance_from_home</th>\n",
       "      <th>distance_from_last_transaction</th>\n",
       "      <th>ratio_to_median_purchase_price</th>\n",
       "      <th>repeat_retailer</th>\n",
       "      <th>used_chip</th>\n",
       "      <th>used_pin_number</th>\n",
       "      <th>online_order</th>\n",
       "      <th>fraud</th>\n",
       "    </tr>\n",
       "  </thead>\n",
       "  <tbody>\n",
       "    <tr>\n",
       "      <th>0</th>\n",
       "      <td>0.477882</td>\n",
       "      <td>-0.182849</td>\n",
       "      <td>0.043491</td>\n",
       "      <td>1.0</td>\n",
       "      <td>1.0</td>\n",
       "      <td>0.0</td>\n",
       "      <td>0.0</td>\n",
       "      <td>0.0</td>\n",
       "    </tr>\n",
       "    <tr>\n",
       "      <th>1</th>\n",
       "      <td>-0.241607</td>\n",
       "      <td>-0.188094</td>\n",
       "      <td>-0.189300</td>\n",
       "      <td>1.0</td>\n",
       "      <td>0.0</td>\n",
       "      <td>0.0</td>\n",
       "      <td>0.0</td>\n",
       "      <td>0.0</td>\n",
       "    </tr>\n",
       "    <tr>\n",
       "      <th>2</th>\n",
       "      <td>-0.329369</td>\n",
       "      <td>-0.163733</td>\n",
       "      <td>-0.498812</td>\n",
       "      <td>1.0</td>\n",
       "      <td>0.0</td>\n",
       "      <td>0.0</td>\n",
       "      <td>1.0</td>\n",
       "      <td>0.0</td>\n",
       "    </tr>\n",
       "  </tbody>\n",
       "</table>\n",
       "</div>"
      ],
      "text/plain": [
       "   distance_from_home  distance_from_last_transaction  \\\n",
       "0            0.477882                       -0.182849   \n",
       "1           -0.241607                       -0.188094   \n",
       "2           -0.329369                       -0.163733   \n",
       "\n",
       "   ratio_to_median_purchase_price  repeat_retailer  used_chip  \\\n",
       "0                        0.043491              1.0        1.0   \n",
       "1                       -0.189300              1.0        0.0   \n",
       "2                       -0.498812              1.0        0.0   \n",
       "\n",
       "   used_pin_number  online_order  fraud  \n",
       "0              0.0           0.0    0.0  \n",
       "1              0.0           0.0    0.0  \n",
       "2              0.0           1.0    0.0  "
      ]
     },
     "execution_count": 14,
     "metadata": {},
     "output_type": "execute_result"
    }
   ],
   "source": [
    "from sklearn.preprocessing import StandardScaler\n",
    "df.iloc[:,0:3]=StandardScaler().fit_transform(df.iloc[:,0:3])\n",
    "df.head(3)"
   ]
  },
  {
   "cell_type": "code",
   "execution_count": 15,
   "id": "5a806783",
   "metadata": {
    "execution": {
     "iopub.execute_input": "2022-08-09T17:32:00.174194Z",
     "iopub.status.busy": "2022-08-09T17:32:00.173267Z",
     "iopub.status.idle": "2022-08-09T17:32:00.205486Z",
     "shell.execute_reply": "2022-08-09T17:32:00.204319Z"
    },
    "papermill": {
     "duration": 0.065504,
     "end_time": "2022-08-09T17:32:00.207920",
     "exception": false,
     "start_time": "2022-08-09T17:32:00.142416",
     "status": "completed"
    },
    "tags": []
   },
   "outputs": [
    {
     "data": {
      "text/html": [
       "<div>\n",
       "<style scoped>\n",
       "    .dataframe tbody tr th:only-of-type {\n",
       "        vertical-align: middle;\n",
       "    }\n",
       "\n",
       "    .dataframe tbody tr th {\n",
       "        vertical-align: top;\n",
       "    }\n",
       "\n",
       "    .dataframe thead th {\n",
       "        text-align: right;\n",
       "    }\n",
       "</style>\n",
       "<table border=\"1\" class=\"dataframe\">\n",
       "  <thead>\n",
       "    <tr style=\"text-align: right;\">\n",
       "      <th></th>\n",
       "      <th>distance_from_home</th>\n",
       "      <th>distance_from_last_transaction</th>\n",
       "      <th>ratio_to_median_purchase_price</th>\n",
       "      <th>repeat_retailer</th>\n",
       "      <th>repeat_retailer_hot</th>\n",
       "      <th>used_chip</th>\n",
       "      <th>used_chip_hot</th>\n",
       "      <th>used_pin_number</th>\n",
       "      <th>used_pin_number_hot</th>\n",
       "      <th>online_order</th>\n",
       "      <th>online_order_hot</th>\n",
       "      <th>fraud</th>\n",
       "    </tr>\n",
       "  </thead>\n",
       "  <tbody>\n",
       "    <tr>\n",
       "      <th>0</th>\n",
       "      <td>0.477882</td>\n",
       "      <td>-0.182849</td>\n",
       "      <td>0.043491</td>\n",
       "      <td>1.0</td>\n",
       "      <td>0.0</td>\n",
       "      <td>1.0</td>\n",
       "      <td>0.0</td>\n",
       "      <td>0.0</td>\n",
       "      <td>1.0</td>\n",
       "      <td>0.0</td>\n",
       "      <td>1.0</td>\n",
       "      <td>0.0</td>\n",
       "    </tr>\n",
       "    <tr>\n",
       "      <th>1</th>\n",
       "      <td>-0.241607</td>\n",
       "      <td>-0.188094</td>\n",
       "      <td>-0.189300</td>\n",
       "      <td>1.0</td>\n",
       "      <td>0.0</td>\n",
       "      <td>0.0</td>\n",
       "      <td>1.0</td>\n",
       "      <td>0.0</td>\n",
       "      <td>1.0</td>\n",
       "      <td>0.0</td>\n",
       "      <td>1.0</td>\n",
       "      <td>0.0</td>\n",
       "    </tr>\n",
       "    <tr>\n",
       "      <th>2</th>\n",
       "      <td>-0.329369</td>\n",
       "      <td>-0.163733</td>\n",
       "      <td>-0.498812</td>\n",
       "      <td>1.0</td>\n",
       "      <td>0.0</td>\n",
       "      <td>0.0</td>\n",
       "      <td>1.0</td>\n",
       "      <td>0.0</td>\n",
       "      <td>1.0</td>\n",
       "      <td>1.0</td>\n",
       "      <td>0.0</td>\n",
       "      <td>0.0</td>\n",
       "    </tr>\n",
       "  </tbody>\n",
       "</table>\n",
       "</div>"
      ],
      "text/plain": [
       "   distance_from_home  distance_from_last_transaction  \\\n",
       "0            0.477882                       -0.182849   \n",
       "1           -0.241607                       -0.188094   \n",
       "2           -0.329369                       -0.163733   \n",
       "\n",
       "   ratio_to_median_purchase_price  repeat_retailer  repeat_retailer_hot  \\\n",
       "0                        0.043491              1.0                  0.0   \n",
       "1                       -0.189300              1.0                  0.0   \n",
       "2                       -0.498812              1.0                  0.0   \n",
       "\n",
       "   used_chip  used_chip_hot  used_pin_number  used_pin_number_hot  \\\n",
       "0        1.0            0.0              0.0                  1.0   \n",
       "1        0.0            1.0              0.0                  1.0   \n",
       "2        0.0            1.0              0.0                  1.0   \n",
       "\n",
       "   online_order  online_order_hot  fraud  \n",
       "0           0.0               1.0    0.0  \n",
       "1           0.0               1.0    0.0  \n",
       "2           1.0               0.0    0.0  "
      ]
     },
     "execution_count": 15,
     "metadata": {},
     "output_type": "execute_result"
    }
   ],
   "source": [
    "df.insert (4 ,'repeat_retailer_hot', (df['repeat_retailer']==0).astype('float32')),df.insert (6 ,'used_chip_hot', (df['used_chip']==0).astype('float32'))\n",
    "df.insert (8 ,'used_pin_number_hot', (df['used_pin_number']==0).astype('float32')),df.insert (10 ,'online_order_hot', (df['online_order']==0).astype('float32'))\n",
    "df.head(3)"
   ]
  },
  {
   "cell_type": "code",
   "execution_count": 16,
   "id": "11116af1",
   "metadata": {
    "execution": {
     "iopub.execute_input": "2022-08-09T17:32:00.270244Z",
     "iopub.status.busy": "2022-08-09T17:32:00.269444Z",
     "iopub.status.idle": "2022-08-09T17:32:00.534385Z",
     "shell.execute_reply": "2022-08-09T17:32:00.533231Z"
    },
    "papermill": {
     "duration": 0.298812,
     "end_time": "2022-08-09T17:32:00.536677",
     "exception": false,
     "start_time": "2022-08-09T17:32:00.237865",
     "status": "completed"
    },
    "tags": []
   },
   "outputs": [
    {
     "data": {
      "text/plain": [
       "[(700000, 11), (700000, 1), (300000, 11), (300000, 1)]"
      ]
     },
     "execution_count": 16,
     "metadata": {},
     "output_type": "execute_result"
    }
   ],
   "source": [
    "from sklearn.model_selection import train_test_split\n",
    "x=df.iloc[:,0:11]\n",
    "y=df.iloc[:,[11]]\n",
    "train_x,test_x,train_y,test_y=train_test_split(x,y,test_size=0.3,random_state=420)\n",
    "[train_x.shape,train_y.shape,test_x.shape,test_y.shape]"
   ]
  },
  {
   "cell_type": "code",
   "execution_count": null,
   "id": "5cfd3841",
   "metadata": {
    "papermill": {
     "duration": 0.029169,
     "end_time": "2022-08-09T17:32:00.596388",
     "exception": false,
     "start_time": "2022-08-09T17:32:00.567219",
     "status": "completed"
    },
    "tags": []
   },
   "outputs": [],
   "source": []
  },
  {
   "cell_type": "markdown",
   "id": "f450a36b",
   "metadata": {
    "papermill": {
     "duration": 0.029602,
     "end_time": "2022-08-09T17:32:00.655875",
     "exception": false,
     "start_time": "2022-08-09T17:32:00.626273",
     "status": "completed"
    },
    "tags": []
   },
   "source": [
    "### 问题一"
   ]
  },
  {
   "cell_type": "markdown",
   "id": "2787f088",
   "metadata": {
    "execution": {
     "iopub.execute_input": "2022-08-09T02:56:25.978202Z",
     "iopub.status.busy": "2022-08-09T02:56:25.977545Z",
     "iopub.status.idle": "2022-08-09T02:56:25.983744Z",
     "shell.execute_reply": "2022-08-09T02:56:25.982244Z",
     "shell.execute_reply.started": "2022-08-09T02:56:25.978156Z"
    },
    "papermill": {
     "duration": 0.029682,
     "end_time": "2022-08-09T17:32:00.715258",
     "exception": false,
     "start_time": "2022-08-09T17:32:00.685576",
     "status": "completed"
    },
    "tags": []
   },
   "source": [
    "#### 逻辑回归"
   ]
  },
  {
   "cell_type": "code",
   "execution_count": 17,
   "id": "d3a703b9",
   "metadata": {
    "execution": {
     "iopub.execute_input": "2022-08-09T17:32:00.776763Z",
     "iopub.status.busy": "2022-08-09T17:32:00.776333Z",
     "iopub.status.idle": "2022-08-09T17:32:05.175920Z",
     "shell.execute_reply": "2022-08-09T17:32:05.174771Z"
    },
    "papermill": {
     "duration": 4.434861,
     "end_time": "2022-08-09T17:32:05.180016",
     "exception": false,
     "start_time": "2022-08-09T17:32:00.745155",
     "status": "completed"
    },
    "tags": []
   },
   "outputs": [
    {
     "data": {
      "text/plain": [
       "95.83"
      ]
     },
     "execution_count": 17,
     "metadata": {},
     "output_type": "execute_result"
    }
   ],
   "source": [
    "#逻辑回归\n",
    "logreg = LogisticRegression()\n",
    "logreg.fit(train_x, train_y)\n",
    "acc_log = round(logreg.score(test_x, test_y) * 100, 2)\n",
    "acc_log"
   ]
  },
  {
   "cell_type": "markdown",
   "id": "d38a3e97",
   "metadata": {
    "papermill": {
     "duration": 0.029011,
     "end_time": "2022-08-09T17:32:05.261232",
     "exception": false,
     "start_time": "2022-08-09T17:32:05.232221",
     "status": "completed"
    },
    "tags": []
   },
   "source": [
    "#### KNN"
   ]
  },
  {
   "cell_type": "code",
   "execution_count": 18,
   "id": "ee0b1bc5",
   "metadata": {
    "execution": {
     "iopub.execute_input": "2022-08-09T17:32:05.322580Z",
     "iopub.status.busy": "2022-08-09T17:32:05.322217Z",
     "iopub.status.idle": "2022-08-09T17:33:02.456406Z",
     "shell.execute_reply": "2022-08-09T17:33:02.455296Z"
    },
    "papermill": {
     "duration": 57.197724,
     "end_time": "2022-08-09T17:33:02.488670",
     "exception": false,
     "start_time": "2022-08-09T17:32:05.290946",
     "status": "completed"
    },
    "tags": []
   },
   "outputs": [
    {
     "data": {
      "text/plain": [
       "99.85"
      ]
     },
     "execution_count": 18,
     "metadata": {},
     "output_type": "execute_result"
    }
   ],
   "source": [
    "#KNN\n",
    "knn = KNeighborsClassifier(n_neighbors = 4)\n",
    "knn.fit(train_x, train_y)\n",
    "acc_knn = round(knn.score(test_x, test_y) * 100, 2)\n",
    "acc_knn"
   ]
  },
  {
   "cell_type": "markdown",
   "id": "e43af853",
   "metadata": {
    "papermill": {
     "duration": 0.030129,
     "end_time": "2022-08-09T17:33:02.549252",
     "exception": false,
     "start_time": "2022-08-09T17:33:02.519123",
     "status": "completed"
    },
    "tags": []
   },
   "source": [
    "#### 朴素贝叶斯"
   ]
  },
  {
   "cell_type": "code",
   "execution_count": 19,
   "id": "0615a40c",
   "metadata": {
    "execution": {
     "iopub.execute_input": "2022-08-09T17:33:02.611583Z",
     "iopub.status.busy": "2022-08-09T17:33:02.610941Z",
     "iopub.status.idle": "2022-08-09T17:33:02.983036Z",
     "shell.execute_reply": "2022-08-09T17:33:02.981853Z"
    },
    "papermill": {
     "duration": 0.406082,
     "end_time": "2022-08-09T17:33:02.985266",
     "exception": false,
     "start_time": "2022-08-09T17:33:02.579184",
     "status": "completed"
    },
    "tags": []
   },
   "outputs": [
    {
     "data": {
      "text/plain": [
       "64.92"
      ]
     },
     "execution_count": 19,
     "metadata": {},
     "output_type": "execute_result"
    }
   ],
   "source": [
    "#朴素贝叶斯\n",
    "gaussian = GaussianNB()\n",
    "gaussian.fit(train_x, train_y)\n",
    "acc_gaussian = round(gaussian.score(test_x, test_y) * 100, 2)\n",
    "acc_gaussian"
   ]
  },
  {
   "cell_type": "markdown",
   "id": "46a7270b",
   "metadata": {
    "papermill": {
     "duration": 0.030633,
     "end_time": "2022-08-09T17:33:03.047267",
     "exception": false,
     "start_time": "2022-08-09T17:33:03.016634",
     "status": "completed"
    },
    "tags": []
   },
   "source": [
    "#### 感知机"
   ]
  },
  {
   "cell_type": "code",
   "execution_count": 20,
   "id": "50ad42a2",
   "metadata": {
    "execution": {
     "iopub.execute_input": "2022-08-09T17:33:03.110614Z",
     "iopub.status.busy": "2022-08-09T17:33:03.109960Z",
     "iopub.status.idle": "2022-08-09T17:33:04.534291Z",
     "shell.execute_reply": "2022-08-09T17:33:04.532669Z"
    },
    "papermill": {
     "duration": 1.460255,
     "end_time": "2022-08-09T17:33:04.538289",
     "exception": false,
     "start_time": "2022-08-09T17:33:03.078034",
     "status": "completed"
    },
    "tags": []
   },
   "outputs": [
    {
     "data": {
      "text/plain": [
       "96.05"
      ]
     },
     "execution_count": 20,
     "metadata": {},
     "output_type": "execute_result"
    }
   ],
   "source": [
    "#感知机\n",
    "perceptron = Perceptron()\n",
    "perceptron.fit(train_x, train_y)\n",
    "acc_perceptron = round(perceptron.score(test_x, test_y) * 100, 2)\n",
    "acc_perceptron"
   ]
  },
  {
   "cell_type": "markdown",
   "id": "76038ceb",
   "metadata": {
    "papermill": {
     "duration": 0.041262,
     "end_time": "2022-08-09T17:33:04.636756",
     "exception": false,
     "start_time": "2022-08-09T17:33:04.595494",
     "status": "completed"
    },
    "tags": []
   },
   "source": [
    "#### 线性SVC"
   ]
  },
  {
   "cell_type": "code",
   "execution_count": 21,
   "id": "02f6a8c3",
   "metadata": {
    "execution": {
     "iopub.execute_input": "2022-08-09T17:33:04.707307Z",
     "iopub.status.busy": "2022-08-09T17:33:04.706766Z",
     "iopub.status.idle": "2022-08-09T17:35:03.879748Z",
     "shell.execute_reply": "2022-08-09T17:35:03.878596Z"
    },
    "papermill": {
     "duration": 119.262847,
     "end_time": "2022-08-09T17:35:03.937571",
     "exception": false,
     "start_time": "2022-08-09T17:33:04.674724",
     "status": "completed"
    },
    "tags": []
   },
   "outputs": [
    {
     "data": {
      "text/plain": [
       "93.83"
      ]
     },
     "execution_count": 21,
     "metadata": {},
     "output_type": "execute_result"
    }
   ],
   "source": [
    "#线性SVC\n",
    "linear_svc = LinearSVC()\n",
    "linear_svc.fit(train_x, train_y)\n",
    "acc_linear_svc = round(linear_svc.score(test_x, test_y) * 100, 2)\n",
    "acc_linear_svc"
   ]
  },
  {
   "cell_type": "markdown",
   "id": "120cd2b9",
   "metadata": {
    "papermill": {
     "duration": 0.030898,
     "end_time": "2022-08-09T17:35:03.999250",
     "exception": false,
     "start_time": "2022-08-09T17:35:03.968352",
     "status": "completed"
    },
    "tags": []
   },
   "source": [
    "#### 随机剃度下降"
   ]
  },
  {
   "cell_type": "code",
   "execution_count": 22,
   "id": "840b5872",
   "metadata": {
    "execution": {
     "iopub.execute_input": "2022-08-09T17:35:04.062051Z",
     "iopub.status.busy": "2022-08-09T17:35:04.061659Z",
     "iopub.status.idle": "2022-08-09T17:35:05.195129Z",
     "shell.execute_reply": "2022-08-09T17:35:05.193591Z"
    },
    "papermill": {
     "duration": 1.169314,
     "end_time": "2022-08-09T17:35:05.199158",
     "exception": false,
     "start_time": "2022-08-09T17:35:04.029844",
     "status": "completed"
    },
    "tags": []
   },
   "outputs": [
    {
     "data": {
      "text/plain": [
       "95.77"
      ]
     },
     "execution_count": 22,
     "metadata": {},
     "output_type": "execute_result"
    }
   ],
   "source": [
    "#随机剃度下降\n",
    "sgd = SGDClassifier()\n",
    "sgd.fit(train_x, train_y)\n",
    "acc_sgd = round(sgd.score(test_x, test_y) * 100, 2)\n",
    "acc_sgd"
   ]
  },
  {
   "cell_type": "markdown",
   "id": "6cc91c48",
   "metadata": {
    "papermill": {
     "duration": 0.030422,
     "end_time": "2022-08-09T17:35:05.280082",
     "exception": false,
     "start_time": "2022-08-09T17:35:05.249660",
     "status": "completed"
    },
    "tags": []
   },
   "source": [
    "#### 决策树"
   ]
  },
  {
   "cell_type": "code",
   "execution_count": 23,
   "id": "ed32e4d2",
   "metadata": {
    "execution": {
     "iopub.execute_input": "2022-08-09T17:35:05.343813Z",
     "iopub.status.busy": "2022-08-09T17:35:05.343432Z",
     "iopub.status.idle": "2022-08-09T17:35:07.418068Z",
     "shell.execute_reply": "2022-08-09T17:35:07.416910Z"
    },
    "papermill": {
     "duration": 2.109688,
     "end_time": "2022-08-09T17:35:07.420507",
     "exception": false,
     "start_time": "2022-08-09T17:35:05.310819",
     "status": "completed"
    },
    "tags": []
   },
   "outputs": [
    {
     "data": {
      "text/plain": [
       "100.0"
      ]
     },
     "execution_count": 23,
     "metadata": {},
     "output_type": "execute_result"
    }
   ],
   "source": [
    "#决策树\n",
    "decision_tree = DecisionTreeClassifier()\n",
    "decision_tree.fit(train_x, train_y)\n",
    "acc_decision_tree = round(decision_tree.score(test_x, test_y) * 100, 2)\n",
    "acc_decision_tree"
   ]
  },
  {
   "cell_type": "markdown",
   "id": "437a2c4d",
   "metadata": {
    "papermill": {
     "duration": 0.030452,
     "end_time": "2022-08-09T17:35:07.482280",
     "exception": false,
     "start_time": "2022-08-09T17:35:07.451828",
     "status": "completed"
    },
    "tags": []
   },
   "source": [
    "#### 随机森林"
   ]
  },
  {
   "cell_type": "code",
   "execution_count": 24,
   "id": "adfa9361",
   "metadata": {
    "execution": {
     "iopub.execute_input": "2022-08-09T17:35:07.545482Z",
     "iopub.status.busy": "2022-08-09T17:35:07.545075Z",
     "iopub.status.idle": "2022-08-09T17:36:33.742584Z",
     "shell.execute_reply": "2022-08-09T17:36:33.741385Z"
    },
    "papermill": {
     "duration": 86.262358,
     "end_time": "2022-08-09T17:36:33.775323",
     "exception": false,
     "start_time": "2022-08-09T17:35:07.512965",
     "status": "completed"
    },
    "tags": []
   },
   "outputs": [
    {
     "data": {
      "text/plain": [
       "100.0"
      ]
     },
     "execution_count": 24,
     "metadata": {},
     "output_type": "execute_result"
    }
   ],
   "source": [
    "#随机森林\n",
    "random_forest = RandomForestClassifier(n_estimators=100)\n",
    "random_forest.fit(train_x, train_y)\n",
    "acc_random_forest = round(random_forest.score(test_x, test_y) * 100, 2)\n",
    "acc_random_forest"
   ]
  },
  {
   "cell_type": "markdown",
   "id": "4ddc7102",
   "metadata": {
    "papermill": {
     "duration": 0.029928,
     "end_time": "2022-08-09T17:36:33.835826",
     "exception": false,
     "start_time": "2022-08-09T17:36:33.805898",
     "status": "completed"
    },
    "tags": []
   },
   "source": [
    "#### LGB"
   ]
  },
  {
   "cell_type": "code",
   "execution_count": 25,
   "id": "2b586f29",
   "metadata": {
    "execution": {
     "iopub.execute_input": "2022-08-09T17:36:33.898507Z",
     "iopub.status.busy": "2022-08-09T17:36:33.898129Z",
     "iopub.status.idle": "2022-08-09T17:36:34.826460Z",
     "shell.execute_reply": "2022-08-09T17:36:34.825349Z"
    },
    "papermill": {
     "duration": 0.96298,
     "end_time": "2022-08-09T17:36:34.829187",
     "exception": false,
     "start_time": "2022-08-09T17:36:33.866207",
     "status": "completed"
    },
    "tags": []
   },
   "outputs": [
    {
     "data": {
      "text/html": [
       "<style type='text/css'>\n",
       ".datatable table.frame { margin-bottom: 0; }\n",
       ".datatable table.frame thead { border-bottom: none; }\n",
       ".datatable table.frame tr.coltypes td {  color: #FFFFFF;  line-height: 6px;  padding: 0 0.5em;}\n",
       ".datatable .bool    { background: #DDDD99; }\n",
       ".datatable .object  { background: #565656; }\n",
       ".datatable .int     { background: #5D9E5D; }\n",
       ".datatable .float   { background: #4040CC; }\n",
       ".datatable .str     { background: #CC4040; }\n",
       ".datatable .time    { background: #40CC40; }\n",
       ".datatable .row_index {  background: var(--jp-border-color3);  border-right: 1px solid var(--jp-border-color0);  color: var(--jp-ui-font-color3);  font-size: 9px;}\n",
       ".datatable .frame tbody td { text-align: left; }\n",
       ".datatable .frame tr.coltypes .row_index {  background: var(--jp-border-color0);}\n",
       ".datatable th:nth-child(2) { padding-left: 12px; }\n",
       ".datatable .hellipsis {  color: var(--jp-cell-editor-border-color);}\n",
       ".datatable .vellipsis {  background: var(--jp-layout-color0);  color: var(--jp-cell-editor-border-color);}\n",
       ".datatable .na {  color: var(--jp-cell-editor-border-color);  font-size: 80%;}\n",
       ".datatable .sp {  opacity: 0.25;}\n",
       ".datatable .footer { font-size: 9px; }\n",
       ".datatable .frame_dimensions {  background: var(--jp-border-color3);  border-top: 1px solid var(--jp-border-color0);  color: var(--jp-ui-font-color3);  display: inline-block;  opacity: 0.6;  padding: 1px 10px 1px 5px;}\n",
       "</style>\n"
      ],
      "text/plain": [
       "<IPython.core.display.HTML object>"
      ]
     },
     "metadata": {},
     "output_type": "display_data"
    }
   ],
   "source": [
    "import lightgbm as lgb"
   ]
  },
  {
   "cell_type": "code",
   "execution_count": 26,
   "id": "25b94811",
   "metadata": {
    "execution": {
     "iopub.execute_input": "2022-08-09T17:36:34.893480Z",
     "iopub.status.busy": "2022-08-09T17:36:34.892589Z",
     "iopub.status.idle": "2022-08-09T17:36:34.898011Z",
     "shell.execute_reply": "2022-08-09T17:36:34.896820Z"
    },
    "papermill": {
     "duration": 0.03966,
     "end_time": "2022-08-09T17:36:34.900190",
     "exception": false,
     "start_time": "2022-08-09T17:36:34.860530",
     "status": "completed"
    },
    "tags": []
   },
   "outputs": [],
   "source": [
    "lgb_train = lgb.Dataset(train_x, train_y)\n",
    "lgb_eval = lgb.Dataset(test_x, test_y, reference=lgb_train)"
   ]
  },
  {
   "cell_type": "code",
   "execution_count": 27,
   "id": "0fa3fcfa",
   "metadata": {
    "execution": {
     "iopub.execute_input": "2022-08-09T17:36:34.964105Z",
     "iopub.status.busy": "2022-08-09T17:36:34.963745Z",
     "iopub.status.idle": "2022-08-09T17:36:34.968417Z",
     "shell.execute_reply": "2022-08-09T17:36:34.967691Z"
    },
    "papermill": {
     "duration": 0.039168,
     "end_time": "2022-08-09T17:36:34.970357",
     "exception": false,
     "start_time": "2022-08-09T17:36:34.931189",
     "status": "completed"
    },
    "tags": []
   },
   "outputs": [],
   "source": [
    "# 参数\n",
    "params = {\n",
    "    'task': 'train',\n",
    "    'boosting_type': 'gbdt',  # 设置提升类型\n",
    "    'objective': 'regression',  # 目标函数\n",
    "    'metric': {'l2', 'auc'},  # 评估函数\n",
    "    'num_leaves': 31,  # 叶子节点数\n",
    "    'learning_rate': 0.05,  # 学习速率\n",
    "    'feature_fraction': 0.9,  # 建树的特征选择比例\n",
    "    'bagging_fraction': 0.8,  # 建树的样本采样比例\n",
    "    'bagging_freq': 5,  # k 意味着每 k 次迭代执行bagging\n",
    "    'verbose': 1  # <0 显示致命的, =0 显示错误 (警告), >0 显示信息\n",
    "}"
   ]
  },
  {
   "cell_type": "code",
   "execution_count": 28,
   "id": "5a4a7586",
   "metadata": {
    "execution": {
     "iopub.execute_input": "2022-08-09T17:36:35.033923Z",
     "iopub.status.busy": "2022-08-09T17:36:35.033450Z",
     "iopub.status.idle": "2022-08-09T17:36:37.541701Z",
     "shell.execute_reply": "2022-08-09T17:36:37.540712Z"
    },
    "papermill": {
     "duration": 2.542723,
     "end_time": "2022-08-09T17:36:37.544335",
     "exception": false,
     "start_time": "2022-08-09T17:36:35.001612",
     "status": "completed"
    },
    "tags": []
   },
   "outputs": [
    {
     "name": "stdout",
     "output_type": "stream",
     "text": [
      "[LightGBM] [Warning] Auto-choosing row-wise multi-threading, the overhead of testing was 0.029670 seconds.\n",
      "You can set `force_row_wise=true` to remove the overhead.\n",
      "And if memory is not enough, you can set `force_col_wise=true`.\n",
      "[LightGBM] [Info] Total Bins 781\n",
      "[LightGBM] [Info] Number of data points in the train set: 700000, number of used features: 11\n",
      "[LightGBM] [Info] Start training from score 0.087434\n",
      "[1]\tvalid_0's l2: 0.0720581\tvalid_0's auc: 0.999944\n",
      "Training until validation scores don't improve for 20 rounds\n",
      "[2]\tvalid_0's l2: 0.0651579\tvalid_0's auc: 0.999944\n",
      "[3]\tvalid_0's l2: 0.0589304\tvalid_0's auc: 0.999944\n",
      "[4]\tvalid_0's l2: 0.05331\tvalid_0's auc: 0.999944\n",
      "[5]\tvalid_0's l2: 0.0482374\tvalid_0's auc: 0.999944\n",
      "[6]\tvalid_0's l2: 0.0436601\tvalid_0's auc: 0.999945\n",
      "[7]\tvalid_0's l2: 0.0395289\tvalid_0's auc: 0.999946\n",
      "[8]\tvalid_0's l2: 0.0358003\tvalid_0's auc: 0.999946\n",
      "[9]\tvalid_0's l2: 0.0324354\tvalid_0's auc: 0.999946\n",
      "[10]\tvalid_0's l2: 0.0293979\tvalid_0's auc: 0.999946\n",
      "[11]\tvalid_0's l2: 0.0266533\tvalid_0's auc: 0.99993\n",
      "[12]\tvalid_0's l2: 0.0241762\tvalid_0's auc: 0.999929\n",
      "[13]\tvalid_0's l2: 0.0219402\tvalid_0's auc: 0.999929\n",
      "[14]\tvalid_0's l2: 0.0199221\tvalid_0's auc: 0.99993\n",
      "[15]\tvalid_0's l2: 0.0181007\tvalid_0's auc: 0.99993\n",
      "[16]\tvalid_0's l2: 0.0164553\tvalid_0's auc: 0.99993\n",
      "[17]\tvalid_0's l2: 0.0149713\tvalid_0's auc: 0.99993\n",
      "[18]\tvalid_0's l2: 0.0136304\tvalid_0's auc: 0.99993\n",
      "[19]\tvalid_0's l2: 0.0124216\tvalid_0's auc: 0.99993\n",
      "[20]\tvalid_0's l2: 0.0113292\tvalid_0's auc: 0.99993\n",
      "[21]\tvalid_0's l2: 0.0103447\tvalid_0's auc: 0.99993\n",
      "[22]\tvalid_0's l2: 0.00945643\tvalid_0's auc: 0.99993\n",
      "[23]\tvalid_0's l2: 0.00865418\tvalid_0's auc: 0.99993\n",
      "[24]\tvalid_0's l2: 0.00809043\tvalid_0's auc: 0.999931\n",
      "[25]\tvalid_0's l2: 0.0074206\tvalid_0's auc: 0.999931\n",
      "[26]\tvalid_0's l2: 0.00681613\tvalid_0's auc: 0.999931\n",
      "[27]\tvalid_0's l2: 0.0062706\tvalid_0's auc: 0.999931\n",
      "[28]\tvalid_0's l2: 0.00577776\tvalid_0's auc: 0.999931\n",
      "[29]\tvalid_0's l2: 0.00533164\tvalid_0's auc: 0.999931\n",
      "[30]\tvalid_0's l2: 0.00502685\tvalid_0's auc: 0.999969\n",
      "[31]\tvalid_0's l2: 0.00465503\tvalid_0's auc: 0.999969\n",
      "[32]\tvalid_0's l2: 0.00431977\tvalid_0's auc: 0.999969\n",
      "[33]\tvalid_0's l2: 0.00409586\tvalid_0's auc: 0.999969\n",
      "[34]\tvalid_0's l2: 0.00381495\tvalid_0's auc: 0.999969\n",
      "[35]\tvalid_0's l2: 0.00356179\tvalid_0's auc: 0.999969\n",
      "[36]\tvalid_0's l2: 0.00339753\tvalid_0's auc: 0.999968\n",
      "[37]\tvalid_0's l2: 0.00319853\tvalid_0's auc: 0.999968\n",
      "[38]\tvalid_0's l2: 0.00301902\tvalid_0's auc: 0.999968\n",
      "[39]\tvalid_0's l2: 0.00284252\tvalid_0's auc: 0.999968\n",
      "[40]\tvalid_0's l2: 0.00268321\tvalid_0's auc: 0.999968\n",
      "[41]\tvalid_0's l2: 0.00263108\tvalid_0's auc: 0.999969\n",
      "[42]\tvalid_0's l2: 0.00249237\tvalid_0's auc: 0.999969\n",
      "[43]\tvalid_0's l2: 0.00245004\tvalid_0's auc: 0.999969\n",
      "[44]\tvalid_0's l2: 0.00232923\tvalid_0's auc: 0.999969\n",
      "[45]\tvalid_0's l2: 0.00221979\tvalid_0's auc: 0.999969\n",
      "[46]\tvalid_0's l2: 0.00212876\tvalid_0's auc: 0.999969\n",
      "[47]\tvalid_0's l2: 0.00203978\tvalid_0's auc: 0.999969\n",
      "[48]\tvalid_0's l2: 0.00195886\tvalid_0's auc: 0.999969\n",
      "[49]\tvalid_0's l2: 0.00188589\tvalid_0's auc: 0.999969\n",
      "[50]\tvalid_0's l2: 0.00182051\tvalid_0's auc: 0.999969\n",
      "Did not meet early stopping. Best iteration is:\n",
      "[50]\tvalid_0's l2: 0.00182051\tvalid_0's auc: 0.999969\n"
     ]
    }
   ],
   "source": [
    "# 模型训练\n",
    "gbm = lgb.train(params, lgb_train, num_boost_round=50, valid_sets=lgb_eval, early_stopping_rounds=20)"
   ]
  },
  {
   "cell_type": "code",
   "execution_count": 29,
   "id": "1108270e",
   "metadata": {
    "execution": {
     "iopub.execute_input": "2022-08-09T17:36:37.623520Z",
     "iopub.status.busy": "2022-08-09T17:36:37.622615Z",
     "iopub.status.idle": "2022-08-09T17:36:37.642558Z",
     "shell.execute_reply": "2022-08-09T17:36:37.641526Z"
    },
    "papermill": {
     "duration": 0.06008,
     "end_time": "2022-08-09T17:36:37.644939",
     "exception": false,
     "start_time": "2022-08-09T17:36:37.584859",
     "status": "completed"
    },
    "tags": []
   },
   "outputs": [
    {
     "data": {
      "text/plain": [
       "<lightgbm.basic.Booster at 0x7f9b1e47c4d0>"
      ]
     },
     "execution_count": 29,
     "metadata": {},
     "output_type": "execute_result"
    }
   ],
   "source": [
    "# 模型保存\n",
    "gbm.save_model('model.txt')"
   ]
  },
  {
   "cell_type": "code",
   "execution_count": 30,
   "id": "bba0ebd9",
   "metadata": {
    "execution": {
     "iopub.execute_input": "2022-08-09T17:36:37.713872Z",
     "iopub.status.busy": "2022-08-09T17:36:37.713477Z",
     "iopub.status.idle": "2022-08-09T17:36:37.753816Z",
     "shell.execute_reply": "2022-08-09T17:36:37.752609Z"
    },
    "papermill": {
     "duration": 0.076398,
     "end_time": "2022-08-09T17:36:37.756732",
     "exception": false,
     "start_time": "2022-08-09T17:36:37.680334",
     "status": "completed"
    },
    "tags": []
   },
   "outputs": [],
   "source": [
    "# 模型加载\n",
    "gbm = lgb.Booster(model_file='model.txt')"
   ]
  },
  {
   "cell_type": "code",
   "execution_count": 31,
   "id": "cb24e2a5",
   "metadata": {
    "execution": {
     "iopub.execute_input": "2022-08-09T17:36:37.825750Z",
     "iopub.status.busy": "2022-08-09T17:36:37.825300Z",
     "iopub.status.idle": "2022-08-09T17:36:38.190749Z",
     "shell.execute_reply": "2022-08-09T17:36:38.189401Z"
    },
    "papermill": {
     "duration": 0.403094,
     "end_time": "2022-08-09T17:36:38.193700",
     "exception": false,
     "start_time": "2022-08-09T17:36:37.790606",
     "status": "completed"
    },
    "tags": []
   },
   "outputs": [
    {
     "name": "stdout",
     "output_type": "stream",
     "text": [
      "The rmse of prediction is: 99.79733333333334\n"
     ]
    }
   ],
   "source": [
    "# 模型预测\n",
    "y_pred = gbm.predict(test_x, num_iteration=gbm.best_iteration)\n",
    "y_pred[y_pred>=0.5]=1\n",
    "y_pred[y_pred<0.5]=0\n",
    "\n",
    "\n",
    "# 模型评估\n",
    "print('The rmse of prediction is:',accuracy_score(test_y, y_pred) * 100)\n",
    "acc_LGB=accuracy_score(test_y, y_pred) * 100"
   ]
  },
  {
   "cell_type": "markdown",
   "id": "1c4728be",
   "metadata": {
    "papermill": {
     "duration": 0.032245,
     "end_time": "2022-08-09T17:36:38.260493",
     "exception": false,
     "start_time": "2022-08-09T17:36:38.228248",
     "status": "completed"
    },
    "tags": []
   },
   "source": [
    "#### XGB"
   ]
  },
  {
   "cell_type": "code",
   "execution_count": 32,
   "id": "13f77d17",
   "metadata": {
    "execution": {
     "iopub.execute_input": "2022-08-09T17:36:38.327985Z",
     "iopub.status.busy": "2022-08-09T17:36:38.327376Z",
     "iopub.status.idle": "2022-08-09T17:36:38.457262Z",
     "shell.execute_reply": "2022-08-09T17:36:38.456462Z"
    },
    "papermill": {
     "duration": 0.166663,
     "end_time": "2022-08-09T17:36:38.459607",
     "exception": false,
     "start_time": "2022-08-09T17:36:38.292944",
     "status": "completed"
    },
    "tags": []
   },
   "outputs": [],
   "source": [
    "import xgboost as xgb"
   ]
  },
  {
   "cell_type": "code",
   "execution_count": 33,
   "id": "b1200579",
   "metadata": {
    "execution": {
     "iopub.execute_input": "2022-08-09T17:36:38.526384Z",
     "iopub.status.busy": "2022-08-09T17:36:38.525444Z",
     "iopub.status.idle": "2022-08-09T17:36:38.788012Z",
     "shell.execute_reply": "2022-08-09T17:36:38.787126Z"
    },
    "papermill": {
     "duration": 0.298932,
     "end_time": "2022-08-09T17:36:38.790601",
     "exception": false,
     "start_time": "2022-08-09T17:36:38.491669",
     "status": "completed"
    },
    "tags": []
   },
   "outputs": [],
   "source": [
    "dtrain = xgb.DMatrix(train_x, label=train_y)\n",
    "dtest= xgb.DMatrix(test_x, label=test_y)"
   ]
  },
  {
   "cell_type": "code",
   "execution_count": 34,
   "id": "2abfe5ff",
   "metadata": {
    "execution": {
     "iopub.execute_input": "2022-08-09T17:36:38.859787Z",
     "iopub.status.busy": "2022-08-09T17:36:38.859356Z",
     "iopub.status.idle": "2022-08-09T17:36:38.865567Z",
     "shell.execute_reply": "2022-08-09T17:36:38.864807Z"
    },
    "papermill": {
     "duration": 0.04176,
     "end_time": "2022-08-09T17:36:38.867436",
     "exception": false,
     "start_time": "2022-08-09T17:36:38.825676",
     "status": "completed"
    },
    "tags": []
   },
   "outputs": [],
   "source": [
    "params = {\n",
    "    'booster': 'gbtree',\n",
    "    'objective': 'multi:softmax',  # 多分类的问题\n",
    "    'num_class': 10,               # 类别数，与 multisoftmax 并用\n",
    "    'gamma': 0.1,                  # 用于控制是否后剪枝的参数,越大越保守，一般0.1、0.2这样子。\n",
    "    'max_depth': 12,               # 构建树的深度，越大越容易过拟合\n",
    "    'lambda': 2,                   # 控制模型复杂度的权重值的L2正则化项参数，参数越大，模型越不容易过拟合。\n",
    "    'subsample': 0.7,              # 随机采样训练样本\n",
    "    'colsample_bytree': 0.7,       # 生成树时进行的列采样\n",
    "    'min_child_weight': 3,\n",
    "    'silent': 1,                   # 设置成1则没有运行信息输出，最好是设置为0.\n",
    "    'eta': 0.007,                  # 如同学习率\n",
    "    'seed': 1000,\n",
    "    'nthread': -1,                  # cpu 线程数\n",
    "    'eval_metric':'auc'\n",
    "}"
   ]
  },
  {
   "cell_type": "code",
   "execution_count": 35,
   "id": "55c54a03",
   "metadata": {
    "execution": {
     "iopub.execute_input": "2022-08-09T17:36:38.933918Z",
     "iopub.status.busy": "2022-08-09T17:36:38.933221Z",
     "iopub.status.idle": "2022-08-09T17:36:54.444430Z",
     "shell.execute_reply": "2022-08-09T17:36:54.443490Z"
    },
    "papermill": {
     "duration": 15.547016,
     "end_time": "2022-08-09T17:36:54.447099",
     "exception": false,
     "start_time": "2022-08-09T17:36:38.900083",
     "status": "completed"
    },
    "tags": []
   },
   "outputs": [
    {
     "name": "stdout",
     "output_type": "stream",
     "text": [
      "[17:36:38] WARNING: ../src/learner.cc:627: \n",
      "Parameters: { \"silent\" } might not be used.\n",
      "\n",
      "  This could be a false alarm, with some parameters getting used by language bindings but\n",
      "  then being mistakenly passed down to XGBoost core, or some parameter actually being used\n",
      "  but getting flagged wrongly here. Please open an issue if you find any such cases.\n",
      "\n",
      "\n"
     ]
    }
   ],
   "source": [
    "num_round = 10\n",
    "bst = xgb.train( params, dtrain, num_round)"
   ]
  },
  {
   "cell_type": "code",
   "execution_count": 36,
   "id": "09f75bb0",
   "metadata": {
    "execution": {
     "iopub.execute_input": "2022-08-09T17:36:54.514889Z",
     "iopub.status.busy": "2022-08-09T17:36:54.514505Z",
     "iopub.status.idle": "2022-08-09T17:36:54.521083Z",
     "shell.execute_reply": "2022-08-09T17:36:54.520096Z"
    },
    "papermill": {
     "duration": 0.042358,
     "end_time": "2022-08-09T17:36:54.523187",
     "exception": false,
     "start_time": "2022-08-09T17:36:54.480829",
     "status": "completed"
    },
    "tags": []
   },
   "outputs": [],
   "source": [
    "# 3.保存模型\n",
    "bst.save_model('0001.model')"
   ]
  },
  {
   "cell_type": "code",
   "execution_count": 37,
   "id": "cb3d2ca9",
   "metadata": {
    "execution": {
     "iopub.execute_input": "2022-08-09T17:36:54.591699Z",
     "iopub.status.busy": "2022-08-09T17:36:54.590772Z",
     "iopub.status.idle": "2022-08-09T17:36:54.599490Z",
     "shell.execute_reply": "2022-08-09T17:36:54.598395Z"
    },
    "papermill": {
     "duration": 0.044429,
     "end_time": "2022-08-09T17:36:54.601886",
     "exception": false,
     "start_time": "2022-08-09T17:36:54.557457",
     "status": "completed"
    },
    "tags": []
   },
   "outputs": [],
   "source": [
    "# 4.加载保存的模型：\n",
    "bst = xgb.Booster({'nthread': 4})  # init model\n",
    "bst.load_model('0001.model')  # load data"
   ]
  },
  {
   "cell_type": "code",
   "execution_count": 38,
   "id": "a3d5a3cf",
   "metadata": {
    "execution": {
     "iopub.execute_input": "2022-08-09T17:36:54.668709Z",
     "iopub.status.busy": "2022-08-09T17:36:54.668252Z",
     "iopub.status.idle": "2022-08-09T17:36:54.786835Z",
     "shell.execute_reply": "2022-08-09T17:36:54.785808Z"
    },
    "papermill": {
     "duration": 0.154918,
     "end_time": "2022-08-09T17:36:54.789668",
     "exception": false,
     "start_time": "2022-08-09T17:36:54.634750",
     "status": "completed"
    },
    "tags": []
   },
   "outputs": [],
   "source": [
    "# 6.预测\n",
    "ypred = bst.predict(dtest)"
   ]
  },
  {
   "cell_type": "code",
   "execution_count": 39,
   "id": "ff745d99",
   "metadata": {
    "execution": {
     "iopub.execute_input": "2022-08-09T17:36:54.858453Z",
     "iopub.status.busy": "2022-08-09T17:36:54.858027Z",
     "iopub.status.idle": "2022-08-09T17:36:54.864818Z",
     "shell.execute_reply": "2022-08-09T17:36:54.863745Z"
    },
    "papermill": {
     "duration": 0.042458,
     "end_time": "2022-08-09T17:36:54.866830",
     "exception": false,
     "start_time": "2022-08-09T17:36:54.824372",
     "status": "completed"
    },
    "tags": []
   },
   "outputs": [
    {
     "data": {
      "text/plain": [
       "array([0., 1., 0., ..., 0., 0., 0.], dtype=float32)"
      ]
     },
     "execution_count": 39,
     "metadata": {},
     "output_type": "execute_result"
    }
   ],
   "source": [
    "ypred "
   ]
  },
  {
   "cell_type": "code",
   "execution_count": 40,
   "id": "54f90e6a",
   "metadata": {
    "execution": {
     "iopub.execute_input": "2022-08-09T17:36:54.933838Z",
     "iopub.status.busy": "2022-08-09T17:36:54.933122Z",
     "iopub.status.idle": "2022-08-09T17:36:55.012144Z",
     "shell.execute_reply": "2022-08-09T17:36:55.010832Z"
    },
    "papermill": {
     "duration": 0.114803,
     "end_time": "2022-08-09T17:36:55.014324",
     "exception": false,
     "start_time": "2022-08-09T17:36:54.899521",
     "status": "completed"
    },
    "tags": []
   },
   "outputs": [
    {
     "name": "stdout",
     "output_type": "stream",
     "text": [
      "The rmse of prediction is: 99.79733333333334\n"
     ]
    }
   ],
   "source": [
    "print('The rmse of prediction is:',accuracy_score(test_y, y_pred) * 100)\n",
    "acc_XGB=accuracy_score(test_y, y_pred) * 100"
   ]
  },
  {
   "cell_type": "markdown",
   "id": "a98ec6f9",
   "metadata": {
    "papermill": {
     "duration": 0.031909,
     "end_time": "2022-08-09T17:36:55.078729",
     "exception": false,
     "start_time": "2022-08-09T17:36:55.046820",
     "status": "completed"
    },
    "tags": []
   },
   "source": [
    "#### 综合比较"
   ]
  },
  {
   "cell_type": "code",
   "execution_count": 41,
   "id": "2ae85b67",
   "metadata": {
    "execution": {
     "iopub.execute_input": "2022-08-09T17:36:55.144525Z",
     "iopub.status.busy": "2022-08-09T17:36:55.143488Z",
     "iopub.status.idle": "2022-08-09T17:36:55.157429Z",
     "shell.execute_reply": "2022-08-09T17:36:55.156196Z"
    },
    "papermill": {
     "duration": 0.049225,
     "end_time": "2022-08-09T17:36:55.159658",
     "exception": false,
     "start_time": "2022-08-09T17:36:55.110433",
     "status": "completed"
    },
    "tags": []
   },
   "outputs": [
    {
     "data": {
      "text/html": [
       "<div>\n",
       "<style scoped>\n",
       "    .dataframe tbody tr th:only-of-type {\n",
       "        vertical-align: middle;\n",
       "    }\n",
       "\n",
       "    .dataframe tbody tr th {\n",
       "        vertical-align: top;\n",
       "    }\n",
       "\n",
       "    .dataframe thead th {\n",
       "        text-align: right;\n",
       "    }\n",
       "</style>\n",
       "<table border=\"1\" class=\"dataframe\">\n",
       "  <thead>\n",
       "    <tr style=\"text-align: right;\">\n",
       "      <th></th>\n",
       "      <th>Model</th>\n",
       "      <th>Score</th>\n",
       "    </tr>\n",
       "  </thead>\n",
       "  <tbody>\n",
       "    <tr>\n",
       "      <th>2</th>\n",
       "      <td>Random Forest</td>\n",
       "      <td>100.000000</td>\n",
       "    </tr>\n",
       "    <tr>\n",
       "      <th>7</th>\n",
       "      <td>Decision Tree</td>\n",
       "      <td>100.000000</td>\n",
       "    </tr>\n",
       "    <tr>\n",
       "      <th>0</th>\n",
       "      <td>KNN</td>\n",
       "      <td>99.850000</td>\n",
       "    </tr>\n",
       "    <tr>\n",
       "      <th>8</th>\n",
       "      <td>LGB</td>\n",
       "      <td>99.797333</td>\n",
       "    </tr>\n",
       "    <tr>\n",
       "      <th>9</th>\n",
       "      <td>XGB</td>\n",
       "      <td>99.797333</td>\n",
       "    </tr>\n",
       "    <tr>\n",
       "      <th>4</th>\n",
       "      <td>Perceptron</td>\n",
       "      <td>96.050000</td>\n",
       "    </tr>\n",
       "    <tr>\n",
       "      <th>1</th>\n",
       "      <td>Logistic Regression</td>\n",
       "      <td>95.830000</td>\n",
       "    </tr>\n",
       "    <tr>\n",
       "      <th>5</th>\n",
       "      <td>Stochastic Gradient Decent</td>\n",
       "      <td>95.770000</td>\n",
       "    </tr>\n",
       "    <tr>\n",
       "      <th>6</th>\n",
       "      <td>Linear SVC</td>\n",
       "      <td>93.830000</td>\n",
       "    </tr>\n",
       "    <tr>\n",
       "      <th>3</th>\n",
       "      <td>Naive Bayes</td>\n",
       "      <td>64.920000</td>\n",
       "    </tr>\n",
       "  </tbody>\n",
       "</table>\n",
       "</div>"
      ],
      "text/plain": [
       "                        Model       Score\n",
       "2               Random Forest  100.000000\n",
       "7               Decision Tree  100.000000\n",
       "0                         KNN   99.850000\n",
       "8                         LGB   99.797333\n",
       "9                         XGB   99.797333\n",
       "4                  Perceptron   96.050000\n",
       "1         Logistic Regression   95.830000\n",
       "5  Stochastic Gradient Decent   95.770000\n",
       "6                  Linear SVC   93.830000\n",
       "3                 Naive Bayes   64.920000"
      ]
     },
     "execution_count": 41,
     "metadata": {},
     "output_type": "execute_result"
    }
   ],
   "source": [
    "#模型比较\n",
    "models = pd.DataFrame({\n",
    "    'Model': [ 'KNN', 'Logistic Regression', \n",
    "              'Random Forest', 'Naive Bayes', 'Perceptron', \n",
    "              'Stochastic Gradient Decent', 'Linear SVC', \n",
    "              'Decision Tree','LGB','XGB'],\n",
    "    'Score': [acc_knn, acc_log, \n",
    "              acc_random_forest, acc_gaussian, acc_perceptron, \n",
    "              acc_sgd, acc_linear_svc, acc_decision_tree,acc_LGB,acc_XGB]})\n",
    "models.sort_values(by='Score', ascending=False)"
   ]
  },
  {
   "cell_type": "markdown",
   "id": "c4fc14f8",
   "metadata": {
    "execution": {
     "iopub.execute_input": "2022-08-09T04:25:42.296481Z",
     "iopub.status.busy": "2022-08-09T04:25:42.295844Z",
     "iopub.status.idle": "2022-08-09T04:25:42.302537Z",
     "shell.execute_reply": "2022-08-09T04:25:42.300946Z",
     "shell.execute_reply.started": "2022-08-09T04:25:42.296438Z"
    },
    "papermill": {
     "duration": 0.032496,
     "end_time": "2022-08-09T17:36:55.293487",
     "exception": false,
     "start_time": "2022-08-09T17:36:55.260991",
     "status": "completed"
    },
    "tags": []
   },
   "source": [
    "## 模型调参与性能评价"
   ]
  },
  {
   "cell_type": "markdown",
   "id": "3f19a081",
   "metadata": {
    "execution": {
     "iopub.execute_input": "2022-08-09T04:26:16.443792Z",
     "iopub.status.busy": "2022-08-09T04:26:16.442532Z",
     "iopub.status.idle": "2022-08-09T04:26:16.449444Z",
     "shell.execute_reply": "2022-08-09T04:26:16.448240Z",
     "shell.execute_reply.started": "2022-08-09T04:26:16.443736Z"
    },
    "papermill": {
     "duration": 0.031883,
     "end_time": "2022-08-09T17:36:55.357668",
     "exception": false,
     "start_time": "2022-08-09T17:36:55.325785",
     "status": "completed"
    },
    "tags": []
   },
   "source": [
    "### 随机森林"
   ]
  },
  {
   "cell_type": "code",
   "execution_count": 42,
   "id": "87534fd6",
   "metadata": {
    "execution": {
     "iopub.execute_input": "2022-08-09T17:36:55.425667Z",
     "iopub.status.busy": "2022-08-09T17:36:55.424888Z",
     "iopub.status.idle": "2022-08-09T17:46:57.156953Z",
     "shell.execute_reply": "2022-08-09T17:46:57.155823Z"
    },
    "papermill": {
     "duration": 601.802126,
     "end_time": "2022-08-09T17:46:57.192379",
     "exception": false,
     "start_time": "2022-08-09T17:36:55.390253",
     "status": "completed"
    },
    "tags": []
   },
   "outputs": [
    {
     "data": {
      "text/plain": [
       "array([0.99998 , 0.999995, 0.999995, 0.999975, 0.999995])"
      ]
     },
     "execution_count": 42,
     "metadata": {},
     "output_type": "execute_result"
    }
   ],
   "source": [
    "#随机森林\n",
    "random_forest = RandomForestClassifier(n_estimators=100)\n",
    "random_forest.fit(train_x, train_y)\n",
    "cross_val_score(random_forest,x,y,cv=5,scoring=\"accuracy\")"
   ]
  },
  {
   "cell_type": "code",
   "execution_count": null,
   "id": "70d9d481",
   "metadata": {
    "papermill": {
     "duration": 0.032177,
     "end_time": "2022-08-09T17:46:57.256864",
     "exception": false,
     "start_time": "2022-08-09T17:46:57.224687",
     "status": "completed"
    },
    "tags": []
   },
   "outputs": [],
   "source": []
  },
  {
   "cell_type": "code",
   "execution_count": 43,
   "id": "97269efb",
   "metadata": {
    "execution": {
     "iopub.execute_input": "2022-08-09T17:46:57.324907Z",
     "iopub.status.busy": "2022-08-09T17:46:57.323862Z",
     "iopub.status.idle": "2022-08-09T17:46:57.329474Z",
     "shell.execute_reply": "2022-08-09T17:46:57.328418Z"
    },
    "papermill": {
     "duration": 0.042061,
     "end_time": "2022-08-09T17:46:57.331889",
     "exception": false,
     "start_time": "2022-08-09T17:46:57.289828",
     "status": "completed"
    },
    "tags": []
   },
   "outputs": [],
   "source": [
    "import warnings\n",
    "warnings.filterwarnings(\"ignore\")"
   ]
  },
  {
   "cell_type": "code",
   "execution_count": 44,
   "id": "0512ce0c",
   "metadata": {
    "execution": {
     "iopub.execute_input": "2022-08-09T17:46:57.399476Z",
     "iopub.status.busy": "2022-08-09T17:46:57.398879Z",
     "iopub.status.idle": "2022-08-09T17:46:57.404353Z",
     "shell.execute_reply": "2022-08-09T17:46:57.403650Z"
    },
    "papermill": {
     "duration": 0.042311,
     "end_time": "2022-08-09T17:46:57.406738",
     "exception": false,
     "start_time": "2022-08-09T17:46:57.364427",
     "status": "completed"
    },
    "tags": []
   },
   "outputs": [],
   "source": [
    "    '''\n",
    "    #调参代码，一运行完毕，选出最佳参数如下：\n",
    "    from sklearn.model_selection import GridSearchCV\n",
    "    from sklearn.ensemble import RandomForestClassifier\n",
    "\n",
    "    #初步定义分类器\n",
    "    rfc = RandomForestClassifier(random_state=0)\n",
    "    #需要选择的参数名称一起后选值\n",
    "    #第一次调：tuned_parameters = [{ 'n_estimators':[75,100,125,150]}]\n",
    "    tuned_parameters = [{ 'n_estimators':range(25,75,1),\"criterion\":[\"gini\",\"entropy\"]}]\n",
    "    #神器出场,cv设置交叉验证\n",
    "    clf = GridSearchCV(estimator=rfc,param_grid=tuned_parameters, cv=5, n_jobs=-1)\n",
    "    #拟合训练集\n",
    "    #第一次调:clf.fit(x.iloc[:100000,:], y.iloc[:100000,:])\n",
    "    clf.fit(x, y)\n",
    "    print('Best parameters:')\n",
    "    print(clf.best_params_)\n",
    "    print(clf.best_score_)\n",
    "    '''\n",
    "    # Best parameters:\n",
    "    criterion_best='gini' \n",
    "    n_estimators_best= 35 \n",
    "    scores_best=0.999989"
   ]
  },
  {
   "cell_type": "code",
   "execution_count": 45,
   "id": "74622a60",
   "metadata": {
    "execution": {
     "iopub.execute_input": "2022-08-09T17:46:57.474881Z",
     "iopub.status.busy": "2022-08-09T17:46:57.474242Z",
     "iopub.status.idle": "2022-08-09T17:47:27.090666Z",
     "shell.execute_reply": "2022-08-09T17:47:27.089544Z"
    },
    "papermill": {
     "duration": 29.654044,
     "end_time": "2022-08-09T17:47:27.093476",
     "exception": false,
     "start_time": "2022-08-09T17:46:57.439432",
     "status": "completed"
    },
    "tags": []
   },
   "outputs": [],
   "source": [
    "rfc = RandomForestClassifier(n_estimators= n_estimators_best,criterion=criterion_best,random_state=0)\n",
    "rfc.fit(train_x,train_y)\n",
    "y_pred = rfc.predict(test_x)"
   ]
  },
  {
   "cell_type": "code",
   "execution_count": 46,
   "id": "137bf2cd",
   "metadata": {
    "execution": {
     "iopub.execute_input": "2022-08-09T17:47:27.160024Z",
     "iopub.status.busy": "2022-08-09T17:47:27.159380Z",
     "iopub.status.idle": "2022-08-09T17:50:32.983536Z",
     "shell.execute_reply": "2022-08-09T17:50:32.982460Z"
    },
    "papermill": {
     "duration": 185.892707,
     "end_time": "2022-08-09T17:50:33.018921",
     "exception": false,
     "start_time": "2022-08-09T17:47:27.126214",
     "status": "completed"
    },
    "tags": []
   },
   "outputs": [
    {
     "data": {
      "text/plain": [
       "array([0.99998 , 0.999995, 0.999995, 0.99998 , 0.999995])"
      ]
     },
     "execution_count": 46,
     "metadata": {},
     "output_type": "execute_result"
    }
   ],
   "source": [
    "cross_val_score(rfc,x,y,cv=5,scoring=\"accuracy\")"
   ]
  },
  {
   "cell_type": "code",
   "execution_count": 47,
   "id": "f7df01e7",
   "metadata": {
    "execution": {
     "iopub.execute_input": "2022-08-09T17:50:33.085982Z",
     "iopub.status.busy": "2022-08-09T17:50:33.085291Z",
     "iopub.status.idle": "2022-08-09T17:50:33.251707Z",
     "shell.execute_reply": "2022-08-09T17:50:33.250375Z"
    },
    "papermill": {
     "duration": 0.202476,
     "end_time": "2022-08-09T17:50:33.254134",
     "exception": false,
     "start_time": "2022-08-09T17:50:33.051658",
     "status": "completed"
    },
    "tags": []
   },
   "outputs": [
    {
     "name": "stdout",
     "output_type": "stream",
     "text": [
      "1.0\n"
     ]
    }
   ],
   "source": [
    "from sklearn.metrics import precision_score\n",
    "print(precision_score(test_y, y_pred))  "
   ]
  },
  {
   "cell_type": "code",
   "execution_count": 48,
   "id": "144d1c05",
   "metadata": {
    "execution": {
     "iopub.execute_input": "2022-08-09T17:50:33.321911Z",
     "iopub.status.busy": "2022-08-09T17:50:33.321200Z",
     "iopub.status.idle": "2022-08-09T17:50:33.490440Z",
     "shell.execute_reply": "2022-08-09T17:50:33.489312Z"
    },
    "papermill": {
     "duration": 0.205861,
     "end_time": "2022-08-09T17:50:33.493092",
     "exception": false,
     "start_time": "2022-08-09T17:50:33.287231",
     "status": "completed"
    },
    "tags": []
   },
   "outputs": [
    {
     "name": "stdout",
     "output_type": "stream",
     "text": [
      "0.9998091530211076\n"
     ]
    }
   ],
   "source": [
    "from sklearn.metrics import recall_score\n",
    "print(recall_score(test_y, y_pred)) "
   ]
  },
  {
   "cell_type": "code",
   "execution_count": 49,
   "id": "2722c435",
   "metadata": {
    "execution": {
     "iopub.execute_input": "2022-08-09T17:50:33.561513Z",
     "iopub.status.busy": "2022-08-09T17:50:33.561138Z",
     "iopub.status.idle": "2022-08-09T17:50:33.728999Z",
     "shell.execute_reply": "2022-08-09T17:50:33.727838Z"
    },
    "papermill": {
     "duration": 0.204641,
     "end_time": "2022-08-09T17:50:33.731485",
     "exception": false,
     "start_time": "2022-08-09T17:50:33.526844",
     "status": "completed"
    },
    "tags": []
   },
   "outputs": [
    {
     "name": "stdout",
     "output_type": "stream",
     "text": [
      "0.9999045674040424\n"
     ]
    }
   ],
   "source": [
    "from sklearn.metrics import f1_score\n",
    "print(f1_score(test_y, y_pred)) "
   ]
  },
  {
   "cell_type": "code",
   "execution_count": 50,
   "id": "a9e1ff1a",
   "metadata": {
    "execution": {
     "iopub.execute_input": "2022-08-09T17:50:33.799437Z",
     "iopub.status.busy": "2022-08-09T17:50:33.799082Z",
     "iopub.status.idle": "2022-08-09T17:50:34.052995Z",
     "shell.execute_reply": "2022-08-09T17:50:34.051887Z"
    },
    "papermill": {
     "duration": 0.290606,
     "end_time": "2022-08-09T17:50:34.055256",
     "exception": false,
     "start_time": "2022-08-09T17:50:33.764650",
     "status": "completed"
    },
    "tags": []
   },
   "outputs": [
    {
     "data": {
      "text/plain": [
       "array([[273801,      0],\n",
       "       [     5,  26194]])"
      ]
     },
     "execution_count": 50,
     "metadata": {},
     "output_type": "execute_result"
    }
   ],
   "source": [
    "from sklearn.metrics import confusion_matrix\n",
    "C=confusion_matrix(test_y, y_pred)\n",
    "C"
   ]
  },
  {
   "cell_type": "code",
   "execution_count": 51,
   "id": "2eac5a22",
   "metadata": {
    "execution": {
     "iopub.execute_input": "2022-08-09T17:50:34.123353Z",
     "iopub.status.busy": "2022-08-09T17:50:34.122976Z",
     "iopub.status.idle": "2022-08-09T17:50:34.342896Z",
     "shell.execute_reply": "2022-08-09T17:50:34.341830Z"
    },
    "papermill": {
     "duration": 0.256714,
     "end_time": "2022-08-09T17:50:34.345305",
     "exception": false,
     "start_time": "2022-08-09T17:50:34.088591",
     "status": "completed"
    },
    "tags": []
   },
   "outputs": [
    {
     "data": {
      "text/plain": [
       "<AxesSubplot:>"
      ]
     },
     "execution_count": 51,
     "metadata": {},
     "output_type": "execute_result"
    },
    {
     "data": {
      "image/png": "[encoded data removed]",
      "text/plain": [
       "<Figure size 432x288 with 2 Axes>"
      ]
     },
     "metadata": {
      "needs_background": "light"
     },
     "output_type": "display_data"
    }
   ],
   "source": [
    "sns.heatmap(C, annot=True, fmt='.20g', cmap=plt.cm.Blues)"
   ]
  },
  {
   "cell_type": "code",
   "execution_count": 52,
   "id": "9e3485e6",
   "metadata": {
    "execution": {
     "iopub.execute_input": "2022-08-09T17:50:34.415749Z",
     "iopub.status.busy": "2022-08-09T17:50:34.414784Z",
     "iopub.status.idle": "2022-08-09T17:50:34.647074Z",
     "shell.execute_reply": "2022-08-09T17:50:34.645926Z"
    },
    "papermill": {
     "duration": 0.269958,
     "end_time": "2022-08-09T17:50:34.649390",
     "exception": false,
     "start_time": "2022-08-09T17:50:34.379432",
     "status": "completed"
    },
    "tags": []
   },
   "outputs": [
    {
     "name": "stdout",
     "output_type": "stream",
     "text": [
      "0.000000 0.000000 2.000000\n",
      "0.000000 0.999809 1.000000\n",
      "1.000000 1.000000 0.000000\n"
     ]
    },
    {
     "data": {
      "image/png": "[encoded data removed]",
      "text/plain": [
       "<Figure size 432x288 with 1 Axes>"
      ]
     },
     "metadata": {
      "needs_background": "light"
     },
     "output_type": "display_data"
    }
   ],
   "source": [
    "    from sklearn.metrics import roc_curve, auc\n",
    "    \n",
    "    \n",
    "    fpr, tpr, thersholds = roc_curve(test_y, y_pred)\n",
    "     \n",
    "    for i, value in enumerate(thersholds):\n",
    "        print(\"%f %f %f\" % (fpr[i], tpr[i], value))\n",
    "     \n",
    "    roc_auc = auc(fpr, tpr)\n",
    "     \n",
    "    plt.plot(fpr, tpr, 'k--', label='ROC (area = {0:.2f})'.format(roc_auc), lw=2,color='red')\n",
    "    plt.xlim([-0.05, 1.05])  \n",
    "    plt.ylim([-0.05, 1.05])\n",
    "    plt.xlabel('False Positive Rate')\n",
    "    plt.ylabel('True Positive Rate')  \n",
    "    plt.title('ROC Curve')\n",
    "    plt.legend(loc=\"lower right\")\n",
    "    plt.show()"
   ]
  },
  {
   "cell_type": "markdown",
   "id": "8390699d",
   "metadata": {
    "papermill": {
     "duration": 0.033243,
     "end_time": "2022-08-09T17:50:34.716494",
     "exception": false,
     "start_time": "2022-08-09T17:50:34.683251",
     "status": "completed"
    },
    "tags": []
   },
   "source": [
    "## 决策树"
   ]
  },
  {
   "cell_type": "code",
   "execution_count": 53,
   "id": "e4a504f2",
   "metadata": {
    "execution": {
     "iopub.execute_input": "2022-08-09T17:50:34.786040Z",
     "iopub.status.busy": "2022-08-09T17:50:34.785426Z",
     "iopub.status.idle": "2022-08-09T17:50:52.107191Z",
     "shell.execute_reply": "2022-08-09T17:50:52.106126Z"
    },
    "papermill": {
     "duration": 17.359525,
     "end_time": "2022-08-09T17:50:52.109497",
     "exception": false,
     "start_time": "2022-08-09T17:50:34.749972",
     "status": "completed"
    },
    "tags": []
   },
   "outputs": [
    {
     "data": {
      "text/plain": [
       "array([0.99997 , 0.999995, 0.99998 , 0.99998 , 1.      ])"
      ]
     },
     "execution_count": 53,
     "metadata": {},
     "output_type": "execute_result"
    }
   ],
   "source": [
    "#决策树\n",
    "decision_tree = DecisionTreeClassifier()\n",
    "decision_tree.fit(train_x, train_y)\n",
    "cross_val_score(decision_tree,x,y,cv=5,scoring=\"accuracy\")"
   ]
  },
  {
   "cell_type": "code",
   "execution_count": 54,
   "id": "d3922ed5",
   "metadata": {
    "execution": {
     "iopub.execute_input": "2022-08-09T17:50:52.178824Z",
     "iopub.status.busy": "2022-08-09T17:50:52.178386Z",
     "iopub.status.idle": "2022-08-09T17:50:52.184060Z",
     "shell.execute_reply": "2022-08-09T17:50:52.182949Z"
    },
    "papermill": {
     "duration": 0.043108,
     "end_time": "2022-08-09T17:50:52.186168",
     "exception": false,
     "start_time": "2022-08-09T17:50:52.143060",
     "status": "completed"
    },
    "tags": []
   },
   "outputs": [],
   "source": [
    "    '''\n",
    "    from sklearn.model_selection import GridSearchCV\n",
    "    #初步定义分类器\n",
    "    det = DecisionTreeClassifier(random_state=0,criterion=\"entropy\")\n",
    "    #第一次调：tuned_parameters = [{ 'max_depth':range(10,75,5),\"criterion\":[\"gini\",\"entropy\"]}]\n",
    "    tuned_parameters = [{ 'max_depth':range(6,15,1)}]\n",
    "    #神器出场,cv设置交叉验证\n",
    "    clf = GridSearchCV(estimator=det,param_grid=tuned_parameters, cv=5, n_jobs=-1)\n",
    "    #拟合训练集\n",
    "    #第一次调:clf.fit(x.iloc[:100000,:], y.iloc[:100000,:])\n",
    "    clf.fit(x, y)\n",
    "    print('Best parameters:')\n",
    "    print(clf.best_params_)\n",
    "    print(clf.best_score_)\n",
    "    '''\n",
    "    #Best parameters:\n",
    "    max_depth_best= 7\n",
    "    best_scores=0.99999"
   ]
  },
  {
   "cell_type": "code",
   "execution_count": 55,
   "id": "a671ceeb",
   "metadata": {
    "execution": {
     "iopub.execute_input": "2022-08-09T17:50:52.256343Z",
     "iopub.status.busy": "2022-08-09T17:50:52.255627Z",
     "iopub.status.idle": "2022-08-09T17:50:54.564477Z",
     "shell.execute_reply": "2022-08-09T17:50:54.563361Z"
    },
    "papermill": {
     "duration": 2.346902,
     "end_time": "2022-08-09T17:50:54.567216",
     "exception": false,
     "start_time": "2022-08-09T17:50:52.220314",
     "status": "completed"
    },
    "tags": []
   },
   "outputs": [],
   "source": [
    "det = DecisionTreeClassifier(random_state=0,criterion=\"entropy\",max_depth=7)\n",
    "det.fit(train_x,train_y)\n",
    "y_pred_det = det.predict(test_x)"
   ]
  },
  {
   "cell_type": "code",
   "execution_count": 56,
   "id": "e14c0bc4",
   "metadata": {
    "execution": {
     "iopub.execute_input": "2022-08-09T17:50:54.637203Z",
     "iopub.status.busy": "2022-08-09T17:50:54.636820Z",
     "iopub.status.idle": "2022-08-09T17:51:09.484060Z",
     "shell.execute_reply": "2022-08-09T17:51:09.483173Z"
    },
    "papermill": {
     "duration": 14.884179,
     "end_time": "2022-08-09T17:51:09.486127",
     "exception": false,
     "start_time": "2022-08-09T17:50:54.601948",
     "status": "completed"
    },
    "tags": []
   },
   "outputs": [
    {
     "data": {
      "text/plain": [
       "array([0.99998 , 0.999995, 0.999985, 0.99999 , 1.      ])"
      ]
     },
     "execution_count": 56,
     "metadata": {},
     "output_type": "execute_result"
    }
   ],
   "source": [
    "cross_val_score(det,x,y,cv=5,scoring=\"accuracy\")"
   ]
  },
  {
   "cell_type": "code",
   "execution_count": 57,
   "id": "b6cd2ab4",
   "metadata": {
    "execution": {
     "iopub.execute_input": "2022-08-09T17:51:09.555662Z",
     "iopub.status.busy": "2022-08-09T17:51:09.554688Z",
     "iopub.status.idle": "2022-08-09T17:51:10.047713Z",
     "shell.execute_reply": "2022-08-09T17:51:10.046597Z"
    },
    "papermill": {
     "duration": 0.530125,
     "end_time": "2022-08-09T17:51:10.050224",
     "exception": false,
     "start_time": "2022-08-09T17:51:09.520099",
     "status": "completed"
    },
    "tags": []
   },
   "outputs": [
    {
     "data": {
      "text/plain": [
       "(0.9999236495514411, 0.9997709836253292, 0.999847310760774)"
      ]
     },
     "execution_count": 57,
     "metadata": {},
     "output_type": "execute_result"
    }
   ],
   "source": [
    "precision_score(test_y, y_pred_det),recall_score(test_y, y_pred_det),f1_score(test_y, y_pred_det)"
   ]
  },
  {
   "cell_type": "code",
   "execution_count": 58,
   "id": "3920f0d2",
   "metadata": {
    "execution": {
     "iopub.execute_input": "2022-08-09T17:51:10.120187Z",
     "iopub.status.busy": "2022-08-09T17:51:10.119779Z",
     "iopub.status.idle": "2022-08-09T17:51:10.587883Z",
     "shell.execute_reply": "2022-08-09T17:51:10.586814Z"
    },
    "papermill": {
     "duration": 0.505991,
     "end_time": "2022-08-09T17:51:10.590248",
     "exception": false,
     "start_time": "2022-08-09T17:51:10.084257",
     "status": "completed"
    },
    "tags": []
   },
   "outputs": [
    {
     "data": {
      "text/plain": [
       "<AxesSubplot:>"
      ]
     },
     "execution_count": 58,
     "metadata": {},
     "output_type": "execute_result"
    },
    {
     "data": {
      "image/png": "[encoded data removed]",
      "text/plain": [
       "<Figure size 432x288 with 2 Axes>"
      ]
     },
     "metadata": {
      "needs_background": "light"
     },
     "output_type": "display_data"
    }
   ],
   "source": [
    "cm_det=confusion_matrix(test_y, y_pred_det)\n",
    "sns.heatmap(cm_det, annot=True, fmt='.20g', cmap=plt.cm.Blues)"
   ]
  },
  {
   "cell_type": "code",
   "execution_count": 59,
   "id": "ad777d72",
   "metadata": {
    "execution": {
     "iopub.execute_input": "2022-08-09T17:51:10.662471Z",
     "iopub.status.busy": "2022-08-09T17:51:10.661886Z",
     "iopub.status.idle": "2022-08-09T17:51:10.893296Z",
     "shell.execute_reply": "2022-08-09T17:51:10.892148Z"
    },
    "papermill": {
     "duration": 0.269588,
     "end_time": "2022-08-09T17:51:10.895573",
     "exception": false,
     "start_time": "2022-08-09T17:51:10.625985",
     "status": "completed"
    },
    "tags": []
   },
   "outputs": [
    {
     "name": "stdout",
     "output_type": "stream",
     "text": [
      "0.000000 0.000000 2.000000\n",
      "0.000007 0.999771 1.000000\n",
      "1.000000 1.000000 0.000000\n"
     ]
    },
    {
     "data": {
      "image/png": "[encoded data removed]",
      "text/plain": [
       "<Figure size 432x288 with 1 Axes>"
      ]
     },
     "metadata": {
      "needs_background": "light"
     },
     "output_type": "display_data"
    }
   ],
   "source": [
    "    from sklearn.metrics import roc_curve, auc\n",
    "    \n",
    "    \n",
    "    fpr, tpr, thersholds = roc_curve(test_y, y_pred_det)\n",
    "     \n",
    "    for i, value in enumerate(thersholds):\n",
    "        print(\"%f %f %f\" % (fpr[i], tpr[i], value))\n",
    "     \n",
    "    roc_auc = auc(fpr, tpr)\n",
    "     \n",
    "    plt.plot(fpr, tpr, 'k--', label='ROC (area = {0:.2f})'.format(roc_auc), lw=2,color='red')\n",
    "    plt.xlim([-0.05, 1.05])  \n",
    "    plt.ylim([-0.05, 1.05])\n",
    "    plt.xlabel('False Positive Rate')\n",
    "    plt.ylabel('True Positive Rate')  \n",
    "    plt.title('ROC Curve')\n",
    "    plt.legend(loc=\"lower right\")\n",
    "    plt.show()"
   ]
  },
  {
   "cell_type": "markdown",
   "id": "c9e19a2e",
   "metadata": {
    "papermill": {
     "duration": 0.034913,
     "end_time": "2022-08-09T17:51:10.965295",
     "exception": false,
     "start_time": "2022-08-09T17:51:10.930382",
     "status": "completed"
    },
    "tags": []
   },
   "source": [
    "## KNN"
   ]
  },
  {
   "cell_type": "code",
   "execution_count": 60,
   "id": "57a5c988",
   "metadata": {
    "execution": {
     "iopub.execute_input": "2022-08-09T17:51:11.036816Z",
     "iopub.status.busy": "2022-08-09T17:51:11.036157Z",
     "iopub.status.idle": "2022-08-09T17:54:47.125209Z",
     "shell.execute_reply": "2022-08-09T17:54:47.124017Z"
    },
    "papermill": {
     "duration": 216.16276,
     "end_time": "2022-08-09T17:54:47.162595",
     "exception": false,
     "start_time": "2022-08-09T17:51:10.999835",
     "status": "completed"
    },
    "tags": []
   },
   "outputs": [
    {
     "data": {
      "text/plain": [
       "array([0.99866 , 0.998685, 0.99874 , 0.998475, 0.998485])"
      ]
     },
     "execution_count": 60,
     "metadata": {},
     "output_type": "execute_result"
    }
   ],
   "source": [
    "#KNN\n",
    "knn = KNeighborsClassifier(n_neighbors = 4)\n",
    "knn.fit(train_x, train_y)\n",
    "cross_val_score(knn,x,y,cv=5,scoring=\"accuracy\")"
   ]
  },
  {
   "cell_type": "code",
   "execution_count": 61,
   "id": "87f99125",
   "metadata": {
    "execution": {
     "iopub.execute_input": "2022-08-09T17:54:47.235808Z",
     "iopub.status.busy": "2022-08-09T17:54:47.235089Z",
     "iopub.status.idle": "2022-08-09T17:54:47.244071Z",
     "shell.execute_reply": "2022-08-09T17:54:47.243072Z"
    },
    "papermill": {
     "duration": 0.049042,
     "end_time": "2022-08-09T17:54:47.246478",
     "exception": false,
     "start_time": "2022-08-09T17:54:47.197436",
     "status": "completed"
    },
    "tags": []
   },
   "outputs": [
    {
     "data": {
      "text/plain": [
       "0.999987"
      ]
     },
     "execution_count": 61,
     "metadata": {},
     "output_type": "execute_result"
    }
   ],
   "source": [
    "np.array([0.99998 , 0.999995, 0.999985, 0.99998 , 0.999995]).mean()"
   ]
  },
  {
   "cell_type": "code",
   "execution_count": 62,
   "id": "e08ab300",
   "metadata": {
    "execution": {
     "iopub.execute_input": "2022-08-09T17:54:47.318789Z",
     "iopub.status.busy": "2022-08-09T17:54:47.318065Z",
     "iopub.status.idle": "2022-08-09T17:54:47.324965Z",
     "shell.execute_reply": "2022-08-09T17:54:47.324103Z"
    },
    "papermill": {
     "duration": 0.045449,
     "end_time": "2022-08-09T17:54:47.327042",
     "exception": false,
     "start_time": "2022-08-09T17:54:47.281593",
     "status": "completed"
    },
    "tags": []
   },
   "outputs": [
    {
     "data": {
      "text/plain": [
       "\"\\nfrom sklearn.model_selection import GridSearchCV\\n#初步定义分类器\\nknn = KNeighborsClassifier()\\ntuned_parameters = [{ 'n_neighbors':[1,2,3,4,5]}]\\n#神器出场,cv设置交叉验证\\nclf = GridSearchCV(estimator=knn,param_grid=tuned_parameters, cv=5, n_jobs=-1)\\n#拟合训练集\\nclf.fit(x, y)\\nprint('Best parameters:')\\nprint(clf.best_params_)\\nprint(clf.best_score_)\\n\""
      ]
     },
     "execution_count": 62,
     "metadata": {},
     "output_type": "execute_result"
    }
   ],
   "source": [
    "    '''\n",
    "    from sklearn.model_selection import GridSearchCV\n",
    "    #初步定义分类器\n",
    "    knn = KNeighborsClassifier()\n",
    "    tuned_parameters = [{ 'n_neighbors':[1,2,3,4,5]}]\n",
    "    #神器出场,cv设置交叉验证\n",
    "    clf = GridSearchCV(estimator=knn,param_grid=tuned_parameters, cv=5, n_jobs=-1)\n",
    "    #拟合训练集\n",
    "    clf.fit(x, y)\n",
    "    print('Best parameters:')\n",
    "    print(clf.best_params_)\n",
    "    print(clf.best_score_)\n",
    "    '''\n",
    "    \n",
    "    #Best parameters:\n",
    "        #{'n_neighbors': 3}\n",
    "        #0.9988340000000001"
   ]
  },
  {
   "cell_type": "code",
   "execution_count": 63,
   "id": "ad1e0a4d",
   "metadata": {
    "execution": {
     "iopub.execute_input": "2022-08-09T17:54:47.398628Z",
     "iopub.status.busy": "2022-08-09T17:54:47.397943Z",
     "iopub.status.idle": "2022-08-09T17:55:42.281694Z",
     "shell.execute_reply": "2022-08-09T17:55:42.280570Z"
    },
    "papermill": {
     "duration": 54.922602,
     "end_time": "2022-08-09T17:55:42.284464",
     "exception": false,
     "start_time": "2022-08-09T17:54:47.361862",
     "status": "completed"
    },
    "tags": []
   },
   "outputs": [],
   "source": [
    "#KNN\n",
    "knn = KNeighborsClassifier(n_neighbors = 3)\n",
    "knn.fit(train_x, train_y)\n",
    "y_pred_knn = knn.predict(test_x)"
   ]
  },
  {
   "cell_type": "code",
   "execution_count": 64,
   "id": "6aaced59",
   "metadata": {
    "execution": {
     "iopub.execute_input": "2022-08-09T17:55:42.356417Z",
     "iopub.status.busy": "2022-08-09T17:55:42.355802Z",
     "iopub.status.idle": "2022-08-09T17:59:08.832736Z",
     "shell.execute_reply": "2022-08-09T17:59:08.831322Z"
    },
    "papermill": {
     "duration": 206.571436,
     "end_time": "2022-08-09T17:59:08.891011",
     "exception": false,
     "start_time": "2022-08-09T17:55:42.319575",
     "status": "completed"
    },
    "tags": []
   },
   "outputs": [
    {
     "data": {
      "text/plain": [
       "array([0.998855, 0.99886 , 0.998905, 0.998775, 0.998775])"
      ]
     },
     "execution_count": 64,
     "metadata": {},
     "output_type": "execute_result"
    }
   ],
   "source": [
    "cross_val_score(knn,x,y,cv=5,scoring=\"accuracy\")"
   ]
  },
  {
   "cell_type": "code",
   "execution_count": 65,
   "id": "b438275f",
   "metadata": {
    "execution": {
     "iopub.execute_input": "2022-08-09T17:59:08.980575Z",
     "iopub.status.busy": "2022-08-09T17:59:08.979341Z",
     "iopub.status.idle": "2022-08-09T17:59:09.530048Z",
     "shell.execute_reply": "2022-08-09T17:59:09.528975Z"
    },
    "papermill": {
     "duration": 0.595462,
     "end_time": "2022-08-09T17:59:09.532571",
     "exception": false,
     "start_time": "2022-08-09T17:59:08.937109",
     "status": "completed"
    },
    "tags": []
   },
   "outputs": [
    {
     "data": {
      "text/plain": [
       "(0.9944855053038716, 0.991221038970953, 0.992850588775042)"
      ]
     },
     "execution_count": 65,
     "metadata": {},
     "output_type": "execute_result"
    }
   ],
   "source": [
    "precision_score(test_y, y_pred_knn),recall_score(test_y, y_pred_knn),f1_score(test_y, y_pred_knn)"
   ]
  },
  {
   "cell_type": "code",
   "execution_count": 66,
   "id": "72c27172",
   "metadata": {
    "execution": {
     "iopub.execute_input": "2022-08-09T17:59:09.606520Z",
     "iopub.status.busy": "2022-08-09T17:59:09.606153Z",
     "iopub.status.idle": "2022-08-09T17:59:10.028706Z",
     "shell.execute_reply": "2022-08-09T17:59:10.027454Z"
    },
    "papermill": {
     "duration": 0.463045,
     "end_time": "2022-08-09T17:59:10.031853",
     "exception": false,
     "start_time": "2022-08-09T17:59:09.568808",
     "status": "completed"
    },
    "tags": []
   },
   "outputs": [
    {
     "data": {
      "text/plain": [
       "<AxesSubplot:>"
      ]
     },
     "execution_count": 66,
     "metadata": {},
     "output_type": "execute_result"
    },
    {
     "data": {
      "image/png": "[encoded data removed]",
      "text/plain": [
       "<Figure size 432x288 with 2 Axes>"
      ]
     },
     "metadata": {
      "needs_background": "light"
     },
     "output_type": "display_data"
    }
   ],
   "source": [
    "cm_knn=confusion_matrix(test_y, y_pred_knn)\n",
    "sns.heatmap(cm_knn, annot=True, fmt='.20g', cmap=plt.cm.Blues)"
   ]
  },
  {
   "cell_type": "code",
   "execution_count": 67,
   "id": "e598906d",
   "metadata": {
    "execution": {
     "iopub.execute_input": "2022-08-09T17:59:10.110755Z",
     "iopub.status.busy": "2022-08-09T17:59:10.109573Z",
     "iopub.status.idle": "2022-08-09T17:59:10.290069Z",
     "shell.execute_reply": "2022-08-09T17:59:10.288901Z"
    },
    "jupyter": {
     "source_hidden": true
    },
    "papermill": {
     "duration": 0.220761,
     "end_time": "2022-08-09T17:59:10.292742",
     "exception": false,
     "start_time": "2022-08-09T17:59:10.071981",
     "status": "completed"
    },
    "tags": []
   },
   "outputs": [
    {
     "name": "stdout",
     "output_type": "stream",
     "text": [
      "0.000000 0.000000 2.000000\n",
      "0.000526 0.991221 1.000000\n",
      "1.000000 1.000000 0.000000\n"
     ]
    },
    {
     "data": {
      "image/png": "[encoded data removed]",
      "text/plain": [
       "<Figure size 432x288 with 1 Axes>"
      ]
     },
     "metadata": {
      "needs_background": "light"
     },
     "output_type": "display_data"
    }
   ],
   "source": [
    "    from sklearn.metrics import roc_curve, auc\n",
    "    \n",
    "    \n",
    "    fpr, tpr, thersholds = roc_curve(test_y, y_pred_knn)\n",
    "     \n",
    "    for i, value in enumerate(thersholds):\n",
    "        print(\"%f %f %f\" % (fpr[i], tpr[i], value))\n",
    "     \n",
    "    roc_auc = auc(fpr, tpr)\n",
    "     \n",
    "    plt.plot(fpr, tpr, 'k--', label='ROC (area = {0:.2f})'.format(roc_auc), lw=2,color='red')\n",
    "    plt.xlim([-0.05, 1.05])  \n",
    "    plt.ylim([-0.05, 1.05])\n",
    "    plt.xlabel('False Positive Rate')\n",
    "    plt.ylabel('True Positive Rate')  \n",
    "    plt.title('ROC Curve')\n",
    "    plt.legend(loc=\"lower right\")\n",
    "    plt.show()"
   ]
  },
  {
   "cell_type": "markdown",
   "id": "ca936b08",
   "metadata": {
    "papermill": {
     "duration": 0.042394,
     "end_time": "2022-08-09T17:59:10.381695",
     "exception": false,
     "start_time": "2022-08-09T17:59:10.339301",
     "status": "completed"
    },
    "tags": []
   },
   "source": [
    "## XGB"
   ]
  },
  {
   "cell_type": "code",
   "execution_count": 68,
   "id": "8cb83162",
   "metadata": {
    "execution": {
     "iopub.execute_input": "2022-08-09T17:59:10.462244Z",
     "iopub.status.busy": "2022-08-09T17:59:10.461837Z",
     "iopub.status.idle": "2022-08-09T17:59:10.466457Z",
     "shell.execute_reply": "2022-08-09T17:59:10.465699Z"
    },
    "papermill": {
     "duration": 0.047378,
     "end_time": "2022-08-09T17:59:10.469134",
     "exception": false,
     "start_time": "2022-08-09T17:59:10.421756",
     "status": "completed"
    },
    "tags": []
   },
   "outputs": [],
   "source": [
    "from xgboost import XGBClassifier"
   ]
  },
  {
   "cell_type": "code",
   "execution_count": 69,
   "id": "ee533692",
   "metadata": {
    "execution": {
     "iopub.execute_input": "2022-08-09T17:59:10.543579Z",
     "iopub.status.busy": "2022-08-09T17:59:10.542759Z",
     "iopub.status.idle": "2022-08-09T17:59:10.562127Z",
     "shell.execute_reply": "2022-08-09T17:59:10.561007Z"
    },
    "papermill": {
     "duration": 0.05934,
     "end_time": "2022-08-09T17:59:10.564580",
     "exception": false,
     "start_time": "2022-08-09T17:59:10.505240",
     "status": "completed"
    },
    "tags": []
   },
   "outputs": [
    {
     "data": {
      "text/plain": [
       "0.0    912597\n",
       "1.0     87403\n",
       "Name: fraud, dtype: int64"
      ]
     },
     "execution_count": 69,
     "metadata": {},
     "output_type": "execute_result"
    }
   ],
   "source": [
    "df['fraud'].value_counts()"
   ]
  },
  {
   "cell_type": "code",
   "execution_count": 70,
   "id": "dcafec07",
   "metadata": {
    "execution": {
     "iopub.execute_input": "2022-08-09T17:59:10.644957Z",
     "iopub.status.busy": "2022-08-09T17:59:10.643731Z",
     "iopub.status.idle": "2022-08-09T18:02:35.222974Z",
     "shell.execute_reply": "2022-08-09T18:02:35.222102Z"
    },
    "papermill": {
     "duration": 204.658027,
     "end_time": "2022-08-09T18:02:35.261055",
     "exception": false,
     "start_time": "2022-08-09T17:59:10.603028",
     "status": "completed"
    },
    "tags": []
   },
   "outputs": [
    {
     "data": {
      "text/plain": [
       "array([0.99998 , 0.99999 , 0.999985, 0.999975, 0.99999 ])"
      ]
     },
     "execution_count": 70,
     "metadata": {},
     "output_type": "execute_result"
    }
   ],
   "source": [
    "xgb = XGBClassifier(nthread=-1,scale_pos_weight=9,random_state=0)\n",
    "eval_set = [(test_x, test_y)]\n",
    "xgb.fit(train_x, train_y, early_stopping_rounds=10, eval_metric=\"logloss\", eval_set=eval_set, verbose=False)\n",
    "y_pred_xgb = xgb.predict(test_x)\n",
    "predictions = [round(value) for value in y_pred_xgb]\n",
    "cross_val_score(xgb,x,y,cv=5,scoring=\"accuracy\")"
   ]
  },
  {
   "cell_type": "code",
   "execution_count": 71,
   "id": "d7517de9",
   "metadata": {
    "execution": {
     "iopub.execute_input": "2022-08-09T18:02:35.335850Z",
     "iopub.status.busy": "2022-08-09T18:02:35.335202Z",
     "iopub.status.idle": "2022-08-09T18:02:35.342328Z",
     "shell.execute_reply": "2022-08-09T18:02:35.341305Z"
    },
    "papermill": {
     "duration": 0.047192,
     "end_time": "2022-08-09T18:02:35.344854",
     "exception": false,
     "start_time": "2022-08-09T18:02:35.297662",
     "status": "completed"
    },
    "tags": []
   },
   "outputs": [
    {
     "data": {
      "text/plain": [
       "\"\\nfrom sklearn.model_selection import GridSearchCV\\n#初步定义分类器\\nxgb = XGBClassifier(nthread=-1,scale_pos_weight=9,random_state=0)\\ntuned_parameters = [{ 'n_estimatores':range(0,201,50),'max_depth':[3, 5, 6, 7, 9, 12]}]\\n#神器出场,cv设置交叉验证\\nclf = GridSearchCV(estimator=xgb,param_grid=tuned_parameters, cv=5,scoring = 'neg_log_loss', n_jobs=-1)\\n#拟合训练集\\nclf.fit(x, y)\\nprint('Best parameters:')\\nprint(clf.best_params_)\\nprint(clf.best_score_)\\n\""
      ]
     },
     "execution_count": 71,
     "metadata": {},
     "output_type": "execute_result"
    }
   ],
   "source": [
    "    '''\n",
    "    from sklearn.model_selection import GridSearchCV\n",
    "    #初步定义分类器\n",
    "    xgb = XGBClassifier(nthread=-1,scale_pos_weight=9,random_state=0)\n",
    "    tuned_parameters = [{ 'n_estimatores':range(0,201,50),'max_depth':[3, 5, 6, 7, 9, 12]}]\n",
    "    #神器出场,cv设置交叉验证\n",
    "    clf = GridSearchCV(estimator=xgb,param_grid=tuned_parameters, cv=5,scoring = 'neg_log_loss', n_jobs=-1)\n",
    "    #拟合训练集\n",
    "    clf.fit(x, y)\n",
    "    print('Best parameters:')\n",
    "    print(clf.best_params_)\n",
    "    print(clf.best_score_)\n",
    "    '''\n",
    "    #Best parameters:{'max_depth': 3, 'n_estimatores': 0}"
   ]
  },
  {
   "cell_type": "code",
   "execution_count": 72,
   "id": "89322980",
   "metadata": {
    "execution": {
     "iopub.execute_input": "2022-08-09T18:02:35.421035Z",
     "iopub.status.busy": "2022-08-09T18:02:35.420635Z",
     "iopub.status.idle": "2022-08-09T18:05:20.815798Z",
     "shell.execute_reply": "2022-08-09T18:05:20.814677Z"
    },
    "papermill": {
     "duration": 165.470461,
     "end_time": "2022-08-09T18:05:20.853169",
     "exception": false,
     "start_time": "2022-08-09T18:02:35.382708",
     "status": "completed"
    },
    "tags": []
   },
   "outputs": [
    {
     "name": "stdout",
     "output_type": "stream",
     "text": [
      "[18:02:35] WARNING: ../src/learner.cc:627: \n",
      "Parameters: { \"device\", \"gpu_device_id\", \"n_estimatores\" } might not be used.\n",
      "\n",
      "  This could be a false alarm, with some parameters getting used by language bindings but\n",
      "  then being mistakenly passed down to XGBoost core, or some parameter actually being used\n",
      "  but getting flagged wrongly here. Please open an issue if you find any such cases.\n",
      "\n",
      "\n",
      "[18:03:02] WARNING: ../src/learner.cc:627: \n",
      "Parameters: { \"device\", \"gpu_device_id\", \"n_estimatores\" } might not be used.\n",
      "\n",
      "  This could be a false alarm, with some parameters getting used by language bindings but\n",
      "  then being mistakenly passed down to XGBoost core, or some parameter actually being used\n",
      "  but getting flagged wrongly here. Please open an issue if you find any such cases.\n",
      "\n",
      "\n",
      "[18:03:30] WARNING: ../src/learner.cc:627: \n",
      "Parameters: { \"device\", \"gpu_device_id\", \"n_estimatores\" } might not be used.\n",
      "\n",
      "  This could be a false alarm, with some parameters getting used by language bindings but\n",
      "  then being mistakenly passed down to XGBoost core, or some parameter actually being used\n",
      "  but getting flagged wrongly here. Please open an issue if you find any such cases.\n",
      "\n",
      "\n",
      "[18:03:58] WARNING: ../src/learner.cc:627: \n",
      "Parameters: { \"device\", \"gpu_device_id\", \"n_estimatores\" } might not be used.\n",
      "\n",
      "  This could be a false alarm, with some parameters getting used by language bindings but\n",
      "  then being mistakenly passed down to XGBoost core, or some parameter actually being used\n",
      "  but getting flagged wrongly here. Please open an issue if you find any such cases.\n",
      "\n",
      "\n",
      "[18:04:26] WARNING: ../src/learner.cc:627: \n",
      "Parameters: { \"device\", \"gpu_device_id\", \"n_estimatores\" } might not be used.\n",
      "\n",
      "  This could be a false alarm, with some parameters getting used by language bindings but\n",
      "  then being mistakenly passed down to XGBoost core, or some parameter actually being used\n",
      "  but getting flagged wrongly here. Please open an issue if you find any such cases.\n",
      "\n",
      "\n",
      "[18:04:53] WARNING: ../src/learner.cc:627: \n",
      "Parameters: { \"device\", \"gpu_device_id\", \"n_estimatores\" } might not be used.\n",
      "\n",
      "  This could be a false alarm, with some parameters getting used by language bindings but\n",
      "  then being mistakenly passed down to XGBoost core, or some parameter actually being used\n",
      "  but getting flagged wrongly here. Please open an issue if you find any such cases.\n",
      "\n",
      "\n"
     ]
    },
    {
     "data": {
      "text/plain": [
       "array([0.999975, 0.99999 , 0.999995, 0.99999 , 0.99998 ])"
      ]
     },
     "execution_count": 72,
     "metadata": {},
     "output_type": "execute_result"
    }
   ],
   "source": [
    "xgb = XGBClassifier(nthread=-1,scale_pos_weight=9,random_state=0,max_depth=3,n_estimatores=0,device='gpu', gpu_device_id=0)\n",
    "eval_set = [(test_x, test_y)]\n",
    "xgb.fit(train_x, train_y, early_stopping_rounds=10, eval_metric=\"logloss\", eval_set=eval_set, verbose=False)\n",
    "y_pred_xgb = xgb.predict(test_x)\n",
    "predictions = [round(value) for value in y_pred_xgb]\n",
    "cross_val_score(xgb,x,y,cv=5,scoring=\"accuracy\")"
   ]
  },
  {
   "cell_type": "code",
   "execution_count": 73,
   "id": "acf5115c",
   "metadata": {
    "execution": {
     "iopub.execute_input": "2022-08-09T18:05:20.929695Z",
     "iopub.status.busy": "2022-08-09T18:05:20.928925Z",
     "iopub.status.idle": "2022-08-09T18:05:21.371558Z",
     "shell.execute_reply": "2022-08-09T18:05:21.370404Z"
    },
    "papermill": {
     "duration": 0.484146,
     "end_time": "2022-08-09T18:05:21.374353",
     "exception": false,
     "start_time": "2022-08-09T18:05:20.890207",
     "status": "completed"
    },
    "tags": []
   },
   "outputs": [
    {
     "data": {
      "text/plain": [
       "(1.0, 0.9998854918126646, 0.9999427426281133)"
      ]
     },
     "execution_count": 73,
     "metadata": {},
     "output_type": "execute_result"
    }
   ],
   "source": [
    "precision_score(test_y, y_pred_xgb),recall_score(test_y, y_pred_xgb),f1_score(test_y, y_pred_xgb)"
   ]
  },
  {
   "cell_type": "code",
   "execution_count": 74,
   "id": "2d8721fa",
   "metadata": {
    "execution": {
     "iopub.execute_input": "2022-08-09T18:05:21.451418Z",
     "iopub.status.busy": "2022-08-09T18:05:21.450693Z",
     "iopub.status.idle": "2022-08-09T18:05:21.867941Z",
     "shell.execute_reply": "2022-08-09T18:05:21.866836Z"
    },
    "papermill": {
     "duration": 0.458359,
     "end_time": "2022-08-09T18:05:21.870628",
     "exception": false,
     "start_time": "2022-08-09T18:05:21.412269",
     "status": "completed"
    },
    "tags": []
   },
   "outputs": [
    {
     "data": {
      "text/plain": [
       "<AxesSubplot:>"
      ]
     },
     "execution_count": 74,
     "metadata": {},
     "output_type": "execute_result"
    },
    {
     "data": {
      "image/png": "[encoded data removed]",
      "text/plain": [
       "<Figure size 432x288 with 2 Axes>"
      ]
     },
     "metadata": {
      "needs_background": "light"
     },
     "output_type": "display_data"
    }
   ],
   "source": [
    "cm_xgb=confusion_matrix(test_y, y_pred_xgb)\n",
    "sns.heatmap(cm_xgb, annot=True, fmt='.20g', cmap=plt.cm.Blues)"
   ]
  },
  {
   "cell_type": "code",
   "execution_count": 75,
   "id": "ded6abfa",
   "metadata": {
    "execution": {
     "iopub.execute_input": "2022-08-09T18:05:21.948288Z",
     "iopub.status.busy": "2022-08-09T18:05:21.947527Z",
     "iopub.status.idle": "2022-08-09T18:05:22.113442Z",
     "shell.execute_reply": "2022-08-09T18:05:22.112563Z"
    },
    "papermill": {
     "duration": 0.207251,
     "end_time": "2022-08-09T18:05:22.115758",
     "exception": false,
     "start_time": "2022-08-09T18:05:21.908507",
     "status": "completed"
    },
    "tags": []
   },
   "outputs": [
    {
     "name": "stdout",
     "output_type": "stream",
     "text": [
      "0.000000 0.000000 2.000000\n",
      "0.000000 0.999885 1.000000\n",
      "1.000000 1.000000 0.000000\n"
     ]
    },
    {
     "data": {
      "image/png": "[encoded data removed]",
      "text/plain": [
       "<Figure size 432x288 with 1 Axes>"
      ]
     },
     "metadata": {
      "needs_background": "light"
     },
     "output_type": "display_data"
    }
   ],
   "source": [
    "    from sklearn.metrics import roc_curve, auc\n",
    "    \n",
    "    \n",
    "    fpr, tpr, thersholds = roc_curve(test_y, y_pred_xgb)\n",
    "     \n",
    "    for i, value in enumerate(thersholds):\n",
    "        print(\"%f %f %f\" % (fpr[i], tpr[i], value))\n",
    "     \n",
    "    roc_auc = auc(fpr, tpr)\n",
    "     \n",
    "    plt.plot(fpr, tpr, 'k--', label='ROC (area = {0:.2f})'.format(roc_auc), lw=2,color='red')\n",
    "    plt.xlim([-0.05, 1.05])  \n",
    "    plt.ylim([-0.05, 1.05])\n",
    "    plt.xlabel('False Positive Rate')\n",
    "    plt.ylabel('True Positive Rate')  \n",
    "    plt.title('ROC Curve')\n",
    "    plt.legend(loc=\"lower right\")\n",
    "    plt.show()"
   ]
  },
  {
   "cell_type": "markdown",
   "id": "abba799f",
   "metadata": {
    "papermill": {
     "duration": 0.036993,
     "end_time": "2022-08-09T18:05:22.190036",
     "exception": false,
     "start_time": "2022-08-09T18:05:22.153043",
     "status": "completed"
    },
    "tags": []
   },
   "source": [
    "## LGB"
   ]
  },
  {
   "cell_type": "code",
   "execution_count": 76,
   "id": "42567e5f",
   "metadata": {
    "execution": {
     "iopub.execute_input": "2022-08-09T18:05:22.267721Z",
     "iopub.status.busy": "2022-08-09T18:05:22.266603Z",
     "iopub.status.idle": "2022-08-09T18:05:22.271378Z",
     "shell.execute_reply": "2022-08-09T18:05:22.270658Z"
    },
    "papermill": {
     "duration": 0.045572,
     "end_time": "2022-08-09T18:05:22.273293",
     "exception": false,
     "start_time": "2022-08-09T18:05:22.227721",
     "status": "completed"
    },
    "tags": []
   },
   "outputs": [],
   "source": [
    "from lightgbm.sklearn import LGBMClassifier"
   ]
  },
  {
   "cell_type": "code",
   "execution_count": 77,
   "id": "db2506d1",
   "metadata": {
    "execution": {
     "iopub.execute_input": "2022-08-09T18:05:22.350964Z",
     "iopub.status.busy": "2022-08-09T18:05:22.350378Z",
     "iopub.status.idle": "2022-08-09T18:05:47.738305Z",
     "shell.execute_reply": "2022-08-09T18:05:47.737186Z"
    },
    "papermill": {
     "duration": 25.429016,
     "end_time": "2022-08-09T18:05:47.740548",
     "exception": false,
     "start_time": "2022-08-09T18:05:22.311532",
     "status": "completed"
    },
    "tags": []
   },
   "outputs": [
    {
     "data": {
      "text/plain": [
       "array([0.99821 , 0.99807 , 0.99788 , 0.997855, 0.998465])"
      ]
     },
     "execution_count": 77,
     "metadata": {},
     "output_type": "execute_result"
    }
   ],
   "source": [
    "lgbm = LGBMClassifier(random_state=0,learning_rate=0.1,max_depth = -1,num_leaves = 127,colsample_bytree = 0.8, subsample = 0.8 )\n",
    "lgbm.fit(train_x, train_y)\n",
    "cross_val_score(lgbm,x,y,cv=5,scoring=\"accuracy\")"
   ]
  },
  {
   "cell_type": "code",
   "execution_count": 78,
   "id": "10b66d21",
   "metadata": {
    "execution": {
     "iopub.execute_input": "2022-08-09T18:05:47.819852Z",
     "iopub.status.busy": "2022-08-09T18:05:47.819172Z",
     "iopub.status.idle": "2022-08-09T18:05:47.824188Z",
     "shell.execute_reply": "2022-08-09T18:05:47.823147Z"
    },
    "papermill": {
     "duration": 0.047369,
     "end_time": "2022-08-09T18:05:47.826338",
     "exception": false,
     "start_time": "2022-08-09T18:05:47.778969",
     "status": "completed"
    },
    "tags": []
   },
   "outputs": [],
   "source": [
    "    '''\n",
    "    #调参过程\n",
    "    from sklearn.model_selection import GridSearchCV\n",
    "    #初步定义分类器\n",
    "    lgbm = LGBMClassifier(random_state=0,learning_rate=0.1,lambda_l1= 0.1,lambda_l2=0.2,  device='gpu', gpu_device_id=0)\n",
    "    tuned_parameters = [{ 'n_estimatores':range(0,201,50),'max_depth':[3, 5, 6, 7, 9, 12]}]\n",
    "    #神器出场,cv设置交叉验证\n",
    "    clf = GridSearchCV(estimator=lgbm,param_grid=tuned_parameters, cv=5, n_jobs=-1)\n",
    "    #拟合训练集\n",
    "    clf.fit(x, y)\n",
    "    print('Best parameters:')\n",
    "    print(clf.best_params_)\n",
    "    print(clf.best_score_)\n",
    "    '''\n",
    "    #Best parameters:\n",
    "    max_depth_best=5\n",
    "    n_estimatores_best= 0\n",
    "    acc_lgbm_best=0.998382"
   ]
  },
  {
   "cell_type": "code",
   "execution_count": 79,
   "id": "579a711b",
   "metadata": {
    "execution": {
     "iopub.execute_input": "2022-08-09T18:05:47.903962Z",
     "iopub.status.busy": "2022-08-09T18:05:47.903547Z",
     "iopub.status.idle": "2022-08-09T18:06:18.574264Z",
     "shell.execute_reply": "2022-08-09T18:06:18.573379Z"
    },
    "papermill": {
     "duration": 30.712518,
     "end_time": "2022-08-09T18:06:18.576851",
     "exception": false,
     "start_time": "2022-08-09T18:05:47.864333",
     "status": "completed"
    },
    "tags": []
   },
   "outputs": [
    {
     "name": "stdout",
     "output_type": "stream",
     "text": [
      "[18:05:48] WARNING: ../src/learner.cc:627: \n",
      "Parameters: { \"n_estimatorest\" } might not be used.\n",
      "\n",
      "  This could be a false alarm, with some parameters getting used by language bindings but\n",
      "  then being mistakenly passed down to XGBoost core, or some parameter actually being used\n",
      "  but getting flagged wrongly here. Please open an issue if you find any such cases.\n",
      "\n",
      "\n"
     ]
    }
   ],
   "source": [
    "lgbm = XGBClassifier(nthread=-1,scale_pos_weight=9,random_state=0,max_depth=max_depth_best,n_estimatorest=n_estimatores_best)\n",
    "lgbm.fit(train_x, train_y)\n",
    "y_pred_lgbm = lgbm.predict(test_x)"
   ]
  },
  {
   "cell_type": "code",
   "execution_count": 80,
   "id": "6f239045",
   "metadata": {
    "execution": {
     "iopub.execute_input": "2022-08-09T18:06:18.657599Z",
     "iopub.status.busy": "2022-08-09T18:06:18.657178Z",
     "iopub.status.idle": "2022-08-09T18:09:14.202803Z",
     "shell.execute_reply": "2022-08-09T18:09:14.201673Z"
    },
    "papermill": {
     "duration": 175.626053,
     "end_time": "2022-08-09T18:09:14.243097",
     "exception": false,
     "start_time": "2022-08-09T18:06:18.617044",
     "status": "completed"
    },
    "tags": []
   },
   "outputs": [
    {
     "name": "stdout",
     "output_type": "stream",
     "text": [
      "[18:06:19] WARNING: ../src/learner.cc:627: \n",
      "Parameters: { \"n_estimatorest\" } might not be used.\n",
      "\n",
      "  This could be a false alarm, with some parameters getting used by language bindings but\n",
      "  then being mistakenly passed down to XGBoost core, or some parameter actually being used\n",
      "  but getting flagged wrongly here. Please open an issue if you find any such cases.\n",
      "\n",
      "\n",
      "[18:06:54] WARNING: ../src/learner.cc:627: \n",
      "Parameters: { \"n_estimatorest\" } might not be used.\n",
      "\n",
      "  This could be a false alarm, with some parameters getting used by language bindings but\n",
      "  then being mistakenly passed down to XGBoost core, or some parameter actually being used\n",
      "  but getting flagged wrongly here. Please open an issue if you find any such cases.\n",
      "\n",
      "\n",
      "[18:07:29] WARNING: ../src/learner.cc:627: \n",
      "Parameters: { \"n_estimatorest\" } might not be used.\n",
      "\n",
      "  This could be a false alarm, with some parameters getting used by language bindings but\n",
      "  then being mistakenly passed down to XGBoost core, or some parameter actually being used\n",
      "  but getting flagged wrongly here. Please open an issue if you find any such cases.\n",
      "\n",
      "\n",
      "[18:08:04] WARNING: ../src/learner.cc:627: \n",
      "Parameters: { \"n_estimatorest\" } might not be used.\n",
      "\n",
      "  This could be a false alarm, with some parameters getting used by language bindings but\n",
      "  then being mistakenly passed down to XGBoost core, or some parameter actually being used\n",
      "  but getting flagged wrongly here. Please open an issue if you find any such cases.\n",
      "\n",
      "\n",
      "[18:08:39] WARNING: ../src/learner.cc:627: \n",
      "Parameters: { \"n_estimatorest\" } might not be used.\n",
      "\n",
      "  This could be a false alarm, with some parameters getting used by language bindings but\n",
      "  then being mistakenly passed down to XGBoost core, or some parameter actually being used\n",
      "  but getting flagged wrongly here. Please open an issue if you find any such cases.\n",
      "\n",
      "\n"
     ]
    },
    {
     "data": {
      "text/plain": [
       "array([0.99998 , 0.999995, 0.999985, 0.99998 , 0.999995])"
      ]
     },
     "execution_count": 80,
     "metadata": {},
     "output_type": "execute_result"
    }
   ],
   "source": [
    "cross_val_score(lgbm,x,y,cv=5,scoring=\"accuracy\")"
   ]
  },
  {
   "cell_type": "code",
   "execution_count": 81,
   "id": "d4ccd825",
   "metadata": {
    "execution": {
     "iopub.execute_input": "2022-08-09T18:09:14.322234Z",
     "iopub.status.busy": "2022-08-09T18:09:14.321458Z",
     "iopub.status.idle": "2022-08-09T18:09:14.764666Z",
     "shell.execute_reply": "2022-08-09T18:09:14.763610Z"
    },
    "papermill": {
     "duration": 0.485746,
     "end_time": "2022-08-09T18:09:14.767341",
     "exception": false,
     "start_time": "2022-08-09T18:09:14.281595",
     "status": "completed"
    },
    "tags": []
   },
   "outputs": [
    {
     "data": {
      "text/plain": [
       "(1.0, 0.9997709836253292, 0.999885478699038)"
      ]
     },
     "execution_count": 81,
     "metadata": {},
     "output_type": "execute_result"
    }
   ],
   "source": [
    "precision_score(test_y, y_pred_lgbm),recall_score(test_y, y_pred_lgbm),f1_score(test_y, y_pred_lgbm)"
   ]
  },
  {
   "cell_type": "code",
   "execution_count": 82,
   "id": "f328519a",
   "metadata": {
    "execution": {
     "iopub.execute_input": "2022-08-09T18:09:14.847887Z",
     "iopub.status.busy": "2022-08-09T18:09:14.847133Z",
     "iopub.status.idle": "2022-08-09T18:09:15.271419Z",
     "shell.execute_reply": "2022-08-09T18:09:15.270592Z"
    },
    "papermill": {
     "duration": 0.466908,
     "end_time": "2022-08-09T18:09:15.273693",
     "exception": false,
     "start_time": "2022-08-09T18:09:14.806785",
     "status": "completed"
    },
    "tags": []
   },
   "outputs": [
    {
     "data": {
      "text/plain": [
       "<AxesSubplot:>"
      ]
     },
     "execution_count": 82,
     "metadata": {},
     "output_type": "execute_result"
    },
    {
     "data": {
      "image/png": "[encoded data removed]",
      "text/plain": [
       "<Figure size 432x288 with 2 Axes>"
      ]
     },
     "metadata": {
      "needs_background": "light"
     },
     "output_type": "display_data"
    }
   ],
   "source": [
    "cm_lgbm=confusion_matrix(test_y, y_pred_lgbm)\n",
    "sns.heatmap(cm_lgbm, annot=True, fmt='.20g', cmap=plt.cm.Blues)"
   ]
  },
  {
   "cell_type": "code",
   "execution_count": 83,
   "id": "9a5871d9",
   "metadata": {
    "execution": {
     "iopub.execute_input": "2022-08-09T18:09:15.353038Z",
     "iopub.status.busy": "2022-08-09T18:09:15.352328Z",
     "iopub.status.idle": "2022-08-09T18:09:15.596937Z",
     "shell.execute_reply": "2022-08-09T18:09:15.595842Z"
    },
    "papermill": {
     "duration": 0.287034,
     "end_time": "2022-08-09T18:09:15.599586",
     "exception": false,
     "start_time": "2022-08-09T18:09:15.312552",
     "status": "completed"
    },
    "tags": []
   },
   "outputs": [
    {
     "name": "stdout",
     "output_type": "stream",
     "text": [
      "0.000000 0.000000 2.000000\n",
      "0.000000 0.999771 1.000000\n",
      "1.000000 1.000000 0.000000\n"
     ]
    },
    {
     "data": {
      "image/png": "[encoded data removed]",
      "text/plain": [
       "<Figure size 432x288 with 1 Axes>"
      ]
     },
     "metadata": {
      "needs_background": "light"
     },
     "output_type": "display_data"
    }
   ],
   "source": [
    "    from sklearn.metrics import roc_curve, auc\n",
    "    \n",
    "    \n",
    "    fpr, tpr, thersholds = roc_curve(test_y, y_pred_lgbm)\n",
    "     \n",
    "    for i, value in enumerate(thersholds):\n",
    "        print(\"%f %f %f\" % (fpr[i], tpr[i], value))\n",
    "     \n",
    "    roc_auc = auc(fpr, tpr)\n",
    "     \n",
    "    plt.plot(fpr, tpr, 'k--', label='ROC (area = {0:.2f})'.format(roc_auc), lw=2,color='red')\n",
    "    plt.xlim([-0.05, 1.05])  \n",
    "    plt.ylim([-0.05, 1.05])\n",
    "    plt.xlabel('False Positive Rate')\n",
    "    plt.ylabel('True Positive Rate')  \n",
    "    plt.title('ROC Curve')\n",
    "    plt.legend(loc=\"lower right\")\n",
    "    plt.savefig('./4.png',dpi=100)\n",
    "    plt.show()"
   ]
  },
  {
   "cell_type": "markdown",
   "id": "85c1ce14",
   "metadata": {
    "papermill": {
     "duration": 0.038526,
     "end_time": "2022-08-09T18:09:15.729633",
     "exception": false,
     "start_time": "2022-08-09T18:09:15.691107",
     "status": "completed"
    },
    "tags": []
   },
   "source": [
    "## stacking"
   ]
  },
  {
   "cell_type": "code",
   "execution_count": null,
   "id": "74827f88",
   "metadata": {
    "execution": {
     "iopub.execute_input": "2022-08-09T15:48:09.461589Z",
     "iopub.status.busy": "2022-08-09T15:48:09.461197Z",
     "iopub.status.idle": "2022-08-09T15:48:09.467053Z",
     "shell.execute_reply": "2022-08-09T15:48:09.466248Z",
     "shell.execute_reply.started": "2022-08-09T15:48:09.461557Z"
    },
    "papermill": {
     "duration": 0.038574,
     "end_time": "2022-08-09T18:09:15.806173",
     "exception": false,
     "start_time": "2022-08-09T18:09:15.767599",
     "status": "completed"
    },
    "tags": []
   },
   "outputs": [],
   "source": []
  },
  {
   "cell_type": "code",
   "execution_count": 84,
   "id": "569ca267",
   "metadata": {
    "execution": {
     "iopub.execute_input": "2022-08-09T18:09:15.885563Z",
     "iopub.status.busy": "2022-08-09T18:09:15.885136Z",
     "iopub.status.idle": "2022-08-09T18:16:19.377093Z",
     "shell.execute_reply": "2022-08-09T18:16:19.375520Z"
    },
    "papermill": {
     "duration": 423.535242,
     "end_time": "2022-08-09T18:16:19.380013",
     "exception": false,
     "start_time": "2022-08-09T18:09:15.844771",
     "status": "completed"
    },
    "tags": []
   },
   "outputs": [
    {
     "name": "stdout",
     "output_type": "stream",
     "text": [
      "[18:09:46] WARNING: ../src/learner.cc:627: \n",
      "Parameters: { \"device\", \"gpu_device_id\", \"n_estimatores\" } might not be used.\n",
      "\n",
      "  This could be a false alarm, with some parameters getting used by language bindings but\n",
      "  then being mistakenly passed down to XGBoost core, or some parameter actually being used\n",
      "  but getting flagged wrongly here. Please open an issue if you find any such cases.\n",
      "\n",
      "\n",
      "[18:10:10] WARNING: ../src/learner.cc:627: \n",
      "Parameters: { \"n_estimatorest\" } might not be used.\n",
      "\n",
      "  This could be a false alarm, with some parameters getting used by language bindings but\n",
      "  then being mistakenly passed down to XGBoost core, or some parameter actually being used\n",
      "  but getting flagged wrongly here. Please open an issue if you find any such cases.\n",
      "\n",
      "\n",
      "[18:12:37] WARNING: ../src/learner.cc:627: \n",
      "Parameters: { \"device\", \"gpu_device_id\", \"n_estimatores\" } might not be used.\n",
      "\n",
      "  This could be a false alarm, with some parameters getting used by language bindings but\n",
      "  then being mistakenly passed down to XGBoost core, or some parameter actually being used\n",
      "  but getting flagged wrongly here. Please open an issue if you find any such cases.\n",
      "\n",
      "\n",
      "[18:12:57] WARNING: ../src/learner.cc:627: \n",
      "Parameters: { \"device\", \"gpu_device_id\", \"n_estimatores\" } might not be used.\n",
      "\n",
      "  This could be a false alarm, with some parameters getting used by language bindings but\n",
      "  then being mistakenly passed down to XGBoost core, or some parameter actually being used\n",
      "  but getting flagged wrongly here. Please open an issue if you find any such cases.\n",
      "\n",
      "\n",
      "[18:13:16] WARNING: ../src/learner.cc:627: \n",
      "Parameters: { \"device\", \"gpu_device_id\", \"n_estimatores\" } might not be used.\n",
      "\n",
      "  This could be a false alarm, with some parameters getting used by language bindings but\n",
      "  then being mistakenly passed down to XGBoost core, or some parameter actually being used\n",
      "  but getting flagged wrongly here. Please open an issue if you find any such cases.\n",
      "\n",
      "\n",
      "[18:13:35] WARNING: ../src/learner.cc:627: \n",
      "Parameters: { \"device\", \"gpu_device_id\", \"n_estimatores\" } might not be used.\n",
      "\n",
      "  This could be a false alarm, with some parameters getting used by language bindings but\n",
      "  then being mistakenly passed down to XGBoost core, or some parameter actually being used\n",
      "  but getting flagged wrongly here. Please open an issue if you find any such cases.\n",
      "\n",
      "\n",
      "[18:13:55] WARNING: ../src/learner.cc:627: \n",
      "Parameters: { \"device\", \"gpu_device_id\", \"n_estimatores\" } might not be used.\n",
      "\n",
      "  This could be a false alarm, with some parameters getting used by language bindings but\n",
      "  then being mistakenly passed down to XGBoost core, or some parameter actually being used\n",
      "  but getting flagged wrongly here. Please open an issue if you find any such cases.\n",
      "\n",
      "\n",
      "[18:14:14] WARNING: ../src/learner.cc:627: \n",
      "Parameters: { \"n_estimatorest\" } might not be used.\n",
      "\n",
      "  This could be a false alarm, with some parameters getting used by language bindings but\n",
      "  then being mistakenly passed down to XGBoost core, or some parameter actually being used\n",
      "  but getting flagged wrongly here. Please open an issue if you find any such cases.\n",
      "\n",
      "\n",
      "[18:14:39] WARNING: ../src/learner.cc:627: \n",
      "Parameters: { \"n_estimatorest\" } might not be used.\n",
      "\n",
      "  This could be a false alarm, with some parameters getting used by language bindings but\n",
      "  then being mistakenly passed down to XGBoost core, or some parameter actually being used\n",
      "  but getting flagged wrongly here. Please open an issue if you find any such cases.\n",
      "\n",
      "\n",
      "[18:15:03] WARNING: ../src/learner.cc:627: \n",
      "Parameters: { \"n_estimatorest\" } might not be used.\n",
      "\n",
      "  This could be a false alarm, with some parameters getting used by language bindings but\n",
      "  then being mistakenly passed down to XGBoost core, or some parameter actually being used\n",
      "  but getting flagged wrongly here. Please open an issue if you find any such cases.\n",
      "\n",
      "\n",
      "[18:15:27] WARNING: ../src/learner.cc:627: \n",
      "Parameters: { \"n_estimatorest\" } might not be used.\n",
      "\n",
      "  This could be a false alarm, with some parameters getting used by language bindings but\n",
      "  then being mistakenly passed down to XGBoost core, or some parameter actually being used\n",
      "  but getting flagged wrongly here. Please open an issue if you find any such cases.\n",
      "\n",
      "\n",
      "[18:15:51] WARNING: ../src/learner.cc:627: \n",
      "Parameters: { \"n_estimatorest\" } might not be used.\n",
      "\n",
      "  This could be a false alarm, with some parameters getting used by language bindings but\n",
      "  then being mistakenly passed down to XGBoost core, or some parameter actually being used\n",
      "  but getting flagged wrongly here. Please open an issue if you find any such cases.\n",
      "\n",
      "\n"
     ]
    }
   ],
   "source": [
    "from sklearn.ensemble import StackingClassifier\n",
    "sta = StackingClassifier(estimators=[('rfc', rfc),('xgb',xgb ),('lgbm', lgbm)])\n",
    "sta.fit(train_x, train_y)\n",
    "y_pred_sta = sta.predict(test_x)"
   ]
  },
  {
   "cell_type": "code",
   "execution_count": 85,
   "id": "60662583",
   "metadata": {
    "execution": {
     "iopub.execute_input": "2022-08-09T18:16:19.521353Z",
     "iopub.status.busy": "2022-08-09T18:16:19.520978Z",
     "iopub.status.idle": "2022-08-09T18:57:10.991424Z",
     "shell.execute_reply": "2022-08-09T18:57:10.989732Z"
    },
    "papermill": {
     "duration": 2451.575447,
     "end_time": "2022-08-09T18:57:11.054986",
     "exception": false,
     "start_time": "2022-08-09T18:16:19.479539",
     "status": "completed"
    },
    "tags": []
   },
   "outputs": [
    {
     "name": "stdout",
     "output_type": "stream",
     "text": [
      "[18:16:56] WARNING: ../src/learner.cc:627: \n",
      "Parameters: { \"device\", \"gpu_device_id\", \"n_estimatores\" } might not be used.\n",
      "\n",
      "  This could be a false alarm, with some parameters getting used by language bindings but\n",
      "  then being mistakenly passed down to XGBoost core, or some parameter actually being used\n",
      "  but getting flagged wrongly here. Please open an issue if you find any such cases.\n",
      "\n",
      "\n",
      "[18:17:23] WARNING: ../src/learner.cc:627: \n",
      "Parameters: { \"n_estimatorest\" } might not be used.\n",
      "\n",
      "  This could be a false alarm, with some parameters getting used by language bindings but\n",
      "  then being mistakenly passed down to XGBoost core, or some parameter actually being used\n",
      "  but getting flagged wrongly here. Please open an issue if you find any such cases.\n",
      "\n",
      "\n",
      "[18:20:16] WARNING: ../src/learner.cc:627: \n",
      "Parameters: { \"device\", \"gpu_device_id\", \"n_estimatores\" } might not be used.\n",
      "\n",
      "  This could be a false alarm, with some parameters getting used by language bindings but\n",
      "  then being mistakenly passed down to XGBoost core, or some parameter actually being used\n",
      "  but getting flagged wrongly here. Please open an issue if you find any such cases.\n",
      "\n",
      "\n",
      "[18:20:38] WARNING: ../src/learner.cc:627: \n",
      "Parameters: { \"device\", \"gpu_device_id\", \"n_estimatores\" } might not be used.\n",
      "\n",
      "  This could be a false alarm, with some parameters getting used by language bindings but\n",
      "  then being mistakenly passed down to XGBoost core, or some parameter actually being used\n",
      "  but getting flagged wrongly here. Please open an issue if you find any such cases.\n",
      "\n",
      "\n",
      "[18:21:00] WARNING: ../src/learner.cc:627: \n",
      "Parameters: { \"device\", \"gpu_device_id\", \"n_estimatores\" } might not be used.\n",
      "\n",
      "  This could be a false alarm, with some parameters getting used by language bindings but\n",
      "  then being mistakenly passed down to XGBoost core, or some parameter actually being used\n",
      "  but getting flagged wrongly here. Please open an issue if you find any such cases.\n",
      "\n",
      "\n",
      "[18:21:22] WARNING: ../src/learner.cc:627: \n",
      "Parameters: { \"device\", \"gpu_device_id\", \"n_estimatores\" } might not be used.\n",
      "\n",
      "  This could be a false alarm, with some parameters getting used by language bindings but\n",
      "  then being mistakenly passed down to XGBoost core, or some parameter actually being used\n",
      "  but getting flagged wrongly here. Please open an issue if you find any such cases.\n",
      "\n",
      "\n",
      "[18:21:44] WARNING: ../src/learner.cc:627: \n",
      "Parameters: { \"device\", \"gpu_device_id\", \"n_estimatores\" } might not be used.\n",
      "\n",
      "  This could be a false alarm, with some parameters getting used by language bindings but\n",
      "  then being mistakenly passed down to XGBoost core, or some parameter actually being used\n",
      "  but getting flagged wrongly here. Please open an issue if you find any such cases.\n",
      "\n",
      "\n",
      "[18:22:06] WARNING: ../src/learner.cc:627: \n",
      "Parameters: { \"n_estimatorest\" } might not be used.\n",
      "\n",
      "  This could be a false alarm, with some parameters getting used by language bindings but\n",
      "  then being mistakenly passed down to XGBoost core, or some parameter actually being used\n",
      "  but getting flagged wrongly here. Please open an issue if you find any such cases.\n",
      "\n",
      "\n",
      "[18:22:34] WARNING: ../src/learner.cc:627: \n",
      "Parameters: { \"n_estimatorest\" } might not be used.\n",
      "\n",
      "  This could be a false alarm, with some parameters getting used by language bindings but\n",
      "  then being mistakenly passed down to XGBoost core, or some parameter actually being used\n",
      "  but getting flagged wrongly here. Please open an issue if you find any such cases.\n",
      "\n",
      "\n",
      "[18:23:03] WARNING: ../src/learner.cc:627: \n",
      "Parameters: { \"n_estimatorest\" } might not be used.\n",
      "\n",
      "  This could be a false alarm, with some parameters getting used by language bindings but\n",
      "  then being mistakenly passed down to XGBoost core, or some parameter actually being used\n",
      "  but getting flagged wrongly here. Please open an issue if you find any such cases.\n",
      "\n",
      "\n",
      "[18:23:32] WARNING: ../src/learner.cc:627: \n",
      "Parameters: { \"n_estimatorest\" } might not be used.\n",
      "\n",
      "  This could be a false alarm, with some parameters getting used by language bindings but\n",
      "  then being mistakenly passed down to XGBoost core, or some parameter actually being used\n",
      "  but getting flagged wrongly here. Please open an issue if you find any such cases.\n",
      "\n",
      "\n",
      "[18:24:01] WARNING: ../src/learner.cc:627: \n",
      "Parameters: { \"n_estimatorest\" } might not be used.\n",
      "\n",
      "  This could be a false alarm, with some parameters getting used by language bindings but\n",
      "  then being mistakenly passed down to XGBoost core, or some parameter actually being used\n",
      "  but getting flagged wrongly here. Please open an issue if you find any such cases.\n",
      "\n",
      "\n",
      "[18:25:08] WARNING: ../src/learner.cc:627: \n",
      "Parameters: { \"device\", \"gpu_device_id\", \"n_estimatores\" } might not be used.\n",
      "\n",
      "  This could be a false alarm, with some parameters getting used by language bindings but\n",
      "  then being mistakenly passed down to XGBoost core, or some parameter actually being used\n",
      "  but getting flagged wrongly here. Please open an issue if you find any such cases.\n",
      "\n",
      "\n",
      "[18:25:35] WARNING: ../src/learner.cc:627: \n",
      "Parameters: { \"n_estimatorest\" } might not be used.\n",
      "\n",
      "  This could be a false alarm, with some parameters getting used by language bindings but\n",
      "  then being mistakenly passed down to XGBoost core, or some parameter actually being used\n",
      "  but getting flagged wrongly here. Please open an issue if you find any such cases.\n",
      "\n",
      "\n",
      "[18:28:25] WARNING: ../src/learner.cc:627: \n",
      "Parameters: { \"device\", \"gpu_device_id\", \"n_estimatores\" } might not be used.\n",
      "\n",
      "  This could be a false alarm, with some parameters getting used by language bindings but\n",
      "  then being mistakenly passed down to XGBoost core, or some parameter actually being used\n",
      "  but getting flagged wrongly here. Please open an issue if you find any such cases.\n",
      "\n",
      "\n",
      "[18:28:48] WARNING: ../src/learner.cc:627: \n",
      "Parameters: { \"device\", \"gpu_device_id\", \"n_estimatores\" } might not be used.\n",
      "\n",
      "  This could be a false alarm, with some parameters getting used by language bindings but\n",
      "  then being mistakenly passed down to XGBoost core, or some parameter actually being used\n",
      "  but getting flagged wrongly here. Please open an issue if you find any such cases.\n",
      "\n",
      "\n",
      "[18:29:11] WARNING: ../src/learner.cc:627: \n",
      "Parameters: { \"device\", \"gpu_device_id\", \"n_estimatores\" } might not be used.\n",
      "\n",
      "  This could be a false alarm, with some parameters getting used by language bindings but\n",
      "  then being mistakenly passed down to XGBoost core, or some parameter actually being used\n",
      "  but getting flagged wrongly here. Please open an issue if you find any such cases.\n",
      "\n",
      "\n",
      "[18:29:33] WARNING: ../src/learner.cc:627: \n",
      "Parameters: { \"device\", \"gpu_device_id\", \"n_estimatores\" } might not be used.\n",
      "\n",
      "  This could be a false alarm, with some parameters getting used by language bindings but\n",
      "  then being mistakenly passed down to XGBoost core, or some parameter actually being used\n",
      "  but getting flagged wrongly here. Please open an issue if you find any such cases.\n",
      "\n",
      "\n",
      "[18:29:55] WARNING: ../src/learner.cc:627: \n",
      "Parameters: { \"device\", \"gpu_device_id\", \"n_estimatores\" } might not be used.\n",
      "\n",
      "  This could be a false alarm, with some parameters getting used by language bindings but\n",
      "  then being mistakenly passed down to XGBoost core, or some parameter actually being used\n",
      "  but getting flagged wrongly here. Please open an issue if you find any such cases.\n",
      "\n",
      "\n",
      "[18:30:18] WARNING: ../src/learner.cc:627: \n",
      "Parameters: { \"n_estimatorest\" } might not be used.\n",
      "\n",
      "  This could be a false alarm, with some parameters getting used by language bindings but\n",
      "  then being mistakenly passed down to XGBoost core, or some parameter actually being used\n",
      "  but getting flagged wrongly here. Please open an issue if you find any such cases.\n",
      "\n",
      "\n",
      "[18:30:46] WARNING: ../src/learner.cc:627: \n",
      "Parameters: { \"n_estimatorest\" } might not be used.\n",
      "\n",
      "  This could be a false alarm, with some parameters getting used by language bindings but\n",
      "  then being mistakenly passed down to XGBoost core, or some parameter actually being used\n",
      "  but getting flagged wrongly here. Please open an issue if you find any such cases.\n",
      "\n",
      "\n",
      "[18:31:15] WARNING: ../src/learner.cc:627: \n",
      "Parameters: { \"n_estimatorest\" } might not be used.\n",
      "\n",
      "  This could be a false alarm, with some parameters getting used by language bindings but\n",
      "  then being mistakenly passed down to XGBoost core, or some parameter actually being used\n",
      "  but getting flagged wrongly here. Please open an issue if you find any such cases.\n",
      "\n",
      "\n",
      "[18:31:44] WARNING: ../src/learner.cc:627: \n",
      "Parameters: { \"n_estimatorest\" } might not be used.\n",
      "\n",
      "  This could be a false alarm, with some parameters getting used by language bindings but\n",
      "  then being mistakenly passed down to XGBoost core, or some parameter actually being used\n",
      "  but getting flagged wrongly here. Please open an issue if you find any such cases.\n",
      "\n",
      "\n",
      "[18:32:13] WARNING: ../src/learner.cc:627: \n",
      "Parameters: { \"n_estimatorest\" } might not be used.\n",
      "\n",
      "  This could be a false alarm, with some parameters getting used by language bindings but\n",
      "  then being mistakenly passed down to XGBoost core, or some parameter actually being used\n",
      "  but getting flagged wrongly here. Please open an issue if you find any such cases.\n",
      "\n",
      "\n",
      "[18:33:21] WARNING: ../src/learner.cc:627: \n",
      "Parameters: { \"device\", \"gpu_device_id\", \"n_estimatores\" } might not be used.\n",
      "\n",
      "  This could be a false alarm, with some parameters getting used by language bindings but\n",
      "  then being mistakenly passed down to XGBoost core, or some parameter actually being used\n",
      "  but getting flagged wrongly here. Please open an issue if you find any such cases.\n",
      "\n",
      "\n",
      "[18:33:48] WARNING: ../src/learner.cc:627: \n",
      "Parameters: { \"n_estimatorest\" } might not be used.\n",
      "\n",
      "  This could be a false alarm, with some parameters getting used by language bindings but\n",
      "  then being mistakenly passed down to XGBoost core, or some parameter actually being used\n",
      "  but getting flagged wrongly here. Please open an issue if you find any such cases.\n",
      "\n",
      "\n",
      "[18:36:40] WARNING: ../src/learner.cc:627: \n",
      "Parameters: { \"device\", \"gpu_device_id\", \"n_estimatores\" } might not be used.\n",
      "\n",
      "  This could be a false alarm, with some parameters getting used by language bindings but\n",
      "  then being mistakenly passed down to XGBoost core, or some parameter actually being used\n",
      "  but getting flagged wrongly here. Please open an issue if you find any such cases.\n",
      "\n",
      "\n",
      "[18:37:02] WARNING: ../src/learner.cc:627: \n",
      "Parameters: { \"device\", \"gpu_device_id\", \"n_estimatores\" } might not be used.\n",
      "\n",
      "  This could be a false alarm, with some parameters getting used by language bindings but\n",
      "  then being mistakenly passed down to XGBoost core, or some parameter actually being used\n",
      "  but getting flagged wrongly here. Please open an issue if you find any such cases.\n",
      "\n",
      "\n",
      "[18:37:25] WARNING: ../src/learner.cc:627: \n",
      "Parameters: { \"device\", \"gpu_device_id\", \"n_estimatores\" } might not be used.\n",
      "\n",
      "  This could be a false alarm, with some parameters getting used by language bindings but\n",
      "  then being mistakenly passed down to XGBoost core, or some parameter actually being used\n",
      "  but getting flagged wrongly here. Please open an issue if you find any such cases.\n",
      "\n",
      "\n",
      "[18:37:47] WARNING: ../src/learner.cc:627: \n",
      "Parameters: { \"device\", \"gpu_device_id\", \"n_estimatores\" } might not be used.\n",
      "\n",
      "  This could be a false alarm, with some parameters getting used by language bindings but\n",
      "  then being mistakenly passed down to XGBoost core, or some parameter actually being used\n",
      "  but getting flagged wrongly here. Please open an issue if you find any such cases.\n",
      "\n",
      "\n",
      "[18:38:09] WARNING: ../src/learner.cc:627: \n",
      "Parameters: { \"device\", \"gpu_device_id\", \"n_estimatores\" } might not be used.\n",
      "\n",
      "  This could be a false alarm, with some parameters getting used by language bindings but\n",
      "  then being mistakenly passed down to XGBoost core, or some parameter actually being used\n",
      "  but getting flagged wrongly here. Please open an issue if you find any such cases.\n",
      "\n",
      "\n",
      "[18:38:32] WARNING: ../src/learner.cc:627: \n",
      "Parameters: { \"n_estimatorest\" } might not be used.\n",
      "\n",
      "  This could be a false alarm, with some parameters getting used by language bindings but\n",
      "  then being mistakenly passed down to XGBoost core, or some parameter actually being used\n",
      "  but getting flagged wrongly here. Please open an issue if you find any such cases.\n",
      "\n",
      "\n",
      "[18:38:59] WARNING: ../src/learner.cc:627: \n",
      "Parameters: { \"n_estimatorest\" } might not be used.\n",
      "\n",
      "  This could be a false alarm, with some parameters getting used by language bindings but\n",
      "  then being mistakenly passed down to XGBoost core, or some parameter actually being used\n",
      "  but getting flagged wrongly here. Please open an issue if you find any such cases.\n",
      "\n",
      "\n",
      "[18:39:28] WARNING: ../src/learner.cc:627: \n",
      "Parameters: { \"n_estimatorest\" } might not be used.\n",
      "\n",
      "  This could be a false alarm, with some parameters getting used by language bindings but\n",
      "  then being mistakenly passed down to XGBoost core, or some parameter actually being used\n",
      "  but getting flagged wrongly here. Please open an issue if you find any such cases.\n",
      "\n",
      "\n",
      "[18:39:55] WARNING: ../src/learner.cc:627: \n",
      "Parameters: { \"n_estimatorest\" } might not be used.\n",
      "\n",
      "  This could be a false alarm, with some parameters getting used by language bindings but\n",
      "  then being mistakenly passed down to XGBoost core, or some parameter actually being used\n",
      "  but getting flagged wrongly here. Please open an issue if you find any such cases.\n",
      "\n",
      "\n",
      "[18:40:24] WARNING: ../src/learner.cc:627: \n",
      "Parameters: { \"n_estimatorest\" } might not be used.\n",
      "\n",
      "  This could be a false alarm, with some parameters getting used by language bindings but\n",
      "  then being mistakenly passed down to XGBoost core, or some parameter actually being used\n",
      "  but getting flagged wrongly here. Please open an issue if you find any such cases.\n",
      "\n",
      "\n",
      "[18:41:30] WARNING: ../src/learner.cc:627: \n",
      "Parameters: { \"device\", \"gpu_device_id\", \"n_estimatores\" } might not be used.\n",
      "\n",
      "  This could be a false alarm, with some parameters getting used by language bindings but\n",
      "  then being mistakenly passed down to XGBoost core, or some parameter actually being used\n",
      "  but getting flagged wrongly here. Please open an issue if you find any such cases.\n",
      "\n",
      "\n",
      "[18:41:58] WARNING: ../src/learner.cc:627: \n",
      "Parameters: { \"n_estimatorest\" } might not be used.\n",
      "\n",
      "  This could be a false alarm, with some parameters getting used by language bindings but\n",
      "  then being mistakenly passed down to XGBoost core, or some parameter actually being used\n",
      "  but getting flagged wrongly here. Please open an issue if you find any such cases.\n",
      "\n",
      "\n",
      "[18:44:48] WARNING: ../src/learner.cc:627: \n",
      "Parameters: { \"device\", \"gpu_device_id\", \"n_estimatores\" } might not be used.\n",
      "\n",
      "  This could be a false alarm, with some parameters getting used by language bindings but\n",
      "  then being mistakenly passed down to XGBoost core, or some parameter actually being used\n",
      "  but getting flagged wrongly here. Please open an issue if you find any such cases.\n",
      "\n",
      "\n",
      "[18:45:11] WARNING: ../src/learner.cc:627: \n",
      "Parameters: { \"device\", \"gpu_device_id\", \"n_estimatores\" } might not be used.\n",
      "\n",
      "  This could be a false alarm, with some parameters getting used by language bindings but\n",
      "  then being mistakenly passed down to XGBoost core, or some parameter actually being used\n",
      "  but getting flagged wrongly here. Please open an issue if you find any such cases.\n",
      "\n",
      "\n",
      "[18:45:33] WARNING: ../src/learner.cc:627: \n",
      "Parameters: { \"device\", \"gpu_device_id\", \"n_estimatores\" } might not be used.\n",
      "\n",
      "  This could be a false alarm, with some parameters getting used by language bindings but\n",
      "  then being mistakenly passed down to XGBoost core, or some parameter actually being used\n",
      "  but getting flagged wrongly here. Please open an issue if you find any such cases.\n",
      "\n",
      "\n",
      "[18:45:54] WARNING: ../src/learner.cc:627: \n",
      "Parameters: { \"device\", \"gpu_device_id\", \"n_estimatores\" } might not be used.\n",
      "\n",
      "  This could be a false alarm, with some parameters getting used by language bindings but\n",
      "  then being mistakenly passed down to XGBoost core, or some parameter actually being used\n",
      "  but getting flagged wrongly here. Please open an issue if you find any such cases.\n",
      "\n",
      "\n",
      "[18:46:17] WARNING: ../src/learner.cc:627: \n",
      "Parameters: { \"device\", \"gpu_device_id\", \"n_estimatores\" } might not be used.\n",
      "\n",
      "  This could be a false alarm, with some parameters getting used by language bindings but\n",
      "  then being mistakenly passed down to XGBoost core, or some parameter actually being used\n",
      "  but getting flagged wrongly here. Please open an issue if you find any such cases.\n",
      "\n",
      "\n",
      "[18:46:39] WARNING: ../src/learner.cc:627: \n",
      "Parameters: { \"n_estimatorest\" } might not be used.\n",
      "\n",
      "  This could be a false alarm, with some parameters getting used by language bindings but\n",
      "  then being mistakenly passed down to XGBoost core, or some parameter actually being used\n",
      "  but getting flagged wrongly here. Please open an issue if you find any such cases.\n",
      "\n",
      "\n",
      "[18:47:08] WARNING: ../src/learner.cc:627: \n",
      "Parameters: { \"n_estimatorest\" } might not be used.\n",
      "\n",
      "  This could be a false alarm, with some parameters getting used by language bindings but\n",
      "  then being mistakenly passed down to XGBoost core, or some parameter actually being used\n",
      "  but getting flagged wrongly here. Please open an issue if you find any such cases.\n",
      "\n",
      "\n",
      "[18:47:36] WARNING: ../src/learner.cc:627: \n",
      "Parameters: { \"n_estimatorest\" } might not be used.\n",
      "\n",
      "  This could be a false alarm, with some parameters getting used by language bindings but\n",
      "  then being mistakenly passed down to XGBoost core, or some parameter actually being used\n",
      "  but getting flagged wrongly here. Please open an issue if you find any such cases.\n",
      "\n",
      "\n",
      "[18:48:05] WARNING: ../src/learner.cc:627: \n",
      "Parameters: { \"n_estimatorest\" } might not be used.\n",
      "\n",
      "  This could be a false alarm, with some parameters getting used by language bindings but\n",
      "  then being mistakenly passed down to XGBoost core, or some parameter actually being used\n",
      "  but getting flagged wrongly here. Please open an issue if you find any such cases.\n",
      "\n",
      "\n",
      "[18:48:34] WARNING: ../src/learner.cc:627: \n",
      "Parameters: { \"n_estimatorest\" } might not be used.\n",
      "\n",
      "  This could be a false alarm, with some parameters getting used by language bindings but\n",
      "  then being mistakenly passed down to XGBoost core, or some parameter actually being used\n",
      "  but getting flagged wrongly here. Please open an issue if you find any such cases.\n",
      "\n",
      "\n",
      "[18:49:42] WARNING: ../src/learner.cc:627: \n",
      "Parameters: { \"device\", \"gpu_device_id\", \"n_estimatores\" } might not be used.\n",
      "\n",
      "  This could be a false alarm, with some parameters getting used by language bindings but\n",
      "  then being mistakenly passed down to XGBoost core, or some parameter actually being used\n",
      "  but getting flagged wrongly here. Please open an issue if you find any such cases.\n",
      "\n",
      "\n",
      "[18:50:09] WARNING: ../src/learner.cc:627: \n",
      "Parameters: { \"n_estimatorest\" } might not be used.\n",
      "\n",
      "  This could be a false alarm, with some parameters getting used by language bindings but\n",
      "  then being mistakenly passed down to XGBoost core, or some parameter actually being used\n",
      "  but getting flagged wrongly here. Please open an issue if you find any such cases.\n",
      "\n",
      "\n",
      "[18:52:58] WARNING: ../src/learner.cc:627: \n",
      "Parameters: { \"device\", \"gpu_device_id\", \"n_estimatores\" } might not be used.\n",
      "\n",
      "  This could be a false alarm, with some parameters getting used by language bindings but\n",
      "  then being mistakenly passed down to XGBoost core, or some parameter actually being used\n",
      "  but getting flagged wrongly here. Please open an issue if you find any such cases.\n",
      "\n",
      "\n",
      "[18:53:20] WARNING: ../src/learner.cc:627: \n",
      "Parameters: { \"device\", \"gpu_device_id\", \"n_estimatores\" } might not be used.\n",
      "\n",
      "  This could be a false alarm, with some parameters getting used by language bindings but\n",
      "  then being mistakenly passed down to XGBoost core, or some parameter actually being used\n",
      "  but getting flagged wrongly here. Please open an issue if you find any such cases.\n",
      "\n",
      "\n",
      "[18:53:42] WARNING: ../src/learner.cc:627: \n",
      "Parameters: { \"device\", \"gpu_device_id\", \"n_estimatores\" } might not be used.\n",
      "\n",
      "  This could be a false alarm, with some parameters getting used by language bindings but\n",
      "  then being mistakenly passed down to XGBoost core, or some parameter actually being used\n",
      "  but getting flagged wrongly here. Please open an issue if you find any such cases.\n",
      "\n",
      "\n",
      "[18:54:03] WARNING: ../src/learner.cc:627: \n",
      "Parameters: { \"device\", \"gpu_device_id\", \"n_estimatores\" } might not be used.\n",
      "\n",
      "  This could be a false alarm, with some parameters getting used by language bindings but\n",
      "  then being mistakenly passed down to XGBoost core, or some parameter actually being used\n",
      "  but getting flagged wrongly here. Please open an issue if you find any such cases.\n",
      "\n",
      "\n",
      "[18:54:25] WARNING: ../src/learner.cc:627: \n",
      "Parameters: { \"device\", \"gpu_device_id\", \"n_estimatores\" } might not be used.\n",
      "\n",
      "  This could be a false alarm, with some parameters getting used by language bindings but\n",
      "  then being mistakenly passed down to XGBoost core, or some parameter actually being used\n",
      "  but getting flagged wrongly here. Please open an issue if you find any such cases.\n",
      "\n",
      "\n",
      "[18:54:47] WARNING: ../src/learner.cc:627: \n",
      "Parameters: { \"n_estimatorest\" } might not be used.\n",
      "\n",
      "  This could be a false alarm, with some parameters getting used by language bindings but\n",
      "  then being mistakenly passed down to XGBoost core, or some parameter actually being used\n",
      "  but getting flagged wrongly here. Please open an issue if you find any such cases.\n",
      "\n",
      "\n",
      "[18:55:15] WARNING: ../src/learner.cc:627: \n",
      "Parameters: { \"n_estimatorest\" } might not be used.\n",
      "\n",
      "  This could be a false alarm, with some parameters getting used by language bindings but\n",
      "  then being mistakenly passed down to XGBoost core, or some parameter actually being used\n",
      "  but getting flagged wrongly here. Please open an issue if you find any such cases.\n",
      "\n",
      "\n",
      "[18:55:42] WARNING: ../src/learner.cc:627: \n",
      "Parameters: { \"n_estimatorest\" } might not be used.\n",
      "\n",
      "  This could be a false alarm, with some parameters getting used by language bindings but\n",
      "  then being mistakenly passed down to XGBoost core, or some parameter actually being used\n",
      "  but getting flagged wrongly here. Please open an issue if you find any such cases.\n",
      "\n",
      "\n",
      "[18:56:11] WARNING: ../src/learner.cc:627: \n",
      "Parameters: { \"n_estimatorest\" } might not be used.\n",
      "\n",
      "  This could be a false alarm, with some parameters getting used by language bindings but\n",
      "  then being mistakenly passed down to XGBoost core, or some parameter actually being used\n",
      "  but getting flagged wrongly here. Please open an issue if you find any such cases.\n",
      "\n",
      "\n",
      "[18:56:39] WARNING: ../src/learner.cc:627: \n",
      "Parameters: { \"n_estimatorest\" } might not be used.\n",
      "\n",
      "  This could be a false alarm, with some parameters getting used by language bindings but\n",
      "  then being mistakenly passed down to XGBoost core, or some parameter actually being used\n",
      "  but getting flagged wrongly here. Please open an issue if you find any such cases.\n",
      "\n",
      "\n"
     ]
    },
    {
     "data": {
      "text/plain": [
       "array([0.999985, 0.999995, 0.999995, 0.99999 , 0.99999 ])"
      ]
     },
     "execution_count": 85,
     "metadata": {},
     "output_type": "execute_result"
    }
   ],
   "source": [
    "cross_val_score(sta,x,y,cv=5,scoring=\"accuracy\")"
   ]
  },
  {
   "cell_type": "code",
   "execution_count": 86,
   "id": "eba37178",
   "metadata": {
    "execution": {
     "iopub.execute_input": "2022-08-09T18:57:11.147002Z",
     "iopub.status.busy": "2022-08-09T18:57:11.146596Z",
     "iopub.status.idle": "2022-08-09T18:57:11.635367Z",
     "shell.execute_reply": "2022-08-09T18:57:11.634380Z"
    },
    "papermill": {
     "duration": 0.537471,
     "end_time": "2022-08-09T18:57:11.637898",
     "exception": false,
     "start_time": "2022-08-09T18:57:11.100427",
     "status": "completed"
    },
    "tags": []
   },
   "outputs": [
    {
     "data": {
      "text/plain": [
       "(1.0, 0.9997709836253292, 0.999885478699038)"
      ]
     },
     "execution_count": 86,
     "metadata": {},
     "output_type": "execute_result"
    }
   ],
   "source": [
    "precision_score(test_y, y_pred_sta),recall_score(test_y, y_pred_sta),f1_score(test_y, y_pred_sta)"
   ]
  },
  {
   "cell_type": "code",
   "execution_count": 87,
   "id": "8e13ab4d",
   "metadata": {
    "execution": {
     "iopub.execute_input": "2022-08-09T18:57:11.728461Z",
     "iopub.status.busy": "2022-08-09T18:57:11.728073Z",
     "iopub.status.idle": "2022-08-09T18:57:12.180086Z",
     "shell.execute_reply": "2022-08-09T18:57:12.179293Z"
    },
    "papermill": {
     "duration": 0.499628,
     "end_time": "2022-08-09T18:57:12.182106",
     "exception": false,
     "start_time": "2022-08-09T18:57:11.682478",
     "status": "completed"
    },
    "tags": []
   },
   "outputs": [
    {
     "data": {
      "text/plain": [
       "<AxesSubplot:>"
      ]
     },
     "execution_count": 87,
     "metadata": {},
     "output_type": "execute_result"
    },
    {
     "data": {
      "image/png": "[encoded data removed]",
      "text/plain": [
       "<Figure size 432x288 with 2 Axes>"
      ]
     },
     "metadata": {
      "needs_background": "light"
     },
     "output_type": "display_data"
    }
   ],
   "source": [
    "cm_sta=confusion_matrix(test_y, y_pred_sta)\n",
    "sns.heatmap(cm_sta, annot=True, fmt='.20g', cmap=plt.cm.Blues)"
   ]
  },
  {
   "cell_type": "code",
   "execution_count": 88,
   "id": "9535c4be",
   "metadata": {
    "execution": {
     "iopub.execute_input": "2022-08-09T18:57:12.275272Z",
     "iopub.status.busy": "2022-08-09T18:57:12.274621Z",
     "iopub.status.idle": "2022-08-09T18:57:12.505017Z",
     "shell.execute_reply": "2022-08-09T18:57:12.503916Z"
    },
    "papermill": {
     "duration": 0.279384,
     "end_time": "2022-08-09T18:57:12.507406",
     "exception": false,
     "start_time": "2022-08-09T18:57:12.228022",
     "status": "completed"
    },
    "tags": []
   },
   "outputs": [
    {
     "name": "stdout",
     "output_type": "stream",
     "text": [
      "0.000000 0.000000 2.000000\n",
      "0.000000 0.999771 1.000000\n",
      "1.000000 1.000000 0.000000\n"
     ]
    },
    {
     "data": {
      "image/png": "[encoded data removed]",
      "text/plain": [
       "<Figure size 432x288 with 1 Axes>"
      ]
     },
     "metadata": {
      "needs_background": "light"
     },
     "output_type": "display_data"
    }
   ],
   "source": [
    "    from sklearn.metrics import roc_curve, auc\n",
    "    \n",
    "    \n",
    "    fpr, tpr, thersholds = roc_curve(test_y, y_pred_sta)\n",
    "     \n",
    "    for i, value in enumerate(thersholds):\n",
    "        print(\"%f %f %f\" % (fpr[i], tpr[i], value))\n",
    "     \n",
    "    roc_auc = auc(fpr, tpr)\n",
    "     \n",
    "    plt.plot(fpr, tpr, 'k--', label='ROC (area = {0:.2f})'.format(roc_auc), lw=2,color='red')\n",
    "    plt.xlim([-0.05, 1.05])  \n",
    "    plt.ylim([-0.05, 1.05])\n",
    "    plt.xlabel('False Positive Rate')\n",
    "    plt.ylabel('True Positive Rate')  \n",
    "    plt.title('ROC Curve')\n",
    "    plt.legend(loc=\"lower right\")\n",
    "    plt.show()"
   ]
  },
  {
   "cell_type": "code",
   "execution_count": 89,
   "id": "fcec8e96",
   "metadata": {
    "execution": {
     "iopub.execute_input": "2022-08-09T18:57:12.600581Z",
     "iopub.status.busy": "2022-08-09T18:57:12.600185Z",
     "iopub.status.idle": "2022-08-09T18:57:14.879869Z",
     "shell.execute_reply": "2022-08-09T18:57:14.879117Z"
    },
    "papermill": {
     "duration": 2.327912,
     "end_time": "2022-08-09T18:57:14.881866",
     "exception": false,
     "start_time": "2022-08-09T18:57:12.553954",
     "status": "completed"
    },
    "tags": []
   },
   "outputs": [
    {
     "data": {
      "image/png": "[encoded data removed]",
      "text/plain": [
       "<Figure size 1500x2000 with 12 Axes>"
      ]
     },
     "metadata": {},
     "output_type": "display_data"
    }
   ],
   "source": [
    "with sns.axes_style(\"white\"):\n",
    "    plt.rcParams['font.sans-serif'] = [u'SimHei']\n",
    "    fig =plt.figure(figsize=(15, 20), dpi=100)\n",
    "\n",
    "    \n",
    "    ax4=fig.add_subplot(321)\n",
    "    ax4=sns.heatmap(C, annot=True, fmt='.20g', cmap=plt.cm.Blues)\n",
    "    ax4.set_title('RandomForest')\n",
    "    \n",
    "  \n",
    "    ax5=fig.add_subplot(322)\n",
    "    ax5=sns.heatmap(cm_det, annot=True, fmt='.20g', cmap=plt.cm.Blues)\n",
    "    ax4.set_title('DecisionTree')\n",
    "   \n",
    "    \n",
    "    ax6=fig.add_subplot(323)\n",
    "    ax6=sns.heatmap(cm_knn, annot=True, fmt='.20g', cmap=plt.cm.Blues)\n",
    "    ax4.set_title('knn')\n",
    "   \n",
    "    \n",
    "    ax7=fig.add_subplot(324)\n",
    "    ax7=sns.heatmap(cm_xgb, annot=True, fmt='.20g', cmap=plt.cm.Blues)\n",
    "    ax4.set_title('xgb')\n",
    "    \n",
    "    ax8=fig.add_subplot(325)\n",
    "    ax8=sns.heatmap(cm_lgbm, annot=True, fmt='.20g', cmap=plt.cm.Blues)\n",
    "    ax4.set_title('lgb')\n",
    "    \n",
    "    ax9=fig.add_subplot(326)\n",
    "    ax9=sns.heatmap(cm_sta, annot=True, fmt='.20g', cmap=plt.cm.Blues)\n",
    "    ax4.set_title('Stacking')\n",
    "\n",
    "    \n",
    "    plt.savefig(r\"./5.png\")\n",
    "    plt.show()"
   ]
  },
  {
   "cell_type": "code",
   "execution_count": null,
   "id": "542e13f2",
   "metadata": {
    "papermill": {
     "duration": 0.046485,
     "end_time": "2022-08-09T18:57:14.975533",
     "exception": false,
     "start_time": "2022-08-09T18:57:14.929048",
     "status": "completed"
    },
    "tags": []
   },
   "outputs": [],
   "source": []
  }
 ],
 "metadata": {
  "kernelspec": {
   "display_name": "Python 3 (ipykernel)",
   "language": "python",
   "name": "python3"
  },
  "language_info": {
   "codemirror_mode": {
    "name": "ipython",
    "version": 3
   },
   "file_extension": ".py",
   "mimetype": "text/x-python",
   "name": "python",
   "nbconvert_exporter": "python",
   "pygments_lexer": "ipython3",
   "version": "3.9.7"
  },
  "papermill": {
   "default_parameters": {},
   "duration": 5140.126185,
   "end_time": "2022-08-09T18:57:15.954277",
   "environment_variables": {},
   "exception": null,
   "input_path": "__notebook__.ipynb",
   "output_path": "__notebook__.ipynb",
   "parameters": {},
   "start_time": "2022-08-09T17:31:35.828092",
   "version": "2.3.4"
  }
 },
 "nbformat": 4,
 "nbformat_minor": 5
}
