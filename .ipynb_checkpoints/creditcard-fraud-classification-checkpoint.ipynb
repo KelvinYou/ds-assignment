{
 "cells": [
  {
   "cell_type": "code",
   "execution_count": 1,
   "id": "280ead9e",
   "metadata": {
    "_cell_guid": "b1076dfc-b9ad-4769-8c92-a6c4dae69d19",
    "_uuid": "8f2839f25d086af736a60e9eeb907d3b93b6e0e5",
    "execution": {
     "iopub.execute_input": "2022-06-03T17:02:46.862228Z",
     "iopub.status.busy": "2022-06-03T17:02:46.861488Z",
     "iopub.status.idle": "2022-06-03T17:02:46.879622Z",
     "shell.execute_reply": "2022-06-03T17:02:46.878591Z"
    },
    "papermill": {
     "duration": 0.033519,
     "end_time": "2022-06-03T17:02:46.882418",
     "exception": false,
     "start_time": "2022-06-03T17:02:46.848899",
     "status": "completed"
    },
    "tags": []
   },
   "outputs": [
    {
     "name": "stdout",
     "output_type": "stream",
     "text": [
      "/kaggle/input/credit-card-fraud/card_transdata.csv\n"
     ]
    }
   ],
   "source": [
    "# This Python 3 environment comes with many helpful analytics libraries installed\n",
    "# It is defined by the kaggle/python Docker image: https://github.com/kaggle/docker-python\n",
    "# For example, here's several helpful packages to load\n",
    "\n",
    "import numpy as np # linear algebra\n",
    "import pandas as pd # data processing, CSV file I/O (e.g. pd.read_csv)\n",
    "\n",
    "# Input data files are available in the read-only \"../input/\" directory\n",
    "# For example, running this (by clicking run or pressing Shift+Enter) will list all files under the input directory\n",
    "\n",
    "import os\n",
    "for dirname, _, filenames in os.walk('/kaggle/input'):\n",
    "    for filename in filenames:\n",
    "        print(os.path.join(dirname, filename))\n",
    "\n",
    "# You can write up to 20GB to the current directory (/kaggle/working/) that gets preserved as output when you create a version using \"Save & Run All\" \n",
    "# You can also write temporary files to /kaggle/temp/, but they won't be saved outside of the current session"
   ]
  },
  {
   "cell_type": "code",
   "execution_count": 2,
   "id": "d9dd80f8",
   "metadata": {
    "execution": {
     "iopub.execute_input": "2022-06-03T17:02:46.897069Z",
     "iopub.status.busy": "2022-06-03T17:02:46.896042Z",
     "iopub.status.idle": "2022-06-03T17:02:48.599641Z",
     "shell.execute_reply": "2022-06-03T17:02:48.598275Z"
    },
    "papermill": {
     "duration": 1.713845,
     "end_time": "2022-06-03T17:02:48.602582",
     "exception": false,
     "start_time": "2022-06-03T17:02:46.888737",
     "status": "completed"
    },
    "tags": []
   },
   "outputs": [],
   "source": [
    "# Import all the dependecies \n",
    "import numpy as np\n",
    "import pandas as pd\n",
    "import matplotlib.pyplot as plt\n",
    "import matplotlib as mpl\n",
    "import seaborn as sns\n",
    "from sklearn.linear_model import LogisticRegression\n",
    "from sklearn.preprocessing import MinMaxScaler \n",
    "from sklearn.model_selection import cross_val_score\n",
    "from sklearn.model_selection import learning_curve\n",
    "from sklearn.metrics import accuracy_score\n",
    "from sklearn.svm import SVC\n",
    "from sklearn.model_selection import RandomizedSearchCV\n",
    "from sklearn.metrics import confusion_matrix\n",
    "from sklearn.metrics import classification_report\n",
    "from sklearn.model_selection import train_test_split\n",
    "from sklearn.ensemble import RandomForestClassifier \n",
    "from sklearn.metrics import confusion_matrix, accuracy_score, recall_score, roc_curve, auc"
   ]
  },
  {
   "cell_type": "markdown",
   "id": "f5f80cf3",
   "metadata": {
    "papermill": {
     "duration": 0.005713,
     "end_time": "2022-06-03T17:02:48.614300",
     "exception": false,
     "start_time": "2022-06-03T17:02:48.608587",
     "status": "completed"
    },
    "tags": []
   },
   "source": [
    "**ABOUT THE DATASET**\n",
    "\n",
    "The Credit Card Fraud dataset consists of 1,000,000 data points and consists of features and target variables of following types:\n",
    "* Distance from home: The location of fraudulent transcation from home\n",
    "* Distance from last transaction: The location of fraudulent transaction from last transaction\n",
    "* Ratio to media purchase price: Ratio of purchased price transaction to median purchase price\n",
    "* Repeat retailer: Is the fraudulent transaction with the same retailer?\n",
    "* Used chip: Is the fraudulent transaction done with credit card?\n",
    "* Used PIN number: Is the fraudulent transaction done with PIN card of credit card?\n",
    "* Online Order: Is the fraudulent transation online?\n",
    "* Fraud: Is the transaction fraudulent or legit? [TARGET VARIABLE]\n",
    "    * **0 == Legit transaction**\n",
    "    * **1 == Fraudulent transaction**"
   ]
  },
  {
   "cell_type": "markdown",
   "id": "b6ea3859",
   "metadata": {
    "papermill": {
     "duration": 0.005739,
     "end_time": "2022-06-03T17:02:48.625948",
     "exception": false,
     "start_time": "2022-06-03T17:02:48.620209",
     "status": "completed"
    },
    "tags": []
   },
   "source": [
    "**DATASET EXPLORATION**\n",
    "\n",
    "Here, we will check for the certain features of the dataset and decide the course of action. \n",
    "\n",
    "* Explore the status of the dataset\n",
    "* Check for missing values in the data\n",
    "* Determine the number of features and target variables \n",
    "* Check if the classes are imbalanced "
   ]
  },
  {
   "cell_type": "code",
   "execution_count": 3,
   "id": "4392e4fd",
   "metadata": {
    "execution": {
     "iopub.execute_input": "2022-06-03T17:02:48.640449Z",
     "iopub.status.busy": "2022-06-03T17:02:48.639653Z",
     "iopub.status.idle": "2022-06-03T17:02:50.572307Z",
     "shell.execute_reply": "2022-06-03T17:02:50.571060Z"
    },
    "papermill": {
     "duration": 1.943511,
     "end_time": "2022-06-03T17:02:50.575567",
     "exception": false,
     "start_time": "2022-06-03T17:02:48.632056",
     "status": "completed"
    },
    "tags": []
   },
   "outputs": [],
   "source": [
    "# Load the dataset\n",
    "# load_data=pd.read_csv('/kaggle/input/credit-card-fraud/card_transdata.csv')\n",
    "load_data=pd.read_csv('card_transdata.csv')"
   ]
  },
  {
   "cell_type": "code",
   "execution_count": 4,
   "id": "c17c39cb",
   "metadata": {
    "execution": {
     "iopub.execute_input": "2022-06-03T17:02:50.589472Z",
     "iopub.status.busy": "2022-06-03T17:02:50.589059Z",
     "iopub.status.idle": "2022-06-03T17:02:51.091033Z",
     "shell.execute_reply": "2022-06-03T17:02:51.089745Z"
    },
    "papermill": {
     "duration": 0.51241,
     "end_time": "2022-06-03T17:02:51.094124",
     "exception": false,
     "start_time": "2022-06-03T17:02:50.581714",
     "status": "completed"
    },
    "tags": []
   },
   "outputs": [
    {
     "name": "stdout",
     "output_type": "stream",
     "text": [
      "The shape of the data set is: (1000000, 8)\n",
      "\n",
      "---------------------------------------------\n",
      "\n",
      "Checking for missing values: \n",
      "\n",
      "distance_from_home                0\n",
      "distance_from_last_transaction    0\n",
      "ratio_to_median_purchase_price    0\n",
      "repeat_retailer                   0\n",
      "used_chip                         0\n",
      "used_pin_number                   0\n",
      "online_order                      0\n",
      "fraud                             0\n",
      "dtype: int64\n",
      "\n",
      "---------------------------------------------\n",
      "\n",
      "       distance_from_home  distance_from_last_transaction  \\\n",
      "count      1000000.000000                  1000000.000000   \n",
      "mean            26.628792                        5.036519   \n",
      "std             65.390784                       25.843093   \n",
      "min              0.004874                        0.000118   \n",
      "25%              3.878008                        0.296671   \n",
      "50%              9.967760                        0.998650   \n",
      "75%             25.743985                        3.355748   \n",
      "max          10632.723672                    11851.104565   \n",
      "\n",
      "       ratio_to_median_purchase_price  repeat_retailer       used_chip  \\\n",
      "count                  1000000.000000   1000000.000000  1000000.000000   \n",
      "mean                         1.824182         0.881536        0.350399   \n",
      "std                          2.799589         0.323157        0.477095   \n",
      "min                          0.004399         0.000000        0.000000   \n",
      "25%                          0.475673         1.000000        0.000000   \n",
      "50%                          0.997717         1.000000        0.000000   \n",
      "75%                          2.096370         1.000000        1.000000   \n",
      "max                        267.802942         1.000000        1.000000   \n",
      "\n",
      "       used_pin_number    online_order           fraud  \n",
      "count   1000000.000000  1000000.000000  1000000.000000  \n",
      "mean          0.100608        0.650552        0.087403  \n",
      "std           0.300809        0.476796        0.282425  \n",
      "min           0.000000        0.000000        0.000000  \n",
      "25%           0.000000        0.000000        0.000000  \n",
      "50%           0.000000        1.000000        0.000000  \n",
      "75%           0.000000        1.000000        0.000000  \n",
      "max           1.000000        1.000000        1.000000  \n",
      "\n",
      "---------------------------------------------\n",
      "\n",
      "<class 'pandas.core.frame.DataFrame'>\n",
      "RangeIndex: 1000000 entries, 0 to 999999\n",
      "Data columns (total 8 columns):\n",
      " #   Column                          Non-Null Count    Dtype  \n",
      "---  ------                          --------------    -----  \n",
      " 0   distance_from_home              1000000 non-null  float64\n",
      " 1   distance_from_last_transaction  1000000 non-null  float64\n",
      " 2   ratio_to_median_purchase_price  1000000 non-null  float64\n",
      " 3   repeat_retailer                 1000000 non-null  float64\n",
      " 4   used_chip                       1000000 non-null  float64\n",
      " 5   used_pin_number                 1000000 non-null  float64\n",
      " 6   online_order                    1000000 non-null  float64\n",
      " 7   fraud                           1000000 non-null  float64\n",
      "dtypes: float64(8)\n",
      "memory usage: 61.0 MB\n",
      "None\n",
      "\n",
      "---------------------------------------------\n",
      "\n",
      "0.0    912597\n",
      "1.0     87403\n",
      "Name: fraud, dtype: int64\n",
      "\n",
      "---------------------------------------------\n",
      "\n"
     ]
    }
   ],
   "source": [
    "#Print the shape of the dataset\n",
    "print('The shape of the data set is:',load_data.shape)\n",
    "print('\\n---------------------------------------------\\n')\n",
    "\n",
    "#Check for missing values\n",
    "print('Checking for missing values: \\n')\n",
    "print(pd.isnull(load_data).sum())\n",
    "print('\\n---------------------------------------------\\n')\n",
    "\n",
    "#Load the statistics for the dataset\n",
    "print(load_data.describe())\n",
    "print('\\n---------------------------------------------\\n')\n",
    "\n",
    "#Load the info for the dataset\n",
    "print(load_data.info())\n",
    "print('\\n---------------------------------------------\\n')\n",
    "\n",
    "#Checking if the class is balanced\n",
    "print(load_data['fraud'].value_counts())\n",
    "print('\\n---------------------------------------------\\n')\n"
   ]
  },
  {
   "cell_type": "markdown",
   "id": "92bff214",
   "metadata": {
    "papermill": {
     "duration": 0.005727,
     "end_time": "2022-06-03T17:02:51.106089",
     "exception": false,
     "start_time": "2022-06-03T17:02:51.100362",
     "status": "completed"
    },
    "tags": []
   },
   "source": [
    "**REMARKS**\n",
    "* The dataset contains 10,00,000 data points.\n",
    "* There are 7 features and 1 target with two classes. \n",
    "* The class is clearly imbalanced which needs to resolved before procedding ahead.\n",
    "* To resolve the issue of class imbalance, we will resample the orignial datasets and only select 10,000 datapoints from the original data set."
   ]
  },
  {
   "cell_type": "markdown",
   "id": "0a447540",
   "metadata": {
    "papermill": {
     "duration": 0.005762,
     "end_time": "2022-06-03T17:02:51.117939",
     "exception": false,
     "start_time": "2022-06-03T17:02:51.112177",
     "status": "completed"
    },
    "tags": []
   },
   "source": [
    "**2. RESAMPLING THE ORIGINAL DATASET**"
   ]
  },
  {
   "cell_type": "code",
   "execution_count": 5,
   "id": "f3a10ac6",
   "metadata": {
    "execution": {
     "iopub.execute_input": "2022-06-03T17:02:51.131812Z",
     "iopub.status.busy": "2022-06-03T17:02:51.131409Z",
     "iopub.status.idle": "2022-06-03T17:02:51.232350Z",
     "shell.execute_reply": "2022-06-03T17:02:51.231274Z"
    },
    "papermill": {
     "duration": 0.111755,
     "end_time": "2022-06-03T17:02:51.235727",
     "exception": false,
     "start_time": "2022-06-03T17:02:51.123972",
     "status": "completed"
    },
    "tags": []
   },
   "outputs": [],
   "source": [
    "#No fraud (class == 0) meaning legit transactions\n",
    "#Fraud (class == 1) meaning fraudulent transactions\n",
    "\n",
    "#Creating new data frames for No fraud and Fraud cases\n",
    "no_fraud=load_data[load_data.fraud == 0]\n",
    "fraud=load_data[load_data.fraud == 1]\n",
    "\n",
    "#Resampling the original dataset with 10,000 datapoints\n",
    "no_fraud_resample=no_fraud.sample(n=5000)\n",
    "fraud_resample=fraud.sample(n=5000)\n",
    "\n",
    "#Creating new dataset consisting of equal class occurence \n",
    "data=pd.concat([no_fraud_resample,fraud_resample],axis=0)"
   ]
  },
  {
   "cell_type": "markdown",
   "id": "051d5d60",
   "metadata": {
    "papermill": {
     "duration": 0.006133,
     "end_time": "2022-06-03T17:02:51.248606",
     "exception": false,
     "start_time": "2022-06-03T17:02:51.242473",
     "status": "completed"
    },
    "tags": []
   },
   "source": [
    "**3. PREPROCESSING THE DATASET**"
   ]
  },
  {
   "cell_type": "code",
   "execution_count": 6,
   "id": "df2879ba",
   "metadata": {
    "execution": {
     "iopub.execute_input": "2022-06-03T17:02:51.262927Z",
     "iopub.status.busy": "2022-06-03T17:02:51.262510Z",
     "iopub.status.idle": "2022-06-03T17:02:51.269709Z",
     "shell.execute_reply": "2022-06-03T17:02:51.268361Z"
    },
    "papermill": {
     "duration": 0.016935,
     "end_time": "2022-06-03T17:02:51.271916",
     "exception": false,
     "start_time": "2022-06-03T17:02:51.254981",
     "status": "completed"
    },
    "tags": []
   },
   "outputs": [],
   "source": [
    "#Creating dataframe for target\n",
    "target=data['fraud']\n",
    "\n",
    "#Creating dataframe for features\n",
    "features=data.drop(columns=['fraud'],axis=1)"
   ]
  },
  {
   "cell_type": "code",
   "execution_count": 7,
   "id": "aa677158",
   "metadata": {
    "execution": {
     "iopub.execute_input": "2022-06-03T17:02:51.287422Z",
     "iopub.status.busy": "2022-06-03T17:02:51.286908Z",
     "iopub.status.idle": "2022-06-03T17:02:51.303761Z",
     "shell.execute_reply": "2022-06-03T17:02:51.302858Z"
    },
    "papermill": {
     "duration": 0.027095,
     "end_time": "2022-06-03T17:02:51.305820",
     "exception": false,
     "start_time": "2022-06-03T17:02:51.278725",
     "status": "completed"
    },
    "tags": []
   },
   "outputs": [
    {
     "name": "stdout",
     "output_type": "stream",
     "text": [
      "The shape of feature training set is: (7500, 7)\n",
      "The shape of labels training set is: (7500,)\n",
      "The shape of feature testing set is: (2500, 7)\n",
      "The shape of labels testing set is: (2500,)\n"
     ]
    }
   ],
   "source": [
    "#Splitting the dataset\n",
    "train_features,test_features,train_labels,test_labels = train_test_split(features,target,stratify=target,shuffle=True,random_state=43)\n",
    "\n",
    "print('The shape of feature training set is:',train_features.shape)\n",
    "print('The shape of labels training set is:',train_labels.shape)\n",
    "print('The shape of feature testing set is:',test_features.shape)\n",
    "print('The shape of labels testing set is:',test_labels.shape)"
   ]
  },
  {
   "cell_type": "code",
   "execution_count": 8,
   "id": "4abb0aed",
   "metadata": {
    "execution": {
     "iopub.execute_input": "2022-06-03T17:02:51.321262Z",
     "iopub.status.busy": "2022-06-03T17:02:51.320073Z",
     "iopub.status.idle": "2022-06-03T17:02:51.331781Z",
     "shell.execute_reply": "2022-06-03T17:02:51.330459Z"
    },
    "papermill": {
     "duration": 0.022561,
     "end_time": "2022-06-03T17:02:51.334445",
     "exception": false,
     "start_time": "2022-06-03T17:02:51.311884",
     "status": "completed"
    },
    "tags": []
   },
   "outputs": [],
   "source": [
    "#Standardising the dataset\n",
    "scale=MinMaxScaler().fit(train_features)\n",
    "train_features_scaled=scale.transform(train_features)\n",
    "test_features_scaled=scale.transform(test_features)"
   ]
  },
  {
   "cell_type": "code",
   "execution_count": 9,
   "id": "203cf1ca",
   "metadata": {
    "execution": {
     "iopub.execute_input": "2022-06-03T17:02:51.349355Z",
     "iopub.status.busy": "2022-06-03T17:02:51.348613Z",
     "iopub.status.idle": "2022-06-03T17:02:51.352954Z",
     "shell.execute_reply": "2022-06-03T17:02:51.352033Z"
    },
    "papermill": {
     "duration": 0.014608,
     "end_time": "2022-06-03T17:02:51.355236",
     "exception": false,
     "start_time": "2022-06-03T17:02:51.340628",
     "status": "completed"
    },
    "tags": []
   },
   "outputs": [],
   "source": [
    "#Creating empty list to store model evaluation values\n",
    "data_all=[]"
   ]
  },
  {
   "cell_type": "markdown",
   "id": "af2ed47d",
   "metadata": {
    "papermill": {
     "duration": 0.005692,
     "end_time": "2022-06-03T17:02:51.367166",
     "exception": false,
     "start_time": "2022-06-03T17:02:51.361474",
     "status": "completed"
    },
    "tags": []
   },
   "source": [
    "**4. MODEL TRAINING AND EVALUATION**\n",
    "\n",
    "Using three models for classification of fraudulent and non-fraudulent transactions:\n",
    "* SVM\n",
    "* Logistic Regression\n",
    "* Random Forest \n",
    "\n",
    "Each model has be hypertuned and there is no baseline model. "
   ]
  },
  {
   "cell_type": "code",
   "execution_count": 10,
   "id": "71dd88c2",
   "metadata": {
    "execution": {
     "iopub.execute_input": "2022-06-03T17:02:51.381296Z",
     "iopub.status.busy": "2022-06-03T17:02:51.380781Z",
     "iopub.status.idle": "2022-06-03T17:04:36.701056Z",
     "shell.execute_reply": "2022-06-03T17:04:36.699247Z"
    },
    "papermill": {
     "duration": 105.330643,
     "end_time": "2022-06-03T17:04:36.703803",
     "exception": false,
     "start_time": "2022-06-03T17:02:51.373160",
     "status": "completed"
    },
    "tags": []
   },
   "outputs": [
    {
     "name": "stdout",
     "output_type": "stream",
     "text": [
      "Fitting 10 folds for each of 15 candidates, totalling 150 fits\n",
      "Train acc: 97.91 %\n",
      "Test acc: 98.24 %\n",
      "Best C: 100\n",
      "Best gamma: 10\n",
      "Best kernel: rbf\n"
     ]
    },
    {
     "data": {
      "image/png": "[encoded data removed]",
      "text/plain": [
       "<Figure size 360x360 with 1 Axes>"
      ]
     },
     "metadata": {
      "needs_background": "light"
     },
     "output_type": "display_data"
    },
    {
     "name": "stdout",
     "output_type": "stream",
     "text": [
      "Classification Report:\n",
      "----------------------\n",
      "               precision    recall  f1-score   support\n",
      "\n",
      "         0.0       0.99      0.97      0.98      1250\n",
      "         1.0       0.97      0.99      0.98      1250\n",
      "\n",
      "    accuracy                           0.98      2500\n",
      "   macro avg       0.98      0.98      0.98      2500\n",
      "weighted avg       0.98      0.98      0.98      2500\n",
      "\n"
     ]
    }
   ],
   "source": [
    "m='SVM'\n",
    "model= SVC()\n",
    "param_svm={\n",
    "    \"C\":[100,10,1,0.1],\n",
    "    \"gamma\": [10,1,0.1,0.001],\n",
    "    \"kernel\": ['rbf']\n",
    "    }\n",
    "\n",
    "random_svm=RandomizedSearchCV(estimator=model, param_distributions=param_svm, n_iter = 15 , scoring='accuracy', cv = 10, verbose=2, n_jobs=-1,random_state=43)\n",
    "random_svm.fit(train_features_scaled,train_labels)\n",
    "\n",
    "model=random_svm.best_estimator_\n",
    "crossval = cross_val_score(model,train_features_scaled,train_labels,cv=5,scoring='accuracy')\n",
    "scores = np.mean(crossval)\n",
    "\n",
    "test_pred=model.predict(test_features_scaled)\n",
    "test_recall = recall_score(test_labels, test_pred, pos_label=1)\n",
    "fpr, tpr, thresholds = roc_curve(test_labels, test_pred, pos_label=1)\n",
    "test_auc = auc(fpr, tpr)\n",
    "\n",
    "print('Train acc:',round(scores*100,2),'%')\n",
    "print('Test acc:',round(accuracy_score(test_labels,test_pred)*100,2),'%')\n",
    "print('Best C:',random_svm.best_estimator_.get_params()['C'])\n",
    "print('Best gamma:',random_svm.best_estimator_.get_params()['gamma'])\n",
    "print('Best kernel:',random_svm.best_estimator_.get_params()['kernel']) \n",
    "\n",
    "test_pred=model.predict(test_features_scaled)\n",
    "cm = confusion_matrix(test_labels, test_pred)\n",
    "clr = classification_report(test_labels, test_pred)\n",
    "plt.figure(figsize=(5, 5))\n",
    "sns.heatmap(cm, annot=True, vmin=0, fmt='g', cbar=False, cmap='Blues')\n",
    "plt.xlabel(\"Predicted\")\n",
    "plt.ylabel(\"Actual\")\n",
    "plt.title(\"Confusion Matrix:SVM\")\n",
    "plt.show()\n",
    "print(\"Classification Report:\\n----------------------\\n\", clr)\n",
    "\n",
    "if accuracy_score(test_labels,test_pred)-scores <1:\n",
    "    result_model='Good Model'\n",
    "    data_all.append([m,scores,accuracy_score(test_labels,test_pred),test_recall,test_auc,result_model])\n",
    "else:\n",
    "    result_model='Failed'\n",
    "    ddata_all.append([m,scores,accuracy_score(test_labels,test_pred),test_recall,test_auc,result_model])"
   ]
  },
  {
   "cell_type": "code",
   "execution_count": 11,
   "id": "8362df64",
   "metadata": {
    "execution": {
     "iopub.execute_input": "2022-06-03T17:04:36.719953Z",
     "iopub.status.busy": "2022-06-03T17:04:36.719371Z",
     "iopub.status.idle": "2022-06-03T17:04:39.515989Z",
     "shell.execute_reply": "2022-06-03T17:04:39.514835Z"
    },
    "papermill": {
     "duration": 2.808323,
     "end_time": "2022-06-03T17:04:39.518921",
     "exception": false,
     "start_time": "2022-06-03T17:04:36.710598",
     "status": "completed"
    },
    "tags": []
   },
   "outputs": [
    {
     "name": "stdout",
     "output_type": "stream",
     "text": [
      "Fitting 10 folds for each of 15 candidates, totalling 150 fits\n",
      "Train acc: 93.75 %\n",
      "Test acc: 94.28 %\n",
      "Best solver: newton-cg\n",
      "Best C: 100\n",
      "Best penalty: l2\n"
     ]
    },
    {
     "data": {
      "image/png": "[encoded data removed]",
      "text/plain": [
       "<Figure size 360x360 with 1 Axes>"
      ]
     },
     "metadata": {
      "needs_background": "light"
     },
     "output_type": "display_data"
    },
    {
     "name": "stdout",
     "output_type": "stream",
     "text": [
      "Classification Report:\n",
      "----------------------\n",
      "               precision    recall  f1-score   support\n",
      "\n",
      "         0.0       0.94      0.94      0.94      1250\n",
      "         1.0       0.94      0.94      0.94      1250\n",
      "\n",
      "    accuracy                           0.94      2500\n",
      "   macro avg       0.94      0.94      0.94      2500\n",
      "weighted avg       0.94      0.94      0.94      2500\n",
      "\n"
     ]
    }
   ],
   "source": [
    "m='Logistic Regression'\n",
    "model= LogisticRegression(max_iter=1000)\n",
    "param_lr={\n",
    "    \"solver\": ['newton-cg','lbfgs','liblinear'],\n",
    "    \"C\":[100, 10, 1.0, 0.1, 0.01],\n",
    "    \"penalty\":['l2']\n",
    "}\n",
    "random_lr=RandomizedSearchCV(estimator=model, param_distributions=param_lr, n_iter = 15 , scoring='accuracy', cv = 10, verbose=2, n_jobs=-1,random_state=43)\n",
    "random_lr.fit(train_features_scaled,train_labels)\n",
    "model=random_lr.best_estimator_\n",
    "crossval = cross_val_score(model,train_features_scaled,train_labels,cv=5,scoring='accuracy')\n",
    "scores = np.mean(crossval)\n",
    "\n",
    "test_pred=model.predict(test_features_scaled)\n",
    "test_recall = recall_score(test_labels, test_pred, pos_label=1)\n",
    "fpr,tpr,thresholds = roc_curve(test_labels, test_pred, pos_label=1)\n",
    "test_auc = auc(fpr,tpr)\n",
    "\n",
    "print('Train acc:',round(scores*100,2),'%')\n",
    "print('Test acc:',round(accuracy_score(test_labels,test_pred)*100,2),'%')\n",
    "print('Best solver:',random_lr.best_estimator_.get_params()['solver'])\n",
    "print('Best C:',random_lr.best_estimator_.get_params()['C'])\n",
    "print('Best penalty:',random_lr.best_estimator_.get_params()['penalty'])\n",
    "\n",
    "test_pred=model.predict(test_features_scaled)\n",
    "cm = confusion_matrix(test_labels, test_pred)\n",
    "clr = classification_report(test_labels, test_pred)\n",
    "plt.figure(figsize=(5, 5))\n",
    "sns.heatmap(cm, annot=True, vmin=0, fmt='g', cbar=False, cmap='Blues')\n",
    "plt.xlabel(\"Predicted\")\n",
    "plt.ylabel(\"Actual\")\n",
    "plt.title(\"Confusion Matrix:Log Reg\")\n",
    "plt.show()\n",
    "print(\"Classification Report:\\n----------------------\\n\", clr)\n",
    "\n",
    "if accuracy_score(test_labels,test_pred)-scores <1:\n",
    "    result_model='Good Model'\n",
    "    data_all.append([m,scores,accuracy_score(test_labels,test_pred),test_recall,test_auc,result_model])\n",
    "else:\n",
    "    result_model='Failed'\n",
    "    data_all.append([m,scores,accuracy_score(test_labels,test_pred),test_recall,test_auc,result_model])"
   ]
  },
  {
   "cell_type": "code",
   "execution_count": 12,
   "id": "9ee6a8eb",
   "metadata": {
    "execution": {
     "iopub.execute_input": "2022-06-03T17:04:39.535330Z",
     "iopub.status.busy": "2022-06-03T17:04:39.534809Z",
     "iopub.status.idle": "2022-06-03T17:04:43.334764Z",
     "shell.execute_reply": "2022-06-03T17:04:43.333252Z"
    },
    "papermill": {
     "duration": 3.811175,
     "end_time": "2022-06-03T17:04:43.337307",
     "exception": false,
     "start_time": "2022-06-03T17:04:39.526132",
     "status": "completed"
    },
    "tags": []
   },
   "outputs": [
    {
     "name": "stdout",
     "output_type": "stream",
     "text": [
      "Fitting 10 folds for each of 15 candidates, totalling 150 fits\n",
      "[CV] END .....................C=0.1, gamma=0.001, kernel=rbf; total time=   5.7s\n",
      "[CV] END .....................C=0.1, gamma=0.001, kernel=rbf; total time=   5.7s\n",
      "[CV] END ..........................C=1, gamma=10, kernel=rbf; total time=   1.3s\n",
      "[CV] END ..........................C=1, gamma=10, kernel=rbf; total time=   1.5s\n",
      "[CV] END ..........................C=1, gamma=10, kernel=rbf; total time=   1.4s\n",
      "[CV] END ..........................C=1, gamma=10, kernel=rbf; total time=   1.3s\n",
      "[CV] END ..........................C=1, gamma=10, kernel=rbf; total time=   1.3s\n",
      "[CV] END ........................C=0.1, gamma=10, kernel=rbf; total time=   2.6s\n",
      "[CV] END ........................C=0.1, gamma=10, kernel=rbf; total time=   2.7s\n",
      "[CV] END ........................C=10, gamma=0.1, kernel=rbf; total time=   2.4s\n",
      "[CV] END ........................C=10, gamma=0.1, kernel=rbf; total time=   2.4s\n",
      "[CV] END ........................C=10, gamma=0.1, kernel=rbf; total time=   2.3s\n",
      "[CV] END .......................C=1, gamma=0.001, kernel=rbf; total time=   4.8s\n",
      "[CV] END .......................C=1, gamma=0.001, kernel=rbf; total time=   4.7s\n",
      "[CV] END .......................C=100, gamma=0.1, kernel=rbf; total time=   1.3s\n",
      "[CV] END .......................C=100, gamma=0.1, kernel=rbf; total time=   1.4s\n",
      "[CV] END .......................C=100, gamma=0.1, kernel=rbf; total time=   1.3s\n",
      "[CV] END .......................C=100, gamma=0.1, kernel=rbf; total time=   1.5s\n",
      "[CV] END ......................C=10, gamma=0.001, kernel=rbf; total time=   3.7s\n",
      "[CV] END ......................C=10, gamma=0.001, kernel=rbf; total time=   3.5s\n",
      "[CV] END ......................C=10, gamma=0.001, kernel=rbf; total time=   3.4s\n",
      "[CV] END ...........................C=1, gamma=1, kernel=rbf; total time=   2.5s\n",
      "[CV] END ...........................C=1, gamma=1, kernel=rbf; total time=   2.5s\n",
      "[CV] END .........................C=0.1, gamma=1, kernel=rbf; total time=   3.2s\n",
      "[CV] END .........................C=0.1, gamma=1, kernel=rbf; total time=   3.2s\n",
      "[CV] END .....................C=100, gamma=0.001, kernel=rbf; total time=   3.4s\n",
      "[CV] END .....................C=100, gamma=0.001, kernel=rbf; total time=   3.3s\n",
      "[CV] END .....................C=100, gamma=0.001, kernel=rbf; total time=   3.3s\n",
      "[CV] END .......................C=0.1, gamma=0.1, kernel=rbf; total time=   3.9s\n",
      "[CV] END .......................C=0.1, gamma=0.1, kernel=rbf; total time=   3.5s\n",
      "[CV] END .........................C=1, gamma=0.1, kernel=rbf; total time=   3.3s\n",
      "[CV] END .........................C=1, gamma=0.1, kernel=rbf; total time=   3.4s\n",
      "[CV] END .........................C=1, gamma=0.1, kernel=rbf; total time=   3.5s\n",
      "[CV] END ..........................C=10, gamma=1, kernel=rbf; total time=   1.2s\n",
      "[CV] END ..........................C=10, gamma=1, kernel=rbf; total time=   1.3s\n",
      "[CV] END .........................C=100, gamma=1, kernel=rbf; total time=   0.7s\n",
      "[CV] END .........................C=100, gamma=1, kernel=rbf; total time=   0.7s\n",
      "[CV] END .........................C=100, gamma=1, kernel=rbf; total time=   0.7s\n",
      "[CV] END ........................C=100, gamma=10, kernel=rbf; total time=   0.5s\n",
      "[CV] END ........................C=100, gamma=10, kernel=rbf; total time=   0.5s\n",
      "[CV] END ........................C=100, gamma=10, kernel=rbf; total time=   0.4s\n",
      "[CV] END ................C=100, penalty=l2, solver=newton-cg; total time=   0.1s\n",
      "[CV] END ................C=100, penalty=l2, solver=newton-cg; total time=   0.1s\n",
      "[CV] END ....................C=100, penalty=l2, solver=lbfgs; total time=   0.1s\n",
      "[CV] END ....................C=100, penalty=l2, solver=lbfgs; total time=   0.1s\n",
      "[CV] END ....................C=100, penalty=l2, solver=lbfgs; total time=   0.1s\n",
      "[CV] END ....................C=100, penalty=l2, solver=lbfgs; total time=   0.1s\n",
      "[CV] END .................C=10, penalty=l2, solver=newton-cg; total time=   0.1s\n",
      "[CV] END .................C=10, penalty=l2, solver=newton-cg; total time=   0.1s\n",
      "[CV] END .....................C=10, penalty=l2, solver=lbfgs; total time=   0.1s\n",
      "[CV] END .....................C=10, penalty=l2, solver=lbfgs; total time=   0.1s\n",
      "[CV] END .................C=10, penalty=l2, solver=liblinear; total time=   0.0s\n",
      "[CV] END .................C=10, penalty=l2, solver=liblinear; total time=   0.0s\n",
      "[CV] END .................C=10, penalty=l2, solver=liblinear; total time=   0.0s\n",
      "[CV] END .................C=10, penalty=l2, solver=liblinear; total time=   0.0s\n",
      "[CV] END .................C=10, penalty=l2, solver=liblinear; total time=   0.0s\n",
      "[CV] END .................C=10, penalty=l2, solver=liblinear; total time=   0.0s\n",
      "[CV] END ................C=1.0, penalty=l2, solver=newton-cg; total time=   0.1s\n",
      "[CV] END ................C=1.0, penalty=l2, solver=newton-cg; total time=   0.0s\n",
      "[CV] END ....................C=1.0, penalty=l2, solver=lbfgs; total time=   0.1s\n",
      "[CV] END ....................C=1.0, penalty=l2, solver=lbfgs; total time=   0.1s\n",
      "[CV] END ................C=1.0, penalty=l2, solver=liblinear; total time=   0.0s\n",
      "[CV] END ................C=1.0, penalty=l2, solver=liblinear; total time=   0.0s\n",
      "[CV] END ................C=1.0, penalty=l2, solver=liblinear; total time=   0.0s\n",
      "[CV] END ................C=1.0, penalty=l2, solver=liblinear; total time=   0.0s\n",
      "[CV] END ................C=0.1, penalty=l2, solver=newton-cg; total time=   0.1s\n",
      "[CV] END ................C=0.1, penalty=l2, solver=newton-cg; total time=   0.0s\n",
      "[CV] END ....................C=0.1, penalty=l2, solver=lbfgs; total time=   0.0s\n",
      "[CV] END ....................C=0.1, penalty=l2, solver=lbfgs; total time=   0.0s\n",
      "[CV] END ....................C=0.1, penalty=l2, solver=lbfgs; total time=   0.0s\n",
      "[CV] END ....................C=0.1, penalty=l2, solver=lbfgs; total time=   0.0s\n",
      "[CV] END ...............C=0.01, penalty=l2, solver=newton-cg; total time=   0.0s\n",
      "[CV] END ...............C=0.01, penalty=l2, solver=newton-cg; total time=   0.0s\n",
      "[CV] END ...................C=0.01, penalty=l2, solver=lbfgs; total time=   0.0s\n",
      "[CV] END ...................C=0.01, penalty=l2, solver=lbfgs; total time=   0.0s\n",
      "[CV] END ...................C=0.01, penalty=l2, solver=lbfgs; total time=   0.0s\n",
      "[CV] END ...............C=0.01, penalty=l2, solver=liblinear; total time=   0.0s\n",
      "[CV] END ...............C=0.01, penalty=l2, solver=liblinear; total time=   0.0s\n",
      "[CV] END ...............C=0.01, penalty=l2, solver=liblinear; total time=   0.0s\n",
      "[CV] END .......max_depth=7, max_features=4, n_estimators=12; total time=   0.1s\n",
      "[CV] END .......max_depth=7, max_features=4, n_estimators=12; total time=   0.1s\n",
      "[CV] END .......max_depth=9, max_features=4, n_estimators=12; total time=   0.1s\n",
      "[CV] END .......max_depth=9, max_features=4, n_estimators=12; total time=   0.1s\n",
      "[CV] END .......max_depth=1, max_features=4, n_estimators=14; total time=   0.1s\n",
      "[CV] END .......max_depth=1, max_features=4, n_estimators=14; total time=   0.1s\n",
      "[CV] END .......max_depth=1, max_features=4, n_estimators=14; total time=   0.1s\n",
      "[CV] END .......max_depth=1, max_features=4, n_estimators=14; total time=   0.1s\n",
      "[CV] END ........max_depth=4, max_features=4, n_estimators=6; total time=   0.1s\n",
      "[CV] END ........max_depth=4, max_features=4, n_estimators=6; total time=   0.1s\n",
      "[CV] END ........max_depth=5, max_features=2, n_estimators=4; total time=   0.0s\n",
      "[CV] END ........max_depth=5, max_features=2, n_estimators=4; total time=   0.0s\n",
      "[CV] END ........max_depth=6, max_features=4, n_estimators=8; total time=   0.1s\n",
      "[CV] END ........max_depth=6, max_features=4, n_estimators=8; total time=   0.1s\n",
      "[CV] END ........max_depth=2, max_features=3, n_estimators=8; total time=   0.1s\n",
      "[CV] END ........max_depth=2, max_features=3, n_estimators=8; total time=   0.1s\n",
      "[CV] END ........max_depth=2, max_features=3, n_estimators=8; total time=   0.1s\n",
      "[CV] END ........max_depth=2, max_features=3, n_estimators=8; total time=   0.1s\n",
      "[CV] END .......max_depth=7, max_features=3, n_estimators=12; total time=   0.1s\n",
      "[CV] END .......max_depth=7, max_features=3, n_estimators=12; total time=   0.1s\n",
      "[CV] END ........max_depth=7, max_features=6, n_estimators=4; total time=   0.1s\n",
      "[CV] END ........max_depth=7, max_features=6, n_estimators=4; total time=   0.1s\n",
      "[CV] END ........max_depth=7, max_features=6, n_estimators=4; total time=   0.1s[CV] END .....................C=0.1, gamma=0.001, kernel=rbf; total time=   5.7s\n",
      "[CV] END .....................C=0.1, gamma=0.001, kernel=rbf; total time=   5.5s\n",
      "[CV] END .....................C=0.1, gamma=0.001, kernel=rbf; total time=   5.4s\n",
      "[CV] END ..........................C=1, gamma=10, kernel=rbf; total time=   1.3s\n",
      "[CV] END ........................C=0.1, gamma=10, kernel=rbf; total time=   2.7s\n",
      "[CV] END ........................C=0.1, gamma=10, kernel=rbf; total time=   2.6s\n",
      "[CV] END ........................C=10, gamma=0.1, kernel=rbf; total time=   2.5s\n",
      "[CV] END ........................C=10, gamma=0.1, kernel=rbf; total time=   2.3s\n",
      "[CV] END ........................C=10, gamma=0.1, kernel=rbf; total time=   2.4s\n",
      "[CV] END .......................C=1, gamma=0.001, kernel=rbf; total time=   4.7s\n",
      "[CV] END .......................C=1, gamma=0.001, kernel=rbf; total time=   4.7s\n",
      "[CV] END .......................C=1, gamma=0.001, kernel=rbf; total time=   4.6s\n",
      "[CV] END .......................C=100, gamma=0.1, kernel=rbf; total time=   1.7s\n",
      "[CV] END ......................C=10, gamma=0.001, kernel=rbf; total time=   3.9s\n",
      "[CV] END ......................C=10, gamma=0.001, kernel=rbf; total time=   3.5s\n",
      "[CV] END ...........................C=1, gamma=1, kernel=rbf; total time=   2.4s\n",
      "[CV] END ...........................C=1, gamma=1, kernel=rbf; total time=   2.5s\n",
      "[CV] END ...........................C=1, gamma=1, kernel=rbf; total time=   2.4s\n",
      "[CV] END .........................C=0.1, gamma=1, kernel=rbf; total time=   3.1s\n",
      "[CV] END .........................C=0.1, gamma=1, kernel=rbf; total time=   3.2s\n",
      "[CV] END .........................C=0.1, gamma=1, kernel=rbf; total time=   3.3s\n",
      "[CV] END .....................C=100, gamma=0.001, kernel=rbf; total time=   3.3s\n",
      "[CV] END .....................C=100, gamma=0.001, kernel=rbf; total time=   3.3s\n",
      "[CV] END .......................C=0.1, gamma=0.1, kernel=rbf; total time=   3.8s\n",
      "[CV] END .......................C=0.1, gamma=0.1, kernel=rbf; total time=   3.5s\n",
      "[CV] END .......................C=0.1, gamma=0.1, kernel=rbf; total time=   3.5s\n",
      "[CV] END .........................C=1, gamma=0.1, kernel=rbf; total time=   3.3s\n",
      "[CV] END .........................C=1, gamma=0.1, kernel=rbf; total time=   3.3s\n",
      "[CV] END ..........................C=10, gamma=1, kernel=rbf; total time=   1.3s\n",
      "[CV] END ..........................C=10, gamma=1, kernel=rbf; total time=   1.3s\n",
      "[CV] END ..........................C=10, gamma=1, kernel=rbf; total time=   1.2s\n",
      "[CV] END .........................C=100, gamma=1, kernel=rbf; total time=   0.7s\n",
      "[CV] END .........................C=100, gamma=1, kernel=rbf; total time=   0.7s\n",
      "[CV] END .........................C=100, gamma=1, kernel=rbf; total time=   0.7s\n",
      "[CV] END ........................C=100, gamma=10, kernel=rbf; total time=   0.5s\n",
      "[CV] END ........................C=100, gamma=10, kernel=rbf; total time=   0.5s\n",
      "[CV] END ................C=100, penalty=l2, solver=newton-cg; total time=   0.1s\n",
      "[CV] END ................C=100, penalty=l2, solver=newton-cg; total time=   0.1s\n",
      "[CV] END ....................C=100, penalty=l2, solver=lbfgs; total time=   0.1s\n",
      "[CV] END ....................C=100, penalty=l2, solver=lbfgs; total time=   0.1s\n",
      "[CV] END ................C=100, penalty=l2, solver=liblinear; total time=   0.0s\n",
      "[CV] END ................C=100, penalty=l2, solver=liblinear; total time=   0.0s\n",
      "[CV] END ................C=100, penalty=l2, solver=liblinear; total time=   0.0s\n",
      "[CV] END ................C=100, penalty=l2, solver=liblinear; total time=   0.0s\n",
      "[CV] END ................C=100, penalty=l2, solver=liblinear; total time=   0.0s\n",
      "[CV] END ................C=100, penalty=l2, solver=liblinear; total time=   0.0s\n",
      "[CV] END .................C=10, penalty=l2, solver=newton-cg; total time=   0.1s\n",
      "[CV] END .................C=10, penalty=l2, solver=newton-cg; total time=   0.1s\n",
      "[CV] END .....................C=10, penalty=l2, solver=lbfgs; total time=   0.1s\n",
      "[CV] END .....................C=10, penalty=l2, solver=lbfgs; total time=   0.1s\n",
      "[CV] END .................C=10, penalty=l2, solver=liblinear; total time=   0.0s\n",
      "[CV] END .................C=10, penalty=l2, solver=liblinear; total time=   0.0s\n",
      "[CV] END .................C=10, penalty=l2, solver=liblinear; total time=   0.0s\n",
      "[CV] END .................C=10, penalty=l2, solver=liblinear; total time=   0.0s\n",
      "[CV] END ................C=1.0, penalty=l2, solver=newton-cg; total time=   0.1s\n",
      "[CV] END ................C=1.0, penalty=l2, solver=newton-cg; total time=   0.0s\n",
      "[CV] END ....................C=1.0, penalty=l2, solver=lbfgs; total time=   0.1s\n",
      "[CV] END ....................C=1.0, penalty=l2, solver=lbfgs; total time=   0.1s\n",
      "[CV] END ....................C=1.0, penalty=l2, solver=lbfgs; total time=   0.1s\n",
      "[CV] END ....................C=1.0, penalty=l2, solver=lbfgs; total time=   0.1s\n",
      "[CV] END ................C=0.1, penalty=l2, solver=newton-cg; total time=   0.1s\n",
      "[CV] END ................C=0.1, penalty=l2, solver=newton-cg; total time=   0.0s\n",
      "[CV] END ....................C=0.1, penalty=l2, solver=lbfgs; total time=   0.0s\n",
      "[CV] END ....................C=0.1, penalty=l2, solver=lbfgs; total time=   0.0s\n",
      "[CV] END ................C=0.1, penalty=l2, solver=liblinear; total time=   0.0s\n",
      "[CV] END ................C=0.1, penalty=l2, solver=liblinear; total time=   0.0s\n",
      "[CV] END ................C=0.1, penalty=l2, solver=liblinear; total time=   0.0s\n",
      "[CV] END ................C=0.1, penalty=l2, solver=liblinear; total time=   0.0s\n",
      "[CV] END ...................C=0.01, penalty=l2, solver=lbfgs; total time=   0.0s\n",
      "[CV] END ...................C=0.01, penalty=l2, solver=lbfgs; total time=   0.0s\n",
      "[CV] END ...................C=0.01, penalty=l2, solver=lbfgs; total time=   0.0s\n",
      "[CV] END ...................C=0.01, penalty=l2, solver=lbfgs; total time=   0.0s\n",
      "[CV] END ...................C=0.01, penalty=l2, solver=lbfgs; total time=   0.0s\n",
      "[CV] END ...............C=0.01, penalty=l2, solver=liblinear; total time=   0.0s\n",
      "[CV] END ...............C=0.01, penalty=l2, solver=liblinear; total time=   0.0s\n",
      "[CV] END ...............C=0.01, penalty=l2, solver=liblinear; total time=   0.0s\n",
      "[CV] END .......max_depth=7, max_features=4, n_estimators=12; total time=   0.1s\n",
      "[CV] END .......max_depth=7, max_features=4, n_estimators=12; total time=   0.1s\n",
      "[CV] END .......max_depth=9, max_features=4, n_estimators=12; total time=   0.1s\n",
      "[CV] END .......max_depth=9, max_features=4, n_estimators=12; total time=   0.1s\n",
      "[CV] END .......max_depth=1, max_features=4, n_estimators=14; total time=   0.1s\n",
      "[CV] END .......max_depth=1, max_features=4, n_estimators=14; total time=   0.1s\n",
      "[CV] END .......max_depth=1, max_features=4, n_estimators=14; total time=   0.1s\n",
      "[CV] END .......max_depth=1, max_features=4, n_estimators=14; total time=   0.1s\n",
      "[CV] END ........max_depth=4, max_features=4, n_estimators=6; total time=   0.1s\n",
      "[CV] END ........max_depth=4, max_features=4, n_estimators=6; total time=   0.1s\n",
      "[CV] END ........max_depth=5, max_features=2, n_estimators=4; total time=   0.0s\n",
      "[CV] END ........max_depth=5, max_features=2, n_estimators=4; total time=   0.0s\n",
      "[CV] END ........max_depth=5, max_features=2, n_estimators=4; total time=   0.0s\n",
      "[CV] END ........max_depth=5, max_features=2, n_estimators=4; total time=   0.0s\n",
      "[CV] END ........max_depth=6, max_features=4, n_estimators=8; total time=   0.1s\n",
      "[CV] END ........max_depth=6, max_features=4, n_estimators=8; total time=   0.1s\n",
      "[CV] END ........max_depth=2, max_features=3, n_estimators=8; total time=   0.1s\n",
      "[CV] END ........max_depth=2, max_features=3, n_estimators=8; total time=   0.1s\n",
      "[CV] END .......max_depth=7, max_features=3, n_estimators=12; total time=   0.1s\n",
      "[CV] END .......max_depth=7, max_features=3, n_estimators=12; total time=   0.1s\n",
      "[CV] END ........max_depth=7, max_features=6, n_estimators=4; total time=   0.1s\n",
      "[CV] END ........max_depth=7, max_features=6, n_estimators=4; total time=   0.1s\n",
      "[CV] END ........max_depth=7, max_features=6, n_estimators=4; total time=   0.1s\n",
      "[CV] END ........max_depth=7, max_features=6, n_estimators=4; total time=   0.1s\n",
      "[CV] END ........max_depth=9, max_features=6, n_estimators=8; total time=   0.1s\n",
      "[CV] END ........max_depth=9, max_features=6, n_estimators=8; total time=   0.1s[CV] END .....................C=0.1, gamma=0.001, kernel=rbf; total time=   5.6s\n",
      "[CV] END .....................C=0.1, gamma=0.001, kernel=rbf; total time=   5.7s\n",
      "[CV] END ..........................C=1, gamma=10, kernel=rbf; total time=   1.5s\n",
      "[CV] END ..........................C=1, gamma=10, kernel=rbf; total time=   1.5s\n",
      "[CV] END ..........................C=1, gamma=10, kernel=rbf; total time=   1.4s\n",
      "[CV] END ..........................C=1, gamma=10, kernel=rbf; total time=   1.4s\n",
      "[CV] END ........................C=0.1, gamma=10, kernel=rbf; total time=   2.7s\n",
      "[CV] END ........................C=0.1, gamma=10, kernel=rbf; total time=   2.7s\n",
      "[CV] END ........................C=0.1, gamma=10, kernel=rbf; total time=   2.7s\n",
      "[CV] END ........................C=10, gamma=0.1, kernel=rbf; total time=   2.4s\n",
      "[CV] END ........................C=10, gamma=0.1, kernel=rbf; total time=   2.3s\n",
      "[CV] END .......................C=1, gamma=0.001, kernel=rbf; total time=   4.9s\n",
      "[CV] END .......................C=1, gamma=0.001, kernel=rbf; total time=   4.8s\n",
      "[CV] END .......................C=100, gamma=0.1, kernel=rbf; total time=   1.4s\n",
      "[CV] END .......................C=100, gamma=0.1, kernel=rbf; total time=   1.4s\n",
      "[CV] END .......................C=100, gamma=0.1, kernel=rbf; total time=   1.3s\n",
      "[CV] END .......................C=100, gamma=0.1, kernel=rbf; total time=   1.5s\n",
      "[CV] END ......................C=10, gamma=0.001, kernel=rbf; total time=   4.1s\n",
      "[CV] END ......................C=10, gamma=0.001, kernel=rbf; total time=   3.6s\n",
      "[CV] END ...........................C=1, gamma=1, kernel=rbf; total time=   2.5s\n",
      "[CV] END ...........................C=1, gamma=1, kernel=rbf; total time=   2.5s\n",
      "[CV] END ...........................C=1, gamma=1, kernel=rbf; total time=   2.5s\n",
      "[CV] END .........................C=0.1, gamma=1, kernel=rbf; total time=   3.2s\n",
      "[CV] END .........................C=0.1, gamma=1, kernel=rbf; total time=   3.2s\n",
      "[CV] END .........................C=0.1, gamma=1, kernel=rbf; total time=   3.2s\n",
      "[CV] END .....................C=100, gamma=0.001, kernel=rbf; total time=   3.4s\n",
      "[CV] END .....................C=100, gamma=0.001, kernel=rbf; total time=   3.3s\n",
      "[CV] END .......................C=0.1, gamma=0.1, kernel=rbf; total time=   4.2s\n",
      "[CV] END .......................C=0.1, gamma=0.1, kernel=rbf; total time=   3.5s\n",
      "[CV] END .......................C=0.1, gamma=0.1, kernel=rbf; total time=   3.5s\n",
      "[CV] END .........................C=1, gamma=0.1, kernel=rbf; total time=   3.4s\n",
      "[CV] END .........................C=1, gamma=0.1, kernel=rbf; total time=   3.4s\n",
      "[CV] END ..........................C=10, gamma=1, kernel=rbf; total time=   1.3s\n",
      "[CV] END ..........................C=10, gamma=1, kernel=rbf; total time=   1.3s\n",
      "[CV] END .........................C=100, gamma=1, kernel=rbf; total time=   0.7s\n",
      "[CV] END .........................C=100, gamma=1, kernel=rbf; total time=   0.7s\n",
      "[CV] END .........................C=100, gamma=1, kernel=rbf; total time=   0.7s\n",
      "[CV] END ........................C=100, gamma=10, kernel=rbf; total time=   0.5s\n",
      "[CV] END ........................C=100, gamma=10, kernel=rbf; total time=   0.5s\n",
      "[CV] END ................C=100, penalty=l2, solver=newton-cg; total time=   0.1s\n",
      "[CV] END ................C=100, penalty=l2, solver=newton-cg; total time=   0.1s\n",
      "[CV] END ................C=100, penalty=l2, solver=newton-cg; total time=   0.1s\n",
      "[CV] END ................C=100, penalty=l2, solver=newton-cg; total time=   0.1s\n",
      "[CV] END ....................C=100, penalty=l2, solver=lbfgs; total time=   0.1s\n",
      "[CV] END ....................C=100, penalty=l2, solver=lbfgs; total time=   0.1s\n",
      "[CV] END .................C=10, penalty=l2, solver=newton-cg; total time=   0.1s\n",
      "[CV] END .................C=10, penalty=l2, solver=newton-cg; total time=   0.1s\n",
      "[CV] END .....................C=10, penalty=l2, solver=lbfgs; total time=   0.1s\n",
      "[CV] END .....................C=10, penalty=l2, solver=lbfgs; total time=   0.1s\n",
      "[CV] END .....................C=10, penalty=l2, solver=lbfgs; total time=   0.1s\n",
      "[CV] END .....................C=10, penalty=l2, solver=lbfgs; total time=   0.1s\n",
      "[CV] END ................C=1.0, penalty=l2, solver=newton-cg; total time=   0.0s\n",
      "[CV] END ................C=1.0, penalty=l2, solver=newton-cg; total time=   0.1s\n",
      "[CV] END ................C=1.0, penalty=l2, solver=newton-cg; total time=   0.1s\n",
      "[CV] END ................C=1.0, penalty=l2, solver=newton-cg; total time=   0.0s\n",
      "[CV] END ....................C=1.0, penalty=l2, solver=lbfgs; total time=   0.1s\n",
      "[CV] END ....................C=1.0, penalty=l2, solver=lbfgs; total time=   0.1s\n",
      "[CV] END ................C=1.0, penalty=l2, solver=liblinear; total time=   0.0s\n",
      "[CV] END ................C=1.0, penalty=l2, solver=liblinear; total time=   0.0s\n",
      "[CV] END ................C=0.1, penalty=l2, solver=newton-cg; total time=   0.0s\n",
      "[CV] END ................C=0.1, penalty=l2, solver=newton-cg; total time=   0.0s\n",
      "[CV] END ....................C=0.1, penalty=l2, solver=lbfgs; total time=   0.0s\n",
      "[CV] END ....................C=0.1, penalty=l2, solver=lbfgs; total time=   0.0s\n",
      "[CV] END ................C=0.1, penalty=l2, solver=liblinear; total time=   0.0s\n",
      "[CV] END ................C=0.1, penalty=l2, solver=liblinear; total time=   0.0s\n",
      "[CV] END ................C=0.1, penalty=l2, solver=liblinear; total time=   0.0s\n",
      "[CV] END ................C=0.1, penalty=l2, solver=liblinear; total time=   0.0s\n",
      "[CV] END ...............C=0.01, penalty=l2, solver=newton-cg; total time=   0.0s\n",
      "[CV] END ...............C=0.01, penalty=l2, solver=newton-cg; total time=   0.0s\n",
      "[CV] END ...............C=0.01, penalty=l2, solver=newton-cg; total time=   0.0s\n",
      "[CV] END ...............C=0.01, penalty=l2, solver=newton-cg; total time=   0.0s\n",
      "[CV] END ...................C=0.01, penalty=l2, solver=lbfgs; total time=   0.0s\n",
      "[CV] END ...............C=0.01, penalty=l2, solver=liblinear; total time=   0.0s\n",
      "[CV] END ...............C=0.01, penalty=l2, solver=liblinear; total time=   0.0s\n",
      "[CV] END .......max_depth=7, max_features=4, n_estimators=12; total time=   0.1s\n",
      "[CV] END .......max_depth=7, max_features=4, n_estimators=12; total time=   0.1s\n",
      "[CV] END .......max_depth=9, max_features=4, n_estimators=12; total time=   0.1s\n",
      "[CV] END .......max_depth=9, max_features=4, n_estimators=12; total time=   0.1s\n",
      "[CV] END .......max_depth=9, max_features=4, n_estimators=12; total time=   0.1s\n",
      "[CV] END .......max_depth=9, max_features=4, n_estimators=12; total time=   0.1s\n",
      "[CV] END ........max_depth=4, max_features=4, n_estimators=6; total time=   0.1s\n",
      "[CV] END ........max_depth=4, max_features=4, n_estimators=6; total time=   0.1s\n",
      "[CV] END ........max_depth=4, max_features=4, n_estimators=6; total time=   0.1s\n",
      "[CV] END ........max_depth=4, max_features=4, n_estimators=6; total time=   0.1s\n",
      "[CV] END ........max_depth=5, max_features=2, n_estimators=4; total time=   0.0s\n",
      "[CV] END ........max_depth=5, max_features=2, n_estimators=4; total time=   0.0s\n",
      "[CV] END ........max_depth=6, max_features=4, n_estimators=8; total time=   0.1s\n",
      "[CV] END ........max_depth=6, max_features=4, n_estimators=8; total time=   0.1s\n",
      "[CV] END ........max_depth=6, max_features=4, n_estimators=8; total time=   0.1s\n",
      "[CV] END ........max_depth=6, max_features=4, n_estimators=8; total time=   0.1s\n",
      "[CV] END .......max_depth=7, max_features=3, n_estimators=12; total time=   0.1s\n",
      "[CV] END .......max_depth=7, max_features=3, n_estimators=12; total time=   0.1s\n",
      "[CV] END .......max_depth=7, max_features=3, n_estimators=12; total time=   0.1s\n",
      "[CV] END .......max_depth=7, max_features=3, n_estimators=12; total time=   0.1s\n",
      "[CV] END ........max_depth=9, max_features=6, n_estimators=8; total time=   0.1s\n",
      "[CV] END ........max_depth=9, max_features=6, n_estimators=8; total time=   0.1s\n",
      "[CV] END ........max_depth=6, max_features=1, n_estimators=2; total time=   0.0s\n",
      "[CV] END ........max_depth=6, max_features=1, n_estimators=2; total time=   0.0s\n",
      "[CV] END ........max_depth=6, max_features=1, n_estimators=2; total time=   0.0s\n",
      "[CV] END ........max_depth=6, max_features=1, n_estimators=2; total time=   0.0s\n",
      "[CV] END ........max_depth=6, max_features=1, n_estimators=2; total time=   0.0s\n",
      "[CV] END ........max_depth=6, max_features=1, n_estimators=2; total time=   0.0s[CV] END .....................C=0.1, gamma=0.001, kernel=rbf; total time=   5.7s\n",
      "[CV] END .....................C=0.1, gamma=0.001, kernel=rbf; total time=   5.7s\n",
      "[CV] END .....................C=0.1, gamma=0.001, kernel=rbf; total time=   5.6s\n",
      "[CV] END ........................C=0.1, gamma=10, kernel=rbf; total time=   2.7s\n",
      "[CV] END ........................C=0.1, gamma=10, kernel=rbf; total time=   2.7s\n",
      "[CV] END ........................C=0.1, gamma=10, kernel=rbf; total time=   2.7s\n",
      "[CV] END ........................C=10, gamma=0.1, kernel=rbf; total time=   2.4s\n",
      "[CV] END ........................C=10, gamma=0.1, kernel=rbf; total time=   2.3s\n",
      "[CV] END .......................C=1, gamma=0.001, kernel=rbf; total time=   4.8s\n",
      "[CV] END .......................C=1, gamma=0.001, kernel=rbf; total time=   4.8s\n",
      "[CV] END .......................C=1, gamma=0.001, kernel=rbf; total time=   4.6s\n",
      "[CV] END .......................C=100, gamma=0.1, kernel=rbf; total time=   1.5s\n",
      "[CV] END ......................C=10, gamma=0.001, kernel=rbf; total time=   3.9s\n",
      "[CV] END ......................C=10, gamma=0.001, kernel=rbf; total time=   3.4s\n",
      "[CV] END ......................C=10, gamma=0.001, kernel=rbf; total time=   3.6s\n",
      "[CV] END ...........................C=1, gamma=1, kernel=rbf; total time=   2.5s\n",
      "[CV] END ...........................C=1, gamma=1, kernel=rbf; total time=   2.4s\n",
      "[CV] END .........................C=0.1, gamma=1, kernel=rbf; total time=   3.1s\n",
      "[CV] END .........................C=0.1, gamma=1, kernel=rbf; total time=   3.2s\n",
      "[CV] END .....................C=100, gamma=0.001, kernel=rbf; total time=   3.5s\n",
      "[CV] END .....................C=100, gamma=0.001, kernel=rbf; total time=   3.3s\n",
      "[CV] END .....................C=100, gamma=0.001, kernel=rbf; total time=   3.3s\n",
      "[CV] END .......................C=0.1, gamma=0.1, kernel=rbf; total time=   3.8s\n",
      "[CV] END .......................C=0.1, gamma=0.1, kernel=rbf; total time=   3.5s\n",
      "[CV] END .........................C=1, gamma=0.1, kernel=rbf; total time=   3.2s\n",
      "[CV] END .........................C=1, gamma=0.1, kernel=rbf; total time=   3.4s\n",
      "[CV] END .........................C=1, gamma=0.1, kernel=rbf; total time=   3.4s\n",
      "[CV] END ..........................C=10, gamma=1, kernel=rbf; total time=   1.2s\n",
      "[CV] END ..........................C=10, gamma=1, kernel=rbf; total time=   1.2s\n",
      "[CV] END ..........................C=10, gamma=1, kernel=rbf; total time=   1.2s\n",
      "[CV] END .........................C=100, gamma=1, kernel=rbf; total time=   0.7s\n",
      "[CV] END ........................C=100, gamma=10, kernel=rbf; total time=   0.5s\n",
      "[CV] END ........................C=100, gamma=10, kernel=rbf; total time=   0.5s\n",
      "[CV] END ........................C=100, gamma=10, kernel=rbf; total time=   0.5s\n",
      "[CV] END ................C=100, penalty=l2, solver=newton-cg; total time=   0.1s\n",
      "[CV] END ................C=100, penalty=l2, solver=newton-cg; total time=   0.1s\n",
      "[CV] END ....................C=100, penalty=l2, solver=lbfgs; total time=   0.1s\n",
      "[CV] END ....................C=100, penalty=l2, solver=lbfgs; total time=   0.1s\n",
      "[CV] END ................C=100, penalty=l2, solver=liblinear; total time=   0.0s\n",
      "[CV] END ................C=100, penalty=l2, solver=liblinear; total time=   0.0s\n",
      "[CV] END ................C=100, penalty=l2, solver=liblinear; total time=   0.0s\n",
      "[CV] END ................C=100, penalty=l2, solver=liblinear; total time=   0.0s\n",
      "[CV] END .................C=10, penalty=l2, solver=newton-cg; total time=   0.1s\n",
      "[CV] END .................C=10, penalty=l2, solver=newton-cg; total time=   0.1s\n",
      "[CV] END .................C=10, penalty=l2, solver=newton-cg; total time=   0.1s\n",
      "[CV] END .................C=10, penalty=l2, solver=newton-cg; total time=   0.1s\n",
      "[CV] END .....................C=10, penalty=l2, solver=lbfgs; total time=   0.1s\n",
      "[CV] END .....................C=10, penalty=l2, solver=lbfgs; total time=   0.1s\n",
      "[CV] END ................C=1.0, penalty=l2, solver=newton-cg; total time=   0.1s\n",
      "[CV] END ................C=1.0, penalty=l2, solver=newton-cg; total time=   0.1s\n",
      "[CV] END ....................C=1.0, penalty=l2, solver=lbfgs; total time=   0.1s\n",
      "[CV] END ....................C=1.0, penalty=l2, solver=lbfgs; total time=   0.1s\n",
      "[CV] END ................C=1.0, penalty=l2, solver=liblinear; total time=   0.0s\n",
      "[CV] END ................C=1.0, penalty=l2, solver=liblinear; total time=   0.0s\n",
      "[CV] END ................C=1.0, penalty=l2, solver=liblinear; total time=   0.0s\n",
      "[CV] END ................C=1.0, penalty=l2, solver=liblinear; total time=   0.0s\n",
      "[CV] END ................C=0.1, penalty=l2, solver=newton-cg; total time=   0.0s\n",
      "[CV] END ................C=0.1, penalty=l2, solver=newton-cg; total time=   0.0s\n",
      "[CV] END ................C=0.1, penalty=l2, solver=newton-cg; total time=   0.0s\n",
      "[CV] END ................C=0.1, penalty=l2, solver=newton-cg; total time=   0.0s\n",
      "[CV] END ....................C=0.1, penalty=l2, solver=lbfgs; total time=   0.0s\n",
      "[CV] END ....................C=0.1, penalty=l2, solver=lbfgs; total time=   0.0s\n",
      "[CV] END ................C=0.1, penalty=l2, solver=liblinear; total time=   0.0s\n",
      "[CV] END ................C=0.1, penalty=l2, solver=liblinear; total time=   0.0s\n",
      "[CV] END ...............C=0.01, penalty=l2, solver=newton-cg; total time=   0.0s\n",
      "[CV] END ...............C=0.01, penalty=l2, solver=newton-cg; total time=   0.0s\n",
      "[CV] END ...............C=0.01, penalty=l2, solver=newton-cg; total time=   0.0s\n",
      "[CV] END ...............C=0.01, penalty=l2, solver=newton-cg; total time=   0.0s\n",
      "[CV] END ...................C=0.01, penalty=l2, solver=lbfgs; total time=   0.0s\n",
      "[CV] END ...............C=0.01, penalty=l2, solver=liblinear; total time=   0.0s\n",
      "[CV] END ...............C=0.01, penalty=l2, solver=liblinear; total time=   0.0s\n",
      "[CV] END .......max_depth=7, max_features=4, n_estimators=12; total time=   0.1s\n",
      "[CV] END .......max_depth=7, max_features=4, n_estimators=12; total time=   0.1s\n",
      "[CV] END .......max_depth=7, max_features=4, n_estimators=12; total time=   0.1s\n",
      "[CV] END .......max_depth=7, max_features=4, n_estimators=12; total time=   0.1s\n",
      "[CV] END .......max_depth=9, max_features=4, n_estimators=12; total time=   0.1s\n",
      "[CV] END .......max_depth=9, max_features=4, n_estimators=12; total time=   0.1s\n",
      "[CV] END .......max_depth=1, max_features=4, n_estimators=14; total time=   0.1s\n",
      "[CV] END .......max_depth=1, max_features=4, n_estimators=14; total time=   0.1s\n",
      "[CV] END ........max_depth=4, max_features=4, n_estimators=6; total time=   0.1s\n",
      "[CV] END ........max_depth=4, max_features=4, n_estimators=6; total time=   0.1s\n",
      "[CV] END ........max_depth=5, max_features=2, n_estimators=4; total time=   0.0s\n",
      "[CV] END ........max_depth=5, max_features=2, n_estimators=4; total time=   0.0s\n",
      "[CV] END ........max_depth=6, max_features=4, n_estimators=8; total time=   0.1s\n",
      "[CV] END ........max_depth=6, max_features=4, n_estimators=8; total time=   0.1s\n",
      "[CV] END ........max_depth=2, max_features=3, n_estimators=8; total time=   0.1s\n",
      "[CV] END ........max_depth=2, max_features=3, n_estimators=8; total time=   0.1s\n",
      "[CV] END ........max_depth=2, max_features=3, n_estimators=8; total time=   0.1s\n",
      "[CV] END ........max_depth=2, max_features=3, n_estimators=8; total time=   0.1s\n",
      "[CV] END .......max_depth=7, max_features=3, n_estimators=12; total time=   0.1s\n",
      "[CV] END .......max_depth=7, max_features=3, n_estimators=12; total time=   0.1s\n",
      "[CV] END ........max_depth=7, max_features=6, n_estimators=4; total time=   0.1s\n",
      "[CV] END ........max_depth=7, max_features=6, n_estimators=4; total time=   0.1s\n",
      "[CV] END ........max_depth=9, max_features=6, n_estimators=8; total time=   0.1s\n",
      "[CV] END ........max_depth=9, max_features=6, n_estimators=8; total time=   0.1s\n",
      "[CV] END ........max_depth=9, max_features=6, n_estimators=8; total time=   0.1s\n",
      "[CV] END ........max_depth=9, max_features=6, n_estimators=8; total time=   0.1s\n",
      "[CV] END ........max_depth=5, max_features=2, n_estimators=6; total time=   0.1s\n",
      "[CV] END ........max_depth=5, max_features=2, n_estimators=6; total time=   0.1s\n",
      "[CV] END ........max_depth=3, max_features=4, n_estimators=2; total time=   0.0s\n",
      "[CV] END ........max_depth=3, max_features=4, n_estimators=2; total time=   0.0s\n",
      "[CV] END .......max_depth=1, max_features=3, n_estimators=14; total time=   0.1sTrain acc: 99.84 %\n",
      "Test acc: 99.92 %\n",
      "Best n_estimators: 12\n",
      "Best max_features: 4\n",
      "Best max_depth: 9\n"
     ]
    },
    {
     "data": {
      "image/png": "[encoded data removed]",
      "text/plain": [
       "<Figure size 360x360 with 1 Axes>"
      ]
     },
     "metadata": {
      "needs_background": "light"
     },
     "output_type": "display_data"
    },
    {
     "name": "stdout",
     "output_type": "stream",
     "text": [
      "Classification Report:\n",
      "----------------------\n",
      "               precision    recall  f1-score   support\n",
      "\n",
      "         0.0       1.00      1.00      1.00      1250\n",
      "         1.0       1.00      1.00      1.00      1250\n",
      "\n",
      "    accuracy                           1.00      2500\n",
      "   macro avg       1.00      1.00      1.00      2500\n",
      "weighted avg       1.00      1.00      1.00      2500\n",
      "\n"
     ]
    }
   ],
   "source": [
    "m='Random Forest'\n",
    "model=RandomForestClassifier()\n",
    "param_rf={\n",
    "    \"n_estimators\":range(2,15,2),\n",
    "    \"max_features\":range(1,7),\n",
    "    \"max_depth\":range(1,10)\n",
    "}\n",
    "random_rf=RandomizedSearchCV(estimator=model, param_distributions=param_rf, n_iter = 15, cv = 10,scoring='accuracy', verbose=2, n_jobs=-1,random_state=43)\n",
    "random_rf.fit(train_features,train_labels)\n",
    "model=random_rf.best_estimator_\n",
    "crossval = cross_val_score(model,train_features,train_labels,cv=5,scoring='accuracy')\n",
    "scores = np.mean(crossval)\n",
    "\n",
    "test_pred=model.predict(test_features)\n",
    "test_recall = recall_score(test_labels, test_pred, pos_label=1)\n",
    "fpr, tpr, thresholds = roc_curve(test_labels, test_pred, pos_label=1)\n",
    "test_auc = auc(fpr,tpr)\n",
    "\n",
    "print('Train acc:',round(scores*100,2),'%')\n",
    "print('Test acc:',round(accuracy_score(test_labels,test_pred)*100,2),'%')\n",
    "print('Best n_estimators:',random_rf.best_estimator_.get_params()['n_estimators'])\n",
    "print('Best max_features:',random_rf.best_estimator_.get_params()['max_features'])\n",
    "print('Best max_depth:',random_rf.best_estimator_.get_params()['max_depth'])\n",
    "\n",
    "test_pred=model.predict(test_features)\n",
    "cm = confusion_matrix(test_labels, test_pred)\n",
    "clr = classification_report(test_labels, test_pred)\n",
    "plt.figure(figsize=(5, 5))\n",
    "sns.heatmap(cm, annot=True, vmin=0, fmt='g', cbar=False, cmap='Blues')\n",
    "plt.xlabel(\"Predicted\")\n",
    "plt.ylabel(\"Actual\")\n",
    "plt.title(\"Confusion Matrix:Random Forest\")\n",
    "plt.show()\n",
    "print(\"Classification Report:\\n----------------------\\n\", clr)\n",
    "\n",
    "if accuracy_score(test_labels,test_pred)-scores <1:\n",
    "    result_model='Good Model'\n",
    "    data_all.append([m,scores,accuracy_score(test_labels,test_pred),test_recall,test_auc,result_model])\n",
    "else:\n",
    "    result_model='Failed'\n",
    "    data_all.append([m,scores,accuracy_score(test_labels,test_pred),test_recall,test_auc,result_model])"
   ]
  },
  {
   "cell_type": "code",
   "execution_count": 13,
   "id": "d9ab6ae9",
   "metadata": {
    "execution": {
     "iopub.execute_input": "2022-06-03T17:04:43.356575Z",
     "iopub.status.busy": "2022-06-03T17:04:43.356177Z",
     "iopub.status.idle": "2022-06-03T17:04:43.367295Z",
     "shell.execute_reply": "2022-06-03T17:04:43.366391Z"
    },
    "papermill": {
     "duration": 0.024935,
     "end_time": "2022-06-03T17:04:43.371040",
     "exception": false,
     "start_time": "2022-06-03T17:04:43.346105",
     "status": "completed"
    },
    "tags": []
   },
   "outputs": [
    {
     "name": "stdout",
     "output_type": "stream",
     "text": [
      "                 model  train score  test score  test recall  test_auc  \\\n",
      "0                  SVM     0.979067      0.9824       0.9920    0.9824   \n",
      "1  Logistic Regression     0.937467      0.9428       0.9440    0.9428   \n",
      "2        Random Forest     0.998400      0.9992       0.9992    0.9992   \n",
      "\n",
      "       Remark  \n",
      "0  Good Model  \n",
      "1  Good Model  \n",
      "2  Good Model  \n"
     ]
    }
   ],
   "source": [
    "models=['SVM','LogReg','Random Forest']\n",
    "pd_scores=pd.DataFrame(data_all,columns=['model','train score','test score','test recall','test_auc','Remark'])\n",
    "print(pd_scores)"
   ]
  }
 ],
 "metadata": {
  "kernelspec": {
   "display_name": "Python 3 (ipykernel)",
   "language": "python",
   "name": "python3"
  },
  "language_info": {
   "codemirror_mode": {
    "name": "ipython",
    "version": 3
   },
   "file_extension": ".py",
   "mimetype": "text/x-python",
   "name": "python",
   "nbconvert_exporter": "python",
   "pygments_lexer": "ipython3",
   "version": "3.9.7"
  },
  "papermill": {
   "default_parameters": {},
   "duration": 130.089023,
   "end_time": "2022-06-03T17:04:46.002625",
   "environment_variables": {},
   "exception": null,
   "input_path": "__notebook__.ipynb",
   "output_path": "__notebook__.ipynb",
   "parameters": {},
   "start_time": "2022-06-03T17:02:35.913602",
   "version": "2.3.4"
  }
 },
 "nbformat": 4,
 "nbformat_minor": 5
}
