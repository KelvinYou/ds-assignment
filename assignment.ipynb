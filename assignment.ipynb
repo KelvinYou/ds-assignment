{
 "cells": [
  {
   "cell_type": "markdown",
   "id": "ee76679d",
   "metadata": {},
   "source": [
    "# 1.1 Import Libraries"
   ]
  },
  {
   "cell_type": "code",
   "execution_count": 1,
   "id": "de55ca9e",
   "metadata": {},
   "outputs": [],
   "source": [
    "import numpy as np # linear algebra\n",
    "import pandas as pd # data processing, CSV file I/O (e.g. pd.read_csv)\n",
    "from sklearn import preprocessing, model_selection, neighbors\n",
    "from sklearn.preprocessing import MinMaxScaler, StandardScaler\n",
    "from sklearn.ensemble import RandomForestClassifier\n",
    "from sklearn.tree import DecisionTreeClassifier\n",
    "from sklearn.metrics import classification_report, accuracy_score, confusion_matrix, precision_score\n",
    "import matplotlib.pyplot as plt\n",
    "import seaborn as sns\n",
    "import os\n",
    "\n",
    "sns.set(rc = {\"figure.figsize\":(10, 6)}) #graph size\n",
    "\n",
    "for dirname, _, filenames in os.walk('/kaggle/input'):\n",
    "    for filename in filenames:\n",
    "        print(os.path.join(dirname, filename))"
   ]
  },
  {
   "cell_type": "markdown",
   "id": "c1c0c1de",
   "metadata": {},
   "source": [
    "## 1.2 Load Data from Dataset"
   ]
  },
  {
   "cell_type": "code",
   "execution_count": 2,
   "id": "54eb827f",
   "metadata": {},
   "outputs": [
    {
     "data": {
      "text/html": [
       "<div>\n",
       "<style scoped>\n",
       "    .dataframe tbody tr th:only-of-type {\n",
       "        vertical-align: middle;\n",
       "    }\n",
       "\n",
       "    .dataframe tbody tr th {\n",
       "        vertical-align: top;\n",
       "    }\n",
       "\n",
       "    .dataframe thead th {\n",
       "        text-align: right;\n",
       "    }\n",
       "</style>\n",
       "<table border=\"1\" class=\"dataframe\">\n",
       "  <thead>\n",
       "    <tr style=\"text-align: right;\">\n",
       "      <th></th>\n",
       "      <th>distance_from_home</th>\n",
       "      <th>distance_from_last_transaction</th>\n",
       "      <th>ratio_to_median_purchase_price</th>\n",
       "      <th>repeat_retailer</th>\n",
       "      <th>used_chip</th>\n",
       "      <th>used_pin_number</th>\n",
       "      <th>online_order</th>\n",
       "      <th>fraud</th>\n",
       "    </tr>\n",
       "  </thead>\n",
       "  <tbody>\n",
       "    <tr>\n",
       "      <th>0</th>\n",
       "      <td>57.877857</td>\n",
       "      <td>0.311140</td>\n",
       "      <td>1.945940</td>\n",
       "      <td>1.0</td>\n",
       "      <td>1.0</td>\n",
       "      <td>0.0</td>\n",
       "      <td>0.0</td>\n",
       "      <td>0.0</td>\n",
       "    </tr>\n",
       "    <tr>\n",
       "      <th>1</th>\n",
       "      <td>10.829943</td>\n",
       "      <td>0.175592</td>\n",
       "      <td>1.294219</td>\n",
       "      <td>1.0</td>\n",
       "      <td>0.0</td>\n",
       "      <td>0.0</td>\n",
       "      <td>0.0</td>\n",
       "      <td>0.0</td>\n",
       "    </tr>\n",
       "    <tr>\n",
       "      <th>2</th>\n",
       "      <td>5.091079</td>\n",
       "      <td>0.805153</td>\n",
       "      <td>0.427715</td>\n",
       "      <td>1.0</td>\n",
       "      <td>0.0</td>\n",
       "      <td>0.0</td>\n",
       "      <td>1.0</td>\n",
       "      <td>0.0</td>\n",
       "    </tr>\n",
       "    <tr>\n",
       "      <th>3</th>\n",
       "      <td>2.247564</td>\n",
       "      <td>5.600044</td>\n",
       "      <td>0.362663</td>\n",
       "      <td>1.0</td>\n",
       "      <td>1.0</td>\n",
       "      <td>0.0</td>\n",
       "      <td>1.0</td>\n",
       "      <td>0.0</td>\n",
       "    </tr>\n",
       "    <tr>\n",
       "      <th>4</th>\n",
       "      <td>44.190936</td>\n",
       "      <td>0.566486</td>\n",
       "      <td>2.222767</td>\n",
       "      <td>1.0</td>\n",
       "      <td>1.0</td>\n",
       "      <td>0.0</td>\n",
       "      <td>1.0</td>\n",
       "      <td>0.0</td>\n",
       "    </tr>\n",
       "    <tr>\n",
       "      <th>...</th>\n",
       "      <td>...</td>\n",
       "      <td>...</td>\n",
       "      <td>...</td>\n",
       "      <td>...</td>\n",
       "      <td>...</td>\n",
       "      <td>...</td>\n",
       "      <td>...</td>\n",
       "      <td>...</td>\n",
       "    </tr>\n",
       "    <tr>\n",
       "      <th>999995</th>\n",
       "      <td>2.207101</td>\n",
       "      <td>0.112651</td>\n",
       "      <td>1.626798</td>\n",
       "      <td>1.0</td>\n",
       "      <td>1.0</td>\n",
       "      <td>0.0</td>\n",
       "      <td>0.0</td>\n",
       "      <td>0.0</td>\n",
       "    </tr>\n",
       "    <tr>\n",
       "      <th>999996</th>\n",
       "      <td>19.872726</td>\n",
       "      <td>2.683904</td>\n",
       "      <td>2.778303</td>\n",
       "      <td>1.0</td>\n",
       "      <td>1.0</td>\n",
       "      <td>0.0</td>\n",
       "      <td>0.0</td>\n",
       "      <td>0.0</td>\n",
       "    </tr>\n",
       "    <tr>\n",
       "      <th>999997</th>\n",
       "      <td>2.914857</td>\n",
       "      <td>1.472687</td>\n",
       "      <td>0.218075</td>\n",
       "      <td>1.0</td>\n",
       "      <td>1.0</td>\n",
       "      <td>0.0</td>\n",
       "      <td>1.0</td>\n",
       "      <td>0.0</td>\n",
       "    </tr>\n",
       "    <tr>\n",
       "      <th>999998</th>\n",
       "      <td>4.258729</td>\n",
       "      <td>0.242023</td>\n",
       "      <td>0.475822</td>\n",
       "      <td>1.0</td>\n",
       "      <td>0.0</td>\n",
       "      <td>0.0</td>\n",
       "      <td>1.0</td>\n",
       "      <td>0.0</td>\n",
       "    </tr>\n",
       "    <tr>\n",
       "      <th>999999</th>\n",
       "      <td>58.108125</td>\n",
       "      <td>0.318110</td>\n",
       "      <td>0.386920</td>\n",
       "      <td>1.0</td>\n",
       "      <td>1.0</td>\n",
       "      <td>0.0</td>\n",
       "      <td>1.0</td>\n",
       "      <td>0.0</td>\n",
       "    </tr>\n",
       "  </tbody>\n",
       "</table>\n",
       "<p>1000000 rows × 8 columns</p>\n",
       "</div>"
      ],
      "text/plain": [
       "        distance_from_home  distance_from_last_transaction  \\\n",
       "0                57.877857                        0.311140   \n",
       "1                10.829943                        0.175592   \n",
       "2                 5.091079                        0.805153   \n",
       "3                 2.247564                        5.600044   \n",
       "4                44.190936                        0.566486   \n",
       "...                    ...                             ...   \n",
       "999995            2.207101                        0.112651   \n",
       "999996           19.872726                        2.683904   \n",
       "999997            2.914857                        1.472687   \n",
       "999998            4.258729                        0.242023   \n",
       "999999           58.108125                        0.318110   \n",
       "\n",
       "        ratio_to_median_purchase_price  repeat_retailer  used_chip  \\\n",
       "0                             1.945940              1.0        1.0   \n",
       "1                             1.294219              1.0        0.0   \n",
       "2                             0.427715              1.0        0.0   \n",
       "3                             0.362663              1.0        1.0   \n",
       "4                             2.222767              1.0        1.0   \n",
       "...                                ...              ...        ...   \n",
       "999995                        1.626798              1.0        1.0   \n",
       "999996                        2.778303              1.0        1.0   \n",
       "999997                        0.218075              1.0        1.0   \n",
       "999998                        0.475822              1.0        0.0   \n",
       "999999                        0.386920              1.0        1.0   \n",
       "\n",
       "        used_pin_number  online_order  fraud  \n",
       "0                   0.0           0.0    0.0  \n",
       "1                   0.0           0.0    0.0  \n",
       "2                   0.0           1.0    0.0  \n",
       "3                   0.0           1.0    0.0  \n",
       "4                   0.0           1.0    0.0  \n",
       "...                 ...           ...    ...  \n",
       "999995              0.0           0.0    0.0  \n",
       "999996              0.0           0.0    0.0  \n",
       "999997              0.0           1.0    0.0  \n",
       "999998              0.0           1.0    0.0  \n",
       "999999              0.0           1.0    0.0  \n",
       "\n",
       "[1000000 rows x 8 columns]"
      ]
     },
     "execution_count": 2,
     "metadata": {},
     "output_type": "execute_result"
    }
   ],
   "source": [
    "df = pd.read_csv(\"card_transdata.csv\")\n",
    "df"
   ]
  },
  {
   "cell_type": "code",
   "execution_count": 3,
   "id": "c2aa9a87",
   "metadata": {},
   "outputs": [
    {
     "data": {
      "text/html": [
       "<div>\n",
       "<style scoped>\n",
       "    .dataframe tbody tr th:only-of-type {\n",
       "        vertical-align: middle;\n",
       "    }\n",
       "\n",
       "    .dataframe tbody tr th {\n",
       "        vertical-align: top;\n",
       "    }\n",
       "\n",
       "    .dataframe thead th {\n",
       "        text-align: right;\n",
       "    }\n",
       "</style>\n",
       "<table border=\"1\" class=\"dataframe\">\n",
       "  <thead>\n",
       "    <tr style=\"text-align: right;\">\n",
       "      <th></th>\n",
       "      <th>distance_from_home</th>\n",
       "      <th>distance_from_last_transaction</th>\n",
       "      <th>ratio_to_median_purchase_price</th>\n",
       "      <th>repeat_retailer</th>\n",
       "      <th>used_chip</th>\n",
       "      <th>used_pin_number</th>\n",
       "      <th>online_order</th>\n",
       "      <th>fraud</th>\n",
       "    </tr>\n",
       "  </thead>\n",
       "  <tbody>\n",
       "    <tr>\n",
       "      <th>0</th>\n",
       "      <td>57.877857</td>\n",
       "      <td>0.311140</td>\n",
       "      <td>1.945940</td>\n",
       "      <td>1.0</td>\n",
       "      <td>1.0</td>\n",
       "      <td>0.0</td>\n",
       "      <td>0.0</td>\n",
       "      <td>0.0</td>\n",
       "    </tr>\n",
       "    <tr>\n",
       "      <th>1</th>\n",
       "      <td>10.829943</td>\n",
       "      <td>0.175592</td>\n",
       "      <td>1.294219</td>\n",
       "      <td>1.0</td>\n",
       "      <td>0.0</td>\n",
       "      <td>0.0</td>\n",
       "      <td>0.0</td>\n",
       "      <td>0.0</td>\n",
       "    </tr>\n",
       "    <tr>\n",
       "      <th>2</th>\n",
       "      <td>5.091079</td>\n",
       "      <td>0.805153</td>\n",
       "      <td>0.427715</td>\n",
       "      <td>1.0</td>\n",
       "      <td>0.0</td>\n",
       "      <td>0.0</td>\n",
       "      <td>1.0</td>\n",
       "      <td>0.0</td>\n",
       "    </tr>\n",
       "    <tr>\n",
       "      <th>3</th>\n",
       "      <td>2.247564</td>\n",
       "      <td>5.600044</td>\n",
       "      <td>0.362663</td>\n",
       "      <td>1.0</td>\n",
       "      <td>1.0</td>\n",
       "      <td>0.0</td>\n",
       "      <td>1.0</td>\n",
       "      <td>0.0</td>\n",
       "    </tr>\n",
       "    <tr>\n",
       "      <th>4</th>\n",
       "      <td>44.190936</td>\n",
       "      <td>0.566486</td>\n",
       "      <td>2.222767</td>\n",
       "      <td>1.0</td>\n",
       "      <td>1.0</td>\n",
       "      <td>0.0</td>\n",
       "      <td>1.0</td>\n",
       "      <td>0.0</td>\n",
       "    </tr>\n",
       "  </tbody>\n",
       "</table>\n",
       "</div>"
      ],
      "text/plain": [
       "   distance_from_home  distance_from_last_transaction  \\\n",
       "0           57.877857                        0.311140   \n",
       "1           10.829943                        0.175592   \n",
       "2            5.091079                        0.805153   \n",
       "3            2.247564                        5.600044   \n",
       "4           44.190936                        0.566486   \n",
       "\n",
       "   ratio_to_median_purchase_price  repeat_retailer  used_chip  \\\n",
       "0                        1.945940              1.0        1.0   \n",
       "1                        1.294219              1.0        0.0   \n",
       "2                        0.427715              1.0        0.0   \n",
       "3                        0.362663              1.0        1.0   \n",
       "4                        2.222767              1.0        1.0   \n",
       "\n",
       "   used_pin_number  online_order  fraud  \n",
       "0              0.0           0.0    0.0  \n",
       "1              0.0           0.0    0.0  \n",
       "2              0.0           1.0    0.0  \n",
       "3              0.0           1.0    0.0  \n",
       "4              0.0           1.0    0.0  "
      ]
     },
     "execution_count": 3,
     "metadata": {},
     "output_type": "execute_result"
    }
   ],
   "source": [
    "df.head()"
   ]
  },
  {
   "cell_type": "code",
   "execution_count": 4,
   "id": "73544238",
   "metadata": {},
   "outputs": [
    {
     "data": {
      "text/plain": [
       "(1000000, 8)"
      ]
     },
     "execution_count": 4,
     "metadata": {},
     "output_type": "execute_result"
    }
   ],
   "source": [
    "df.shape"
   ]
  },
  {
   "cell_type": "code",
   "execution_count": 5,
   "id": "4ec51023",
   "metadata": {},
   "outputs": [
    {
     "data": {
      "text/html": [
       "<style type=\"text/css\">\n",
       "#T_3c3bf_row0_col0, #T_3c3bf_row0_col1, #T_3c3bf_row0_col2, #T_3c3bf_row0_col3, #T_3c3bf_row0_col4, #T_3c3bf_row0_col5, #T_3c3bf_row0_col6, #T_3c3bf_row0_col7 {\n",
       "  background-color: #f0f921;\n",
       "  color: #000000;\n",
       "}\n",
       "#T_3c3bf_row1_col0, #T_3c3bf_row1_col1, #T_3c3bf_row1_col2, #T_3c3bf_row1_col3, #T_3c3bf_row1_col4, #T_3c3bf_row1_col5, #T_3c3bf_row1_col6, #T_3c3bf_row1_col7, #T_3c3bf_row2_col0, #T_3c3bf_row2_col1, #T_3c3bf_row2_col2, #T_3c3bf_row2_col3, #T_3c3bf_row2_col4, #T_3c3bf_row2_col5, #T_3c3bf_row2_col6, #T_3c3bf_row2_col7, #T_3c3bf_row3_col0, #T_3c3bf_row3_col1, #T_3c3bf_row3_col2, #T_3c3bf_row3_col3, #T_3c3bf_row3_col4, #T_3c3bf_row3_col5, #T_3c3bf_row3_col6, #T_3c3bf_row3_col7, #T_3c3bf_row4_col0, #T_3c3bf_row4_col1, #T_3c3bf_row4_col2, #T_3c3bf_row4_col3, #T_3c3bf_row4_col4, #T_3c3bf_row4_col5, #T_3c3bf_row4_col6, #T_3c3bf_row4_col7, #T_3c3bf_row5_col0, #T_3c3bf_row5_col1, #T_3c3bf_row5_col2, #T_3c3bf_row5_col3, #T_3c3bf_row5_col4, #T_3c3bf_row5_col5, #T_3c3bf_row5_col6, #T_3c3bf_row5_col7, #T_3c3bf_row6_col0, #T_3c3bf_row6_col1, #T_3c3bf_row6_col2, #T_3c3bf_row6_col3, #T_3c3bf_row6_col4, #T_3c3bf_row6_col5, #T_3c3bf_row6_col6, #T_3c3bf_row6_col7, #T_3c3bf_row7_col2, #T_3c3bf_row7_col3, #T_3c3bf_row7_col4, #T_3c3bf_row7_col5, #T_3c3bf_row7_col6, #T_3c3bf_row7_col7 {\n",
       "  background-color: #0d0887;\n",
       "  color: #f1f1f1;\n",
       "}\n",
       "#T_3c3bf_row7_col0 {\n",
       "  background-color: #130789;\n",
       "  color: #f1f1f1;\n",
       "}\n",
       "#T_3c3bf_row7_col1 {\n",
       "  background-color: #16078a;\n",
       "  color: #f1f1f1;\n",
       "}\n",
       "</style>\n",
       "<table id=\"T_3c3bf_\">\n",
       "  <thead>\n",
       "    <tr>\n",
       "      <th class=\"blank level0\" >&nbsp;</th>\n",
       "      <th class=\"col_heading level0 col0\" >distance_from_home</th>\n",
       "      <th class=\"col_heading level0 col1\" >distance_from_last_transaction</th>\n",
       "      <th class=\"col_heading level0 col2\" >ratio_to_median_purchase_price</th>\n",
       "      <th class=\"col_heading level0 col3\" >repeat_retailer</th>\n",
       "      <th class=\"col_heading level0 col4\" >used_chip</th>\n",
       "      <th class=\"col_heading level0 col5\" >used_pin_number</th>\n",
       "      <th class=\"col_heading level0 col6\" >online_order</th>\n",
       "      <th class=\"col_heading level0 col7\" >fraud</th>\n",
       "    </tr>\n",
       "  </thead>\n",
       "  <tbody>\n",
       "    <tr>\n",
       "      <th id=\"T_3c3bf_level0_row0\" class=\"row_heading level0 row0\" >count</th>\n",
       "      <td id=\"T_3c3bf_row0_col0\" class=\"data row0 col0\" >1000000.000000</td>\n",
       "      <td id=\"T_3c3bf_row0_col1\" class=\"data row0 col1\" >1000000.000000</td>\n",
       "      <td id=\"T_3c3bf_row0_col2\" class=\"data row0 col2\" >1000000.000000</td>\n",
       "      <td id=\"T_3c3bf_row0_col3\" class=\"data row0 col3\" >1000000.000000</td>\n",
       "      <td id=\"T_3c3bf_row0_col4\" class=\"data row0 col4\" >1000000.000000</td>\n",
       "      <td id=\"T_3c3bf_row0_col5\" class=\"data row0 col5\" >1000000.000000</td>\n",
       "      <td id=\"T_3c3bf_row0_col6\" class=\"data row0 col6\" >1000000.000000</td>\n",
       "      <td id=\"T_3c3bf_row0_col7\" class=\"data row0 col7\" >1000000.000000</td>\n",
       "    </tr>\n",
       "    <tr>\n",
       "      <th id=\"T_3c3bf_level0_row1\" class=\"row_heading level0 row1\" >mean</th>\n",
       "      <td id=\"T_3c3bf_row1_col0\" class=\"data row1 col0\" >26.628792</td>\n",
       "      <td id=\"T_3c3bf_row1_col1\" class=\"data row1 col1\" >5.036519</td>\n",
       "      <td id=\"T_3c3bf_row1_col2\" class=\"data row1 col2\" >1.824182</td>\n",
       "      <td id=\"T_3c3bf_row1_col3\" class=\"data row1 col3\" >0.881536</td>\n",
       "      <td id=\"T_3c3bf_row1_col4\" class=\"data row1 col4\" >0.350399</td>\n",
       "      <td id=\"T_3c3bf_row1_col5\" class=\"data row1 col5\" >0.100608</td>\n",
       "      <td id=\"T_3c3bf_row1_col6\" class=\"data row1 col6\" >0.650552</td>\n",
       "      <td id=\"T_3c3bf_row1_col7\" class=\"data row1 col7\" >0.087403</td>\n",
       "    </tr>\n",
       "    <tr>\n",
       "      <th id=\"T_3c3bf_level0_row2\" class=\"row_heading level0 row2\" >std</th>\n",
       "      <td id=\"T_3c3bf_row2_col0\" class=\"data row2 col0\" >65.390784</td>\n",
       "      <td id=\"T_3c3bf_row2_col1\" class=\"data row2 col1\" >25.843093</td>\n",
       "      <td id=\"T_3c3bf_row2_col2\" class=\"data row2 col2\" >2.799589</td>\n",
       "      <td id=\"T_3c3bf_row2_col3\" class=\"data row2 col3\" >0.323157</td>\n",
       "      <td id=\"T_3c3bf_row2_col4\" class=\"data row2 col4\" >0.477095</td>\n",
       "      <td id=\"T_3c3bf_row2_col5\" class=\"data row2 col5\" >0.300809</td>\n",
       "      <td id=\"T_3c3bf_row2_col6\" class=\"data row2 col6\" >0.476796</td>\n",
       "      <td id=\"T_3c3bf_row2_col7\" class=\"data row2 col7\" >0.282425</td>\n",
       "    </tr>\n",
       "    <tr>\n",
       "      <th id=\"T_3c3bf_level0_row3\" class=\"row_heading level0 row3\" >min</th>\n",
       "      <td id=\"T_3c3bf_row3_col0\" class=\"data row3 col0\" >0.004874</td>\n",
       "      <td id=\"T_3c3bf_row3_col1\" class=\"data row3 col1\" >0.000118</td>\n",
       "      <td id=\"T_3c3bf_row3_col2\" class=\"data row3 col2\" >0.004399</td>\n",
       "      <td id=\"T_3c3bf_row3_col3\" class=\"data row3 col3\" >0.000000</td>\n",
       "      <td id=\"T_3c3bf_row3_col4\" class=\"data row3 col4\" >0.000000</td>\n",
       "      <td id=\"T_3c3bf_row3_col5\" class=\"data row3 col5\" >0.000000</td>\n",
       "      <td id=\"T_3c3bf_row3_col6\" class=\"data row3 col6\" >0.000000</td>\n",
       "      <td id=\"T_3c3bf_row3_col7\" class=\"data row3 col7\" >0.000000</td>\n",
       "    </tr>\n",
       "    <tr>\n",
       "      <th id=\"T_3c3bf_level0_row4\" class=\"row_heading level0 row4\" >25%</th>\n",
       "      <td id=\"T_3c3bf_row4_col0\" class=\"data row4 col0\" >3.878008</td>\n",
       "      <td id=\"T_3c3bf_row4_col1\" class=\"data row4 col1\" >0.296671</td>\n",
       "      <td id=\"T_3c3bf_row4_col2\" class=\"data row4 col2\" >0.475673</td>\n",
       "      <td id=\"T_3c3bf_row4_col3\" class=\"data row4 col3\" >1.000000</td>\n",
       "      <td id=\"T_3c3bf_row4_col4\" class=\"data row4 col4\" >0.000000</td>\n",
       "      <td id=\"T_3c3bf_row4_col5\" class=\"data row4 col5\" >0.000000</td>\n",
       "      <td id=\"T_3c3bf_row4_col6\" class=\"data row4 col6\" >0.000000</td>\n",
       "      <td id=\"T_3c3bf_row4_col7\" class=\"data row4 col7\" >0.000000</td>\n",
       "    </tr>\n",
       "    <tr>\n",
       "      <th id=\"T_3c3bf_level0_row5\" class=\"row_heading level0 row5\" >50%</th>\n",
       "      <td id=\"T_3c3bf_row5_col0\" class=\"data row5 col0\" >9.967760</td>\n",
       "      <td id=\"T_3c3bf_row5_col1\" class=\"data row5 col1\" >0.998650</td>\n",
       "      <td id=\"T_3c3bf_row5_col2\" class=\"data row5 col2\" >0.997717</td>\n",
       "      <td id=\"T_3c3bf_row5_col3\" class=\"data row5 col3\" >1.000000</td>\n",
       "      <td id=\"T_3c3bf_row5_col4\" class=\"data row5 col4\" >0.000000</td>\n",
       "      <td id=\"T_3c3bf_row5_col5\" class=\"data row5 col5\" >0.000000</td>\n",
       "      <td id=\"T_3c3bf_row5_col6\" class=\"data row5 col6\" >1.000000</td>\n",
       "      <td id=\"T_3c3bf_row5_col7\" class=\"data row5 col7\" >0.000000</td>\n",
       "    </tr>\n",
       "    <tr>\n",
       "      <th id=\"T_3c3bf_level0_row6\" class=\"row_heading level0 row6\" >75%</th>\n",
       "      <td id=\"T_3c3bf_row6_col0\" class=\"data row6 col0\" >25.743985</td>\n",
       "      <td id=\"T_3c3bf_row6_col1\" class=\"data row6 col1\" >3.355748</td>\n",
       "      <td id=\"T_3c3bf_row6_col2\" class=\"data row6 col2\" >2.096370</td>\n",
       "      <td id=\"T_3c3bf_row6_col3\" class=\"data row6 col3\" >1.000000</td>\n",
       "      <td id=\"T_3c3bf_row6_col4\" class=\"data row6 col4\" >1.000000</td>\n",
       "      <td id=\"T_3c3bf_row6_col5\" class=\"data row6 col5\" >0.000000</td>\n",
       "      <td id=\"T_3c3bf_row6_col6\" class=\"data row6 col6\" >1.000000</td>\n",
       "      <td id=\"T_3c3bf_row6_col7\" class=\"data row6 col7\" >0.000000</td>\n",
       "    </tr>\n",
       "    <tr>\n",
       "      <th id=\"T_3c3bf_level0_row7\" class=\"row_heading level0 row7\" >max</th>\n",
       "      <td id=\"T_3c3bf_row7_col0\" class=\"data row7 col0\" >10632.723672</td>\n",
       "      <td id=\"T_3c3bf_row7_col1\" class=\"data row7 col1\" >11851.104565</td>\n",
       "      <td id=\"T_3c3bf_row7_col2\" class=\"data row7 col2\" >267.802942</td>\n",
       "      <td id=\"T_3c3bf_row7_col3\" class=\"data row7 col3\" >1.000000</td>\n",
       "      <td id=\"T_3c3bf_row7_col4\" class=\"data row7 col4\" >1.000000</td>\n",
       "      <td id=\"T_3c3bf_row7_col5\" class=\"data row7 col5\" >1.000000</td>\n",
       "      <td id=\"T_3c3bf_row7_col6\" class=\"data row7 col6\" >1.000000</td>\n",
       "      <td id=\"T_3c3bf_row7_col7\" class=\"data row7 col7\" >1.000000</td>\n",
       "    </tr>\n",
       "  </tbody>\n",
       "</table>\n"
      ],
      "text/plain": [
       "<pandas.io.formats.style.Styler at 0x234161a1310>"
      ]
     },
     "execution_count": 5,
     "metadata": {},
     "output_type": "execute_result"
    }
   ],
   "source": [
    "df.describe().style.background_gradient(cmap = \"plasma\")"
   ]
  },
  {
   "cell_type": "code",
   "execution_count": 6,
   "id": "ece409fc",
   "metadata": {
    "scrolled": false
   },
   "outputs": [
    {
     "name": "stdout",
     "output_type": "stream",
     "text": [
      "<class 'pandas.core.frame.DataFrame'>\n",
      "RangeIndex: 1000000 entries, 0 to 999999\n",
      "Data columns (total 8 columns):\n",
      " #   Column                          Non-Null Count    Dtype  \n",
      "---  ------                          --------------    -----  \n",
      " 0   distance_from_home              1000000 non-null  float64\n",
      " 1   distance_from_last_transaction  1000000 non-null  float64\n",
      " 2   ratio_to_median_purchase_price  1000000 non-null  float64\n",
      " 3   repeat_retailer                 1000000 non-null  float64\n",
      " 4   used_chip                       1000000 non-null  float64\n",
      " 5   used_pin_number                 1000000 non-null  float64\n",
      " 6   online_order                    1000000 non-null  float64\n",
      " 7   fraud                           1000000 non-null  float64\n",
      "dtypes: float64(8)\n",
      "memory usage: 61.0 MB\n"
     ]
    }
   ],
   "source": [
    "df.info()"
   ]
  },
  {
   "cell_type": "code",
   "execution_count": 7,
   "id": "ea4a66e4",
   "metadata": {},
   "outputs": [
    {
     "data": {
      "text/plain": [
       "0"
      ]
     },
     "execution_count": 7,
     "metadata": {},
     "output_type": "execute_result"
    }
   ],
   "source": [
    "df.duplicated().sum()"
   ]
  },
  {
   "cell_type": "code",
   "execution_count": 8,
   "id": "ee94c40d",
   "metadata": {},
   "outputs": [
    {
     "data": {
      "text/plain": [
       "distance_from_home                float64\n",
       "distance_from_last_transaction    float64\n",
       "ratio_to_median_purchase_price    float64\n",
       "repeat_retailer                   float64\n",
       "used_chip                         float64\n",
       "used_pin_number                   float64\n",
       "online_order                      float64\n",
       "fraud                             float64\n",
       "dtype: object"
      ]
     },
     "execution_count": 8,
     "metadata": {},
     "output_type": "execute_result"
    }
   ],
   "source": [
    "df.dtypes"
   ]
  },
  {
   "cell_type": "markdown",
   "id": "d2153807",
   "metadata": {},
   "source": [
    "## Correlation Heatmap"
   ]
  },
  {
   "cell_type": "code",
   "execution_count": 9,
   "id": "fabc9d28",
   "metadata": {},
   "outputs": [
    {
     "data": {
      "text/plain": [
       "<AxesSubplot:>"
      ]
     },
     "execution_count": 9,
     "metadata": {},
     "output_type": "execute_result"
    },
    {
     "data": {
      "image/png": "[encoded data removed]",
      "text/plain": [
       "<Figure size 720x432 with 2 Axes>"
      ]
     },
     "metadata": {},
     "output_type": "display_data"
    }
   ],
   "source": [
    "corr = df.corr()\n",
    "\n",
    "sns.heatmap(corr, xticklabels = corr.columns, yticklabels = corr.columns, annot = True, cmap = \"GnBu\")"
   ]
  },
  {
   "cell_type": "code",
   "execution_count": 10,
   "id": "f05e1be6",
   "metadata": {},
   "outputs": [
    {
     "data": {
      "text/plain": [
       "fraud\n",
       "0.0    912597\n",
       "1.0     87403\n",
       "dtype: int64"
      ]
     },
     "execution_count": 10,
     "metadata": {},
     "output_type": "execute_result"
    },
    {
     "data": {
      "image/png": "[encoded data removed]",
      "text/plain": [
       "<Figure size 720x432 with 1 Axes>"
      ]
     },
     "metadata": {},
     "output_type": "display_data"
    }
   ],
   "source": [
    "# Class distribution\n",
    "# Real (class 0.0) meaning non-fraudulent transactions\n",
    "# Fraud (class 1.0) meaning fraudulent transactions\n",
    "df.value_counts(\"fraud\").plot.pie(autopct = \"%.1f\")\n",
    "df.value_counts(\"fraud\")"
   ]
  },
  {
   "cell_type": "code",
   "execution_count": 11,
   "id": "248e0fc7",
   "metadata": {},
   "outputs": [],
   "source": [
    "real = df[df[\"fraud\"] == 0]\n",
    "fraud = df[df[\"fraud\"] == 1]\n",
    "\n",
    "# Resampling the original dataset with 87,403 datapoints for both classes\n",
    "real_resample = real.sample(n = 87403, random_state = 123)\n",
    "fraud_resample = fraud.sample(n = 87403, random_state = 123)\n",
    "\n",
    "# Creating new dataset consisting of equal class occurence \n",
    "df0 = pd.concat([real_resample, fraud_resample], axis = 0)"
   ]
  },
  {
   "cell_type": "code",
   "execution_count": 12,
   "id": "c73a71b0",
   "metadata": {},
   "outputs": [
    {
     "data": {
      "text/plain": [
       "fraud\n",
       "0.0    87403\n",
       "1.0    87403\n",
       "dtype: int64"
      ]
     },
     "execution_count": 12,
     "metadata": {},
     "output_type": "execute_result"
    },
    {
     "data": {
      "image/png": "[encoded data removed]",
      "text/plain": [
       "<Figure size 720x432 with 1 Axes>"
      ]
     },
     "metadata": {},
     "output_type": "display_data"
    }
   ],
   "source": [
    "df0.value_counts(\"fraud\").plot.pie(autopct = \"%.1f\")\n",
    "df0.value_counts(\"fraud\")"
   ]
  },
  {
   "cell_type": "code",
   "execution_count": 13,
   "id": "9e650f93",
   "metadata": {},
   "outputs": [],
   "source": [
    "X = np.array(df0.drop(columns = \"fraud\"))\n",
    "y = np.array(df0[\"fraud\"])"
   ]
  },
  {
   "cell_type": "code",
   "execution_count": 14,
   "id": "fc015a97",
   "metadata": {},
   "outputs": [],
   "source": [
    "# Creating Train Test Split\n",
    "X_train, X_test, y_train, y_test = model_selection.train_test_split(X, y, test_size = 0.2, random_state = 123, shuffle = True)"
   ]
  },
  {
   "cell_type": "code",
   "execution_count": 15,
   "id": "95682c22",
   "metadata": {},
   "outputs": [],
   "source": [
    "# Data scaling to produce good results\n",
    "scale = MinMaxScaler()\n",
    "X_train = scale.fit_transform(X_train)\n",
    "X_test = scale.transform(X_test)"
   ]
  },
  {
   "cell_type": "markdown",
   "id": "751f1388",
   "metadata": {},
   "source": [
    "## K-Nearest Neighbour Classification"
   ]
  },
  {
   "cell_type": "code",
   "execution_count": 16,
   "id": "3692ab9c",
   "metadata": {},
   "outputs": [],
   "source": [
    "# Kai Hao"
   ]
  },
  {
   "cell_type": "markdown",
   "id": "bbbc1ed6",
   "metadata": {},
   "source": [
    "## Naive Bayes"
   ]
  },
  {
   "cell_type": "code",
   "execution_count": 17,
   "id": "d3d92291",
   "metadata": {},
   "outputs": [],
   "source": [
    "# Yee Woo"
   ]
  },
  {
   "cell_type": "markdown",
   "id": "5fac7854",
   "metadata": {},
   "source": [
    "##  Decision Tree Classifier"
   ]
  },
  {
   "cell_type": "code",
   "execution_count": 18,
   "id": "2a3151f2",
   "metadata": {},
   "outputs": [],
   "source": [
    "\n",
    "dt = DecisionTreeClassifier(random_state = 5)  \n",
    "dt.fit(X_train, y_train) \n",
    "y_pred = dt.predict(X_test)"
   ]
  },
  {
   "cell_type": "code",
   "execution_count": 19,
   "id": "e43a16ad",
   "metadata": {},
   "outputs": [
    {
     "data": {
      "text/plain": [
       "array([[17500,     2],\n",
       "       [    0, 17460]], dtype=int64)"
      ]
     },
     "execution_count": 19,
     "metadata": {},
     "output_type": "execute_result"
    }
   ],
   "source": [
    "cm = confusion_matrix(y_test, y_pred)\n",
    "cm"
   ]
  },
  {
   "cell_type": "code",
   "execution_count": 20,
   "id": "cded8e96",
   "metadata": {},
   "outputs": [
    {
     "data": {
      "text/plain": [
       "0.9998854655824075"
      ]
     },
     "execution_count": 20,
     "metadata": {},
     "output_type": "execute_result"
    }
   ],
   "source": [
    "precision_score(y_test, y_pred)"
   ]
  },
  {
   "cell_type": "code",
   "execution_count": 21,
   "id": "2c8f9236",
   "metadata": {},
   "outputs": [
    {
     "data": {
      "text/plain": [
       "Text(84.5, 0.5, 'Truth')"
      ]
     },
     "execution_count": 21,
     "metadata": {},
     "output_type": "execute_result"
    },
    {
     "data": {
      "image/png": "[encoded data removed]",
      "text/plain": [
       "<Figure size 864x432 with 2 Axes>"
      ]
     },
     "metadata": {},
     "output_type": "display_data"
    }
   ],
   "source": [
    "plt.figure(figsize = (12, 6))\n",
    "\n",
    "sns.heatmap(cm, annot = True, cmap = \"hot\")\n",
    "plt.xlabel(\"Predicted\")\n",
    "plt.ylabel(\"Truth\")"
   ]
  },
  {
   "cell_type": "code",
   "execution_count": 22,
   "id": "3337ce46",
   "metadata": {},
   "outputs": [
    {
     "name": "stdout",
     "output_type": "stream",
     "text": [
      "DT Accuracy: 0.999942795034609\n",
      "              precision    recall  f1-score   support\n",
      "\n",
      "         0.0       1.00      1.00      1.00     17502\n",
      "         1.0       1.00      1.00      1.00     17460\n",
      "\n",
      "    accuracy                           1.00     34962\n",
      "   macro avg       1.00      1.00      1.00     34962\n",
      "weighted avg       1.00      1.00      1.00     34962\n",
      "\n"
     ]
    }
   ],
   "source": [
    "accuracy = dt.score(X_test, y_test)\n",
    "print(\"DT Accuracy:\",accuracy)\n",
    "print(classification_report(y_test, y_pred))"
   ]
  },
  {
   "cell_type": "markdown",
   "id": "4ecfae09",
   "metadata": {},
   "source": [
    "## Random Forest Classifier"
   ]
  },
  {
   "cell_type": "code",
   "execution_count": 23,
   "id": "115a167c",
   "metadata": {},
   "outputs": [],
   "source": [
    "# Kelvin\n",
    "rf = RandomForestClassifier(random_state = 5)\n",
    "rf.fit(X_train, y_train)\n",
    "y_pred = rf.predict(X_test)"
   ]
  },
  {
   "cell_type": "code",
   "execution_count": 24,
   "id": "c1b50171",
   "metadata": {},
   "outputs": [
    {
     "data": {
      "text/plain": [
       "array([[17500,     2],\n",
       "       [    0, 17460]], dtype=int64)"
      ]
     },
     "execution_count": 24,
     "metadata": {},
     "output_type": "execute_result"
    }
   ],
   "source": [
    "cm = confusion_matrix(y_test, y_pred)\n",
    "cm"
   ]
  },
  {
   "cell_type": "code",
   "execution_count": 25,
   "id": "c5796c83",
   "metadata": {},
   "outputs": [
    {
     "data": {
      "text/plain": [
       "0.9998854655824075"
      ]
     },
     "execution_count": 25,
     "metadata": {},
     "output_type": "execute_result"
    }
   ],
   "source": [
    "precision_score(y_test, y_pred)"
   ]
  },
  {
   "cell_type": "code",
   "execution_count": 26,
   "id": "ad781786",
   "metadata": {},
   "outputs": [
    {
     "data": {
      "text/plain": [
       "Text(84.5, 0.5, 'Truth')"
      ]
     },
     "execution_count": 26,
     "metadata": {},
     "output_type": "execute_result"
    },
    {
     "data": {
      "image/png": "[encoded data removed]",
      "text/plain": [
       "<Figure size 864x432 with 2 Axes>"
      ]
     },
     "metadata": {},
     "output_type": "display_data"
    }
   ],
   "source": [
    "plt.figure(figsize = (12, 6))\n",
    "\n",
    "sns.heatmap(cm, annot = True, cmap = \"hot\")\n",
    "plt.xlabel(\"Predicted\")\n",
    "plt.ylabel(\"Truth\")"
   ]
  },
  {
   "cell_type": "code",
   "execution_count": 27,
   "id": "28030ac9",
   "metadata": {},
   "outputs": [
    {
     "name": "stdout",
     "output_type": "stream",
     "text": [
      "RF Accuracy: 0.999942795034609\n",
      "              precision    recall  f1-score   support\n",
      "\n",
      "         0.0       1.00      1.00      1.00     17502\n",
      "         1.0       1.00      1.00      1.00     17460\n",
      "\n",
      "    accuracy                           1.00     34962\n",
      "   macro avg       1.00      1.00      1.00     34962\n",
      "weighted avg       1.00      1.00      1.00     34962\n",
      "\n"
     ]
    }
   ],
   "source": [
    "accuracy = rf.score(X_test, y_test)\n",
    "print(\"RF Accuracy:\",accuracy)\n",
    "print(classification_report(y_test, y_pred))"
   ]
  },
  {
   "cell_type": "markdown",
   "id": "f9b33f0d",
   "metadata": {},
   "source": [
    "##  Deployment"
   ]
  },
  {
   "cell_type": "markdown",
   "id": "67797809",
   "metadata": {},
   "source": [
    "#### Check which model have higher accuracy score"
   ]
  },
  {
   "cell_type": "code",
   "execution_count": null,
   "id": "9da9eb2d",
   "metadata": {},
   "outputs": [],
   "source": []
  }
 ],
 "metadata": {
  "kernelspec": {
   "display_name": "Python 3 (ipykernel)",
   "language": "python",
   "name": "python3"
  },
  "language_info": {
   "codemirror_mode": {
    "name": "ipython",
    "version": 3
   },
   "file_extension": ".py",
   "mimetype": "text/x-python",
   "name": "python",
   "nbconvert_exporter": "python",
   "pygments_lexer": "ipython3",
   "version": "3.9.7"
  },
  "vscode": {
   "interpreter": {
    "hash": "58837b1b657ea91009af8409fc244ae3b5ccf93ea980d6fb6b80adc5f697f4cc"
   }
  }
 },
 "nbformat": 4,
 "nbformat_minor": 5
}
