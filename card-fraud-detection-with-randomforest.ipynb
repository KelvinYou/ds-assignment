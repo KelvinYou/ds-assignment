{
 "cells": [
  {
   "cell_type": "markdown",
   "id": "bc445ba1",
   "metadata": {
    "papermill": {
     "duration": 0.004885,
     "end_time": "2022-06-12T10:50:03.481407",
     "exception": false,
     "start_time": "2022-06-12T10:50:03.476522",
     "status": "completed"
    },
    "tags": []
   },
   "source": [
    "# About the data\n",
    "\n",
    "Features Explanation:\n",
    "* distancefromhome, numeric - the distance from home where the transaction happened.\n",
    "* distancefromlast_transaction, numeric - the distance from last transaction happened.\n",
    "* ratiotomedianpurchaseprice, numeric - Ratio of purchased price transaction to median purchase price.\n",
    "* repeat_retailer, binary - Is the transaction happened from same retailer.\n",
    "* used_chip, binary - Is the transaction through chip (credit card).\n",
    "* used_pin_number, binary - Is the transaction happened by using PIN number.\n",
    "* online_order, binary - Is the transaction an online order.\n",
    "* fraud, binary - Is the transaction fraudulent."
   ]
  },
  {
   "cell_type": "code",
   "execution_count": 2,
   "id": "a692fe03",
   "metadata": {
    "_cell_guid": "b1076dfc-b9ad-4769-8c92-a6c4dae69d19",
    "_uuid": "8f2839f25d086af736a60e9eeb907d3b93b6e0e5",
    "execution": {
     "iopub.execute_input": "2022-06-12T10:50:03.493232Z",
     "iopub.status.busy": "2022-06-12T10:50:03.492793Z",
     "iopub.status.idle": "2022-06-12T10:50:06.487267Z",
     "shell.execute_reply": "2022-06-12T10:50:06.486179Z"
    },
    "papermill": {
     "duration": 3.003296,
     "end_time": "2022-06-12T10:50:06.491088",
     "exception": false,
     "start_time": "2022-06-12T10:50:03.487792",
     "status": "completed"
    },
    "tags": []
   },
   "outputs": [
    {
     "data": {
      "text/html": [
       "<div>\n",
       "<style scoped>\n",
       "    .dataframe tbody tr th:only-of-type {\n",
       "        vertical-align: middle;\n",
       "    }\n",
       "\n",
       "    .dataframe tbody tr th {\n",
       "        vertical-align: top;\n",
       "    }\n",
       "\n",
       "    .dataframe thead th {\n",
       "        text-align: right;\n",
       "    }\n",
       "</style>\n",
       "<table border=\"1\" class=\"dataframe\">\n",
       "  <thead>\n",
       "    <tr style=\"text-align: right;\">\n",
       "      <th></th>\n",
       "      <th>distance_from_home</th>\n",
       "      <th>distance_from_last_transaction</th>\n",
       "      <th>ratio_to_median_purchase_price</th>\n",
       "      <th>repeat_retailer</th>\n",
       "      <th>used_chip</th>\n",
       "      <th>used_pin_number</th>\n",
       "      <th>online_order</th>\n",
       "      <th>fraud</th>\n",
       "    </tr>\n",
       "  </thead>\n",
       "  <tbody>\n",
       "    <tr>\n",
       "      <th>0</th>\n",
       "      <td>57.877857</td>\n",
       "      <td>0.311140</td>\n",
       "      <td>1.945940</td>\n",
       "      <td>1.0</td>\n",
       "      <td>1.0</td>\n",
       "      <td>0.0</td>\n",
       "      <td>0.0</td>\n",
       "      <td>0.0</td>\n",
       "    </tr>\n",
       "    <tr>\n",
       "      <th>1</th>\n",
       "      <td>10.829943</td>\n",
       "      <td>0.175592</td>\n",
       "      <td>1.294219</td>\n",
       "      <td>1.0</td>\n",
       "      <td>0.0</td>\n",
       "      <td>0.0</td>\n",
       "      <td>0.0</td>\n",
       "      <td>0.0</td>\n",
       "    </tr>\n",
       "    <tr>\n",
       "      <th>2</th>\n",
       "      <td>5.091079</td>\n",
       "      <td>0.805153</td>\n",
       "      <td>0.427715</td>\n",
       "      <td>1.0</td>\n",
       "      <td>0.0</td>\n",
       "      <td>0.0</td>\n",
       "      <td>1.0</td>\n",
       "      <td>0.0</td>\n",
       "    </tr>\n",
       "    <tr>\n",
       "      <th>3</th>\n",
       "      <td>2.247564</td>\n",
       "      <td>5.600044</td>\n",
       "      <td>0.362663</td>\n",
       "      <td>1.0</td>\n",
       "      <td>1.0</td>\n",
       "      <td>0.0</td>\n",
       "      <td>1.0</td>\n",
       "      <td>0.0</td>\n",
       "    </tr>\n",
       "    <tr>\n",
       "      <th>4</th>\n",
       "      <td>44.190936</td>\n",
       "      <td>0.566486</td>\n",
       "      <td>2.222767</td>\n",
       "      <td>1.0</td>\n",
       "      <td>1.0</td>\n",
       "      <td>0.0</td>\n",
       "      <td>1.0</td>\n",
       "      <td>0.0</td>\n",
       "    </tr>\n",
       "  </tbody>\n",
       "</table>\n",
       "</div>"
      ],
      "text/plain": [
       "   distance_from_home  distance_from_last_transaction  \\\n",
       "0           57.877857                        0.311140   \n",
       "1           10.829943                        0.175592   \n",
       "2            5.091079                        0.805153   \n",
       "3            2.247564                        5.600044   \n",
       "4           44.190936                        0.566486   \n",
       "\n",
       "   ratio_to_median_purchase_price  repeat_retailer  used_chip  \\\n",
       "0                        1.945940              1.0        1.0   \n",
       "1                        1.294219              1.0        0.0   \n",
       "2                        0.427715              1.0        0.0   \n",
       "3                        0.362663              1.0        1.0   \n",
       "4                        2.222767              1.0        1.0   \n",
       "\n",
       "   used_pin_number  online_order  fraud  \n",
       "0              0.0           0.0    0.0  \n",
       "1              0.0           0.0    0.0  \n",
       "2              0.0           1.0    0.0  \n",
       "3              0.0           1.0    0.0  \n",
       "4              0.0           1.0    0.0  "
      ]
     },
     "execution_count": 2,
     "metadata": {},
     "output_type": "execute_result"
    }
   ],
   "source": [
    "import numpy as np\n",
    "import pandas as pd\n",
    "import seaborn as sns\n",
    "import matplotlib.pyplot as plt\n",
    "from sklearn.model_selection import train_test_split\n",
    "import time\n",
    "\n",
    "data_path = 'card_transdata.csv'\n",
    "data = pd.read_csv(data_path)\n",
    "n = data.shape[0]\n",
    "data.head()"
   ]
  },
  {
   "cell_type": "code",
   "execution_count": null,
   "id": "a339e205",
   "metadata": {
    "execution": {
     "iopub.execute_input": "2022-06-12T10:50:06.502679Z",
     "iopub.status.busy": "2022-06-12T10:50:06.501975Z",
     "iopub.status.idle": "2022-06-12T10:50:06.549917Z",
     "shell.execute_reply": "2022-06-12T10:50:06.548920Z"
    },
    "papermill": {
     "duration": 0.055929,
     "end_time": "2022-06-12T10:50:06.551946",
     "exception": false,
     "start_time": "2022-06-12T10:50:06.496017",
     "status": "completed"
    },
    "tags": []
   },
   "outputs": [],
   "source": [
    "data.info()"
   ]
  },
  {
   "cell_type": "code",
   "execution_count": null,
   "id": "4d54cf2a",
   "metadata": {
    "execution": {
     "iopub.execute_input": "2022-06-12T10:50:06.562246Z",
     "iopub.status.busy": "2022-06-12T10:50:06.561714Z",
     "iopub.status.idle": "2022-06-12T10:50:06.983091Z",
     "shell.execute_reply": "2022-06-12T10:50:06.982076Z"
    },
    "papermill": {
     "duration": 0.428827,
     "end_time": "2022-06-12T10:50:06.985000",
     "exception": false,
     "start_time": "2022-06-12T10:50:06.556173",
     "status": "completed"
    },
    "tags": []
   },
   "outputs": [],
   "source": [
    "data.describe()"
   ]
  },
  {
   "cell_type": "code",
   "execution_count": null,
   "id": "8cd1a581",
   "metadata": {
    "execution": {
     "iopub.execute_input": "2022-06-12T10:50:06.995651Z",
     "iopub.status.busy": "2022-06-12T10:50:06.995196Z",
     "iopub.status.idle": "2022-06-12T10:50:08.429667Z",
     "shell.execute_reply": "2022-06-12T10:50:08.428677Z"
    },
    "papermill": {
     "duration": 1.442207,
     "end_time": "2022-06-12T10:50:08.431665",
     "exception": false,
     "start_time": "2022-06-12T10:50:06.989458",
     "status": "completed"
    },
    "tags": []
   },
   "outputs": [],
   "source": [
    "# Data distribution\n",
    "for col in ['repeat_retailer','used_chip','used_pin_number','online_order']:\n",
    "    sns.countplot(data=data,x=col,hue='fraud')\n",
    "    plt.show()"
   ]
  },
  {
   "cell_type": "code",
   "execution_count": null,
   "id": "080f51b4",
   "metadata": {
    "execution": {
     "iopub.execute_input": "2022-06-12T10:50:08.444514Z",
     "iopub.status.busy": "2022-06-12T10:50:08.444122Z",
     "iopub.status.idle": "2022-06-12T10:50:08.460401Z",
     "shell.execute_reply": "2022-06-12T10:50:08.459396Z"
    },
    "papermill": {
     "duration": 0.025223,
     "end_time": "2022-06-12T10:50:08.462516",
     "exception": false,
     "start_time": "2022-06-12T10:50:08.437293",
     "status": "completed"
    },
    "tags": []
   },
   "outputs": [],
   "source": [
    "# Unbalanced data\n",
    "print('Percentage of fraud in whole dataset:', 100*data.loc[data.fraud==1].shape[0]/n)"
   ]
  },
  {
   "cell_type": "markdown",
   "id": "e7875c8c",
   "metadata": {
    "papermill": {
     "duration": 0.005216,
     "end_time": "2022-06-12T10:50:08.473275",
     "exception": false,
     "start_time": "2022-06-12T10:50:08.468059",
     "status": "completed"
    },
    "tags": []
   },
   "source": [
    "Notes from barplots:\n",
    "* transaction happened with PIN number are not subject to fraud\n",
    "* most of the fraud have been done over online orders"
   ]
  },
  {
   "cell_type": "code",
   "execution_count": null,
   "id": "f0ce6fd0",
   "metadata": {
    "execution": {
     "iopub.execute_input": "2022-06-12T10:50:08.487147Z",
     "iopub.status.busy": "2022-06-12T10:50:08.486260Z",
     "iopub.status.idle": "2022-06-12T10:50:08.540880Z",
     "shell.execute_reply": "2022-06-12T10:50:08.539858Z"
    },
    "papermill": {
     "duration": 0.063914,
     "end_time": "2022-06-12T10:50:08.543050",
     "exception": false,
     "start_time": "2022-06-12T10:50:08.479136",
     "status": "completed"
    },
    "tags": []
   },
   "outputs": [],
   "source": [
    "print('Percentage of fraud not using PIN:',\n",
    "      100*data.loc[(data.fraud==1) & (data.used_pin_number==0)].shape[0]/data.loc[data.fraud==1].shape[0])\n",
    "print('Percentage of fraud in online orders:',\n",
    "      100*data.loc[(data.fraud==1) & (data.online_order==1)].shape[0]/data.loc[data.fraud==1].shape[0])"
   ]
  },
  {
   "cell_type": "markdown",
   "id": "0c197ada",
   "metadata": {
    "papermill": {
     "duration": 0.005365,
     "end_time": "2022-06-12T10:50:08.553861",
     "exception": false,
     "start_time": "2022-06-12T10:50:08.548496",
     "status": "completed"
    },
    "tags": []
   },
   "source": [
    "Since target data are unbalanced we will set as our baseline an unsophisticated  model that marks fraudolent every online transaction as it makes much more sense than considering wether the transaction occurred using PIN, even though it seem to have a higher impact on the target with these data."
   ]
  },
  {
   "cell_type": "code",
   "execution_count": null,
   "id": "f24f201c",
   "metadata": {
    "execution": {
     "iopub.execute_input": "2022-06-12T10:50:08.566369Z",
     "iopub.status.busy": "2022-06-12T10:50:08.565389Z",
     "iopub.status.idle": "2022-06-12T10:50:09.109470Z",
     "shell.execute_reply": "2022-06-12T10:50:09.108497Z"
    },
    "papermill": {
     "duration": 0.552566,
     "end_time": "2022-06-12T10:50:09.111612",
     "exception": false,
     "start_time": "2022-06-12T10:50:08.559046",
     "status": "completed"
    },
    "tags": []
   },
   "outputs": [],
   "source": [
    "# correlation heatmap\n",
    "corr = data.corr()\n",
    "sns.heatmap(data=corr, annot=True, mask=np.triu(corr)|(np.abs(corr)<0.01))"
   ]
  },
  {
   "cell_type": "markdown",
   "id": "ac8175fd",
   "metadata": {
    "papermill": {
     "duration": 0.005596,
     "end_time": "2022-06-12T10:50:09.123213",
     "exception": false,
     "start_time": "2022-06-12T10:50:09.117617",
     "status": "completed"
    },
    "tags": []
   },
   "source": [
    "# Preprocessing and Hyperparameter Tuning"
   ]
  },
  {
   "cell_type": "code",
   "execution_count": null,
   "id": "92f9b472",
   "metadata": {
    "_kg_hide-input": true,
    "execution": {
     "iopub.execute_input": "2022-06-12T10:50:09.137154Z",
     "iopub.status.busy": "2022-06-12T10:50:09.136151Z",
     "iopub.status.idle": "2022-06-12T10:50:09.737076Z",
     "shell.execute_reply": "2022-06-12T10:50:09.735946Z"
    },
    "papermill": {
     "duration": 0.61075,
     "end_time": "2022-06-12T10:50:09.739831",
     "exception": false,
     "start_time": "2022-06-12T10:50:09.129081",
     "status": "completed"
    },
    "tags": []
   },
   "outputs": [],
   "source": [
    "# Preprocessing and Splitting\n",
    "from sklearn.preprocessing import MinMaxScaler\n",
    "from sklearn.ensemble import RandomForestClassifier\n",
    "\n",
    "X_sc = data.copy()\n",
    "features_names = data.columns.tolist()\n",
    "features_names.remove('fraud')\n",
    "MMsc = MinMaxScaler()\n",
    "X_sc[features_names] = MMsc.fit_transform(data[features_names])\n",
    "\n",
    "y_sc = X_sc.pop('fraud')\n",
    "X_train, X_test, y_train, y_test = train_test_split(X_sc,y_sc, test_size=0.2)"
   ]
  },
  {
   "cell_type": "code",
   "execution_count": null,
   "id": "214d966d",
   "metadata": {
    "_kg_hide-input": false,
    "execution": {
     "iopub.execute_input": "2022-06-12T10:50:09.753873Z",
     "iopub.status.busy": "2022-06-12T10:50:09.752987Z",
     "iopub.status.idle": "2022-06-12T10:50:09.757264Z",
     "shell.execute_reply": "2022-06-12T10:50:09.756633Z"
    },
    "papermill": {
     "duration": 0.013371,
     "end_time": "2022-06-12T10:50:09.759201",
     "exception": false,
     "start_time": "2022-06-12T10:50:09.745830",
     "status": "completed"
    },
    "tags": []
   },
   "outputs": [],
   "source": [
    "# Random Forest Classifier Tuning (Commented to run faster)\n",
    "# from sklearn.model_selection import GridSearchCV\n",
    "# n_estimators_range = range(3,8)\n",
    "# max_depth_range = range(3,13,3)\n",
    "# param_grid ={'n_estimators': n_estimators_range, 'max_depth': max_depth_range,\n",
    "#              'random_state': [5]}\n",
    "\n",
    "# start_time = time.time()\n",
    "\n",
    "# rfc_grid = GridSearchCV(estimator=RandomForestClassifier(),\n",
    "#              param_grid=param_grid, scoring='accuracy',)\n",
    "# rfc_grid.fit(X_train,y_train)\n",
    "\n",
    "# elapsed_time = time.time()-start_time\n",
    "\n",
    "# print('RFC tuning time: ', elapsed_time)\n",
    "# print('Best score obtained with RFC: '+str(rfc_grid.best_score_))\n",
    "# print('by setting',rfc_grid.best_params_)\n",
    "\n",
    "# results = rfc_grid.cv_results_\n",
    "# fig = plt.figure()\n",
    "# ax = fig.add_subplot(projection='3d')\n",
    "\n",
    "# x = results['param_max_depth']\n",
    "# y = results['param_n_estimators']\n",
    "# z = results['mean_test_score']\n",
    "# ax.scatter(x, y, z)\n",
    "# ax.set_xlabel('max_depth')\n",
    "# ax.set_ylabel('n_estimators')\n",
    "# ax.set_zlabel('mean_test_score')"
   ]
  },
  {
   "cell_type": "markdown",
   "id": "33310d23",
   "metadata": {
    "papermill": {
     "duration": 0.005828,
     "end_time": "2022-06-12T10:50:09.771246",
     "exception": false,
     "start_time": "2022-06-12T10:50:09.765418",
     "status": "completed"
    },
    "tags": []
   },
   "source": [
    "# Model Evaluation and Features Importances"
   ]
  },
  {
   "cell_type": "code",
   "execution_count": null,
   "id": "89f89c93",
   "metadata": {
    "execution": {
     "iopub.execute_input": "2022-06-12T10:50:09.785535Z",
     "iopub.status.busy": "2022-06-12T10:50:09.784991Z",
     "iopub.status.idle": "2022-06-12T10:50:13.984625Z",
     "shell.execute_reply": "2022-06-12T10:50:13.983668Z"
    },
    "papermill": {
     "duration": 4.209083,
     "end_time": "2022-06-12T10:50:13.986780",
     "exception": false,
     "start_time": "2022-06-12T10:50:09.777697",
     "status": "completed"
    },
    "tags": []
   },
   "outputs": [],
   "source": [
    "#Run RFC and evaluate model on test set\n",
    "from sklearn.metrics import confusion_matrix, ConfusionMatrixDisplay, classification_report\n",
    "\n",
    "rfc = RandomForestClassifier(n_estimators=5, max_depth=12, random_state=5)\n",
    "rfc.fit(X_train,y_train)\n",
    "y_rfc = rfc.predict(X_test)\n",
    "cm = confusion_matrix(y_true=y_test, y_pred=y_rfc)\n",
    "ConfusionMatrixDisplay(cm).plot(cmap='Blues', colorbar=False)\n",
    "plt.title('RFC Confusion Matrix')\n",
    "plt.show()\n",
    "\n",
    "report = pd.DataFrame(data=classification_report(\n",
    "    y_true=y_test, y_pred=y_rfc, output_dict=True))\n",
    "report"
   ]
  },
  {
   "cell_type": "markdown",
   "id": "67164536",
   "metadata": {
    "papermill": {
     "duration": 0.006047,
     "end_time": "2022-06-12T10:50:13.999467",
     "exception": false,
     "start_time": "2022-06-12T10:50:13.993420",
     "status": "completed"
    },
    "tags": []
   },
   "source": [
    "Now that we have built our model and ensured it has an almost perfect prediction power we focus on the interpretability of our model. We will look at features importances in the RandomForestClassifier used for classification and then look at how the base estimator in the forest combined them in order to get to its results (we suggest to download the decision path to take a closer look)."
   ]
  },
  {
   "cell_type": "code",
   "execution_count": null,
   "id": "cf028b5b",
   "metadata": {
    "execution": {
     "iopub.execute_input": "2022-06-12T10:50:14.014257Z",
     "iopub.status.busy": "2022-06-12T10:50:14.013455Z",
     "iopub.status.idle": "2022-06-12T10:50:14.187770Z",
     "shell.execute_reply": "2022-06-12T10:50:14.186634Z"
    },
    "papermill": {
     "duration": 0.184783,
     "end_time": "2022-06-12T10:50:14.190702",
     "exception": false,
     "start_time": "2022-06-12T10:50:14.005919",
     "status": "completed"
    },
    "tags": []
   },
   "outputs": [],
   "source": [
    "#Feature importances\n",
    "importances = rfc.feature_importances_\n",
    "std = np.std([tree.feature_importances_ for tree in rfc.estimators_], axis=0)\n",
    "rfc_importances = pd.Series(importances, index=X_train.columns).sort_values(ascending=False)\n",
    "\n",
    "fig, ax = plt.subplots()\n",
    "rfc_importances.plot.bar(yerr=std, ax=ax)\n",
    "ax.set_title(\"Feature importances using MDI\") #Minimum decrease in impurity\n",
    "ax.set_ylabel(\"Mean decrease in impurity\")\n",
    "plt.show()\n",
    "\n",
    "print('Mean features importance')\n",
    "for feature in rfc_importances.index:\n",
    "    print(feature+': '+str(rfc_importances[feature]))"
   ]
  },
  {
   "cell_type": "code",
   "execution_count": null,
   "id": "4ba134a8",
   "metadata": {
    "execution": {
     "iopub.execute_input": "2022-06-12T10:50:14.207217Z",
     "iopub.status.busy": "2022-06-12T10:50:14.206616Z",
     "iopub.status.idle": "2022-06-12T10:50:17.328880Z",
     "shell.execute_reply": "2022-06-12T10:50:17.327596Z"
    },
    "papermill": {
     "duration": 3.133741,
     "end_time": "2022-06-12T10:50:17.332340",
     "exception": false,
     "start_time": "2022-06-12T10:50:14.198599",
     "status": "completed"
    },
    "tags": []
   },
   "outputs": [],
   "source": [
    "from sklearn import tree\n",
    "import graphviz\n",
    "\n",
    "base_tree = rfc.base_estimator_\n",
    "base_tree.fit(X_train,y_train)\n",
    "\n",
    "dot_data = tree.export_graphviz(base_tree, out_file=None)\n",
    "graph = graphviz.Source(dot_data) \n",
    "graph.render(\"card fraud\")\n",
    "\n",
    "dot_data = tree.export_graphviz(base_tree, out_file=None, \n",
    "                                feature_names=X_train.columns,  \n",
    "                                class_names=y_train.name,  \n",
    "                                filled=True, rounded=True,  \n",
    "                                special_characters=True)\n",
    "graph = graphviz.Source(dot_data)\n",
    "graph"
   ]
  }
 ],
 "metadata": {
  "kernelspec": {
   "display_name": "Python 3 (ipykernel)",
   "language": "python",
   "name": "python3"
  },
  "language_info": {
   "codemirror_mode": {
    "name": "ipython",
    "version": 3
   },
   "file_extension": ".py",
   "mimetype": "text/x-python",
   "name": "python",
   "nbconvert_exporter": "python",
   "pygments_lexer": "ipython3",
   "version": "3.9.7"
  },
  "papermill": {
   "default_parameters": {},
   "duration": 23.50737,
   "end_time": "2022-06-12T10:50:18.164394",
   "environment_variables": {},
   "exception": null,
   "input_path": "__notebook__.ipynb",
   "output_path": "__notebook__.ipynb",
   "parameters": {},
   "start_time": "2022-06-12T10:49:54.657024",
   "version": "2.3.4"
  }
 },
 "nbformat": 4,
 "nbformat_minor": 5
}
