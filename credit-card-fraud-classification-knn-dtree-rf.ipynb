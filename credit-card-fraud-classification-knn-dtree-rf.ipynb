{
 "cells": [
  {
   "cell_type": "code",
   "execution_count": 1,
   "id": "e1b0f5bb",
   "metadata": {
    "_cell_guid": "b1076dfc-b9ad-4769-8c92-a6c4dae69d19",
    "_uuid": "8f2839f25d086af736a60e9eeb907d3b93b6e0e5",
    "execution": {
     "iopub.execute_input": "2022-06-12T01:02:03.287074Z",
     "iopub.status.busy": "2022-06-12T01:02:03.286428Z",
     "iopub.status.idle": "2022-06-12T01:02:04.794744Z",
     "shell.execute_reply": "2022-06-12T01:02:04.793747Z"
    },
    "papermill": {
     "duration": 1.523973,
     "end_time": "2022-06-12T01:02:04.798154",
     "exception": false,
     "start_time": "2022-06-12T01:02:03.274181",
     "status": "completed"
    },
    "tags": []
   },
   "outputs": [],
   "source": [
    "import numpy as np # linear algebra\n",
    "import pandas as pd # data processing, CSV file I/O (e.g. pd.read_csv)\n",
    "from sklearn import preprocessing, model_selection, neighbors\n",
    "from sklearn.preprocessing import MinMaxScaler, StandardScaler\n",
    "from sklearn.ensemble import RandomForestClassifier\n",
    "from sklearn.tree import DecisionTreeClassifier\n",
    "from sklearn.metrics import classification_report, accuracy_score, confusion_matrix, precision_score\n",
    "import matplotlib.pyplot as plt\n",
    "import seaborn as sns\n",
    "import os\n",
    "\n",
    "sns.set(rc = {\"figure.figsize\":(10, 6)}) #graph size\n",
    "\n",
    "for dirname, _, filenames in os.walk('/kaggle/input'):\n",
    "    for filename in filenames:\n",
    "        print(os.path.join(dirname, filename))"
   ]
  },
  {
   "cell_type": "code",
   "execution_count": 2,
   "id": "00bb4897",
   "metadata": {
    "execution": {
     "iopub.execute_input": "2022-06-12T01:02:04.821841Z",
     "iopub.status.busy": "2022-06-12T01:02:04.821031Z",
     "iopub.status.idle": "2022-06-12T01:02:06.662728Z",
     "shell.execute_reply": "2022-06-12T01:02:06.661742Z"
    },
    "papermill": {
     "duration": 1.856019,
     "end_time": "2022-06-12T01:02:06.665322",
     "exception": false,
     "start_time": "2022-06-12T01:02:04.809303",
     "status": "completed"
    },
    "tags": []
   },
   "outputs": [],
   "source": [
    "df = pd.read_csv(\"card_transdata.csv\")"
   ]
  },
  {
   "cell_type": "code",
   "execution_count": 3,
   "id": "9a558de7",
   "metadata": {
    "execution": {
     "iopub.execute_input": "2022-06-12T01:02:06.686224Z",
     "iopub.status.busy": "2022-06-12T01:02:06.685825Z",
     "iopub.status.idle": "2022-06-12T01:02:06.710039Z",
     "shell.execute_reply": "2022-06-12T01:02:06.708966Z"
    },
    "papermill": {
     "duration": 0.037135,
     "end_time": "2022-06-12T01:02:06.712130",
     "exception": false,
     "start_time": "2022-06-12T01:02:06.674995",
     "status": "completed"
    },
    "tags": []
   },
   "outputs": [
    {
     "data": {
      "text/html": [
       "<div>\n",
       "<style scoped>\n",
       "    .dataframe tbody tr th:only-of-type {\n",
       "        vertical-align: middle;\n",
       "    }\n",
       "\n",
       "    .dataframe tbody tr th {\n",
       "        vertical-align: top;\n",
       "    }\n",
       "\n",
       "    .dataframe thead th {\n",
       "        text-align: right;\n",
       "    }\n",
       "</style>\n",
       "<table border=\"1\" class=\"dataframe\">\n",
       "  <thead>\n",
       "    <tr style=\"text-align: right;\">\n",
       "      <th></th>\n",
       "      <th>distance_from_home</th>\n",
       "      <th>distance_from_last_transaction</th>\n",
       "      <th>ratio_to_median_purchase_price</th>\n",
       "      <th>repeat_retailer</th>\n",
       "      <th>used_chip</th>\n",
       "      <th>used_pin_number</th>\n",
       "      <th>online_order</th>\n",
       "      <th>fraud</th>\n",
       "    </tr>\n",
       "  </thead>\n",
       "  <tbody>\n",
       "    <tr>\n",
       "      <th>0</th>\n",
       "      <td>57.877857</td>\n",
       "      <td>0.311140</td>\n",
       "      <td>1.945940</td>\n",
       "      <td>1.0</td>\n",
       "      <td>1.0</td>\n",
       "      <td>0.0</td>\n",
       "      <td>0.0</td>\n",
       "      <td>0.0</td>\n",
       "    </tr>\n",
       "    <tr>\n",
       "      <th>1</th>\n",
       "      <td>10.829943</td>\n",
       "      <td>0.175592</td>\n",
       "      <td>1.294219</td>\n",
       "      <td>1.0</td>\n",
       "      <td>0.0</td>\n",
       "      <td>0.0</td>\n",
       "      <td>0.0</td>\n",
       "      <td>0.0</td>\n",
       "    </tr>\n",
       "    <tr>\n",
       "      <th>2</th>\n",
       "      <td>5.091079</td>\n",
       "      <td>0.805153</td>\n",
       "      <td>0.427715</td>\n",
       "      <td>1.0</td>\n",
       "      <td>0.0</td>\n",
       "      <td>0.0</td>\n",
       "      <td>1.0</td>\n",
       "      <td>0.0</td>\n",
       "    </tr>\n",
       "    <tr>\n",
       "      <th>3</th>\n",
       "      <td>2.247564</td>\n",
       "      <td>5.600044</td>\n",
       "      <td>0.362663</td>\n",
       "      <td>1.0</td>\n",
       "      <td>1.0</td>\n",
       "      <td>0.0</td>\n",
       "      <td>1.0</td>\n",
       "      <td>0.0</td>\n",
       "    </tr>\n",
       "    <tr>\n",
       "      <th>4</th>\n",
       "      <td>44.190936</td>\n",
       "      <td>0.566486</td>\n",
       "      <td>2.222767</td>\n",
       "      <td>1.0</td>\n",
       "      <td>1.0</td>\n",
       "      <td>0.0</td>\n",
       "      <td>1.0</td>\n",
       "      <td>0.0</td>\n",
       "    </tr>\n",
       "  </tbody>\n",
       "</table>\n",
       "</div>"
      ],
      "text/plain": [
       "   distance_from_home  distance_from_last_transaction  \\\n",
       "0           57.877857                        0.311140   \n",
       "1           10.829943                        0.175592   \n",
       "2            5.091079                        0.805153   \n",
       "3            2.247564                        5.600044   \n",
       "4           44.190936                        0.566486   \n",
       "\n",
       "   ratio_to_median_purchase_price  repeat_retailer  used_chip  \\\n",
       "0                        1.945940              1.0        1.0   \n",
       "1                        1.294219              1.0        0.0   \n",
       "2                        0.427715              1.0        0.0   \n",
       "3                        0.362663              1.0        1.0   \n",
       "4                        2.222767              1.0        1.0   \n",
       "\n",
       "   used_pin_number  online_order  fraud  \n",
       "0              0.0           0.0    0.0  \n",
       "1              0.0           0.0    0.0  \n",
       "2              0.0           1.0    0.0  \n",
       "3              0.0           1.0    0.0  \n",
       "4              0.0           1.0    0.0  "
      ]
     },
     "execution_count": 3,
     "metadata": {},
     "output_type": "execute_result"
    }
   ],
   "source": [
    "df.head()"
   ]
  },
  {
   "cell_type": "code",
   "execution_count": 4,
   "id": "572f16c3",
   "metadata": {
    "execution": {
     "iopub.execute_input": "2022-06-12T01:02:06.734453Z",
     "iopub.status.busy": "2022-06-12T01:02:06.733481Z",
     "iopub.status.idle": "2022-06-12T01:02:06.739713Z",
     "shell.execute_reply": "2022-06-12T01:02:06.738738Z"
    },
    "papermill": {
     "duration": 0.019657,
     "end_time": "2022-06-12T01:02:06.741837",
     "exception": false,
     "start_time": "2022-06-12T01:02:06.722180",
     "status": "completed"
    },
    "tags": []
   },
   "outputs": [
    {
     "data": {
      "text/plain": [
       "(1000000, 8)"
      ]
     },
     "execution_count": 4,
     "metadata": {},
     "output_type": "execute_result"
    }
   ],
   "source": [
    "df.shape"
   ]
  },
  {
   "cell_type": "code",
   "execution_count": 5,
   "id": "797d1982",
   "metadata": {
    "execution": {
     "iopub.execute_input": "2022-06-12T01:02:06.764313Z",
     "iopub.status.busy": "2022-06-12T01:02:06.763351Z",
     "iopub.status.idle": "2022-06-12T01:02:07.312432Z",
     "shell.execute_reply": "2022-06-12T01:02:07.311739Z"
    },
    "papermill": {
     "duration": 0.56314,
     "end_time": "2022-06-12T01:02:07.315314",
     "exception": false,
     "start_time": "2022-06-12T01:02:06.752174",
     "status": "completed"
    },
    "tags": []
   },
   "outputs": [
    {
     "data": {
      "text/html": [
       "<style type=\"text/css\">\n",
       "#T_4fe09_row0_col0, #T_4fe09_row0_col1, #T_4fe09_row0_col2, #T_4fe09_row0_col3, #T_4fe09_row0_col4, #T_4fe09_row0_col5, #T_4fe09_row0_col6, #T_4fe09_row0_col7 {\n",
       "  background-color: #f0f921;\n",
       "  color: #000000;\n",
       "}\n",
       "#T_4fe09_row1_col0, #T_4fe09_row1_col1, #T_4fe09_row1_col2, #T_4fe09_row1_col3, #T_4fe09_row1_col4, #T_4fe09_row1_col5, #T_4fe09_row1_col6, #T_4fe09_row1_col7, #T_4fe09_row2_col0, #T_4fe09_row2_col1, #T_4fe09_row2_col2, #T_4fe09_row2_col3, #T_4fe09_row2_col4, #T_4fe09_row2_col5, #T_4fe09_row2_col6, #T_4fe09_row2_col7, #T_4fe09_row3_col0, #T_4fe09_row3_col1, #T_4fe09_row3_col2, #T_4fe09_row3_col3, #T_4fe09_row3_col4, #T_4fe09_row3_col5, #T_4fe09_row3_col6, #T_4fe09_row3_col7, #T_4fe09_row4_col0, #T_4fe09_row4_col1, #T_4fe09_row4_col2, #T_4fe09_row4_col3, #T_4fe09_row4_col4, #T_4fe09_row4_col5, #T_4fe09_row4_col6, #T_4fe09_row4_col7, #T_4fe09_row5_col0, #T_4fe09_row5_col1, #T_4fe09_row5_col2, #T_4fe09_row5_col3, #T_4fe09_row5_col4, #T_4fe09_row5_col5, #T_4fe09_row5_col6, #T_4fe09_row5_col7, #T_4fe09_row6_col0, #T_4fe09_row6_col1, #T_4fe09_row6_col2, #T_4fe09_row6_col3, #T_4fe09_row6_col4, #T_4fe09_row6_col5, #T_4fe09_row6_col6, #T_4fe09_row6_col7, #T_4fe09_row7_col2, #T_4fe09_row7_col3, #T_4fe09_row7_col4, #T_4fe09_row7_col5, #T_4fe09_row7_col6, #T_4fe09_row7_col7 {\n",
       "  background-color: #0d0887;\n",
       "  color: #f1f1f1;\n",
       "}\n",
       "#T_4fe09_row7_col0 {\n",
       "  background-color: #130789;\n",
       "  color: #f1f1f1;\n",
       "}\n",
       "#T_4fe09_row7_col1 {\n",
       "  background-color: #16078a;\n",
       "  color: #f1f1f1;\n",
       "}\n",
       "</style>\n",
       "<table id=\"T_4fe09_\">\n",
       "  <thead>\n",
       "    <tr>\n",
       "      <th class=\"blank level0\" >&nbsp;</th>\n",
       "      <th class=\"col_heading level0 col0\" >distance_from_home</th>\n",
       "      <th class=\"col_heading level0 col1\" >distance_from_last_transaction</th>\n",
       "      <th class=\"col_heading level0 col2\" >ratio_to_median_purchase_price</th>\n",
       "      <th class=\"col_heading level0 col3\" >repeat_retailer</th>\n",
       "      <th class=\"col_heading level0 col4\" >used_chip</th>\n",
       "      <th class=\"col_heading level0 col5\" >used_pin_number</th>\n",
       "      <th class=\"col_heading level0 col6\" >online_order</th>\n",
       "      <th class=\"col_heading level0 col7\" >fraud</th>\n",
       "    </tr>\n",
       "  </thead>\n",
       "  <tbody>\n",
       "    <tr>\n",
       "      <th id=\"T_4fe09_level0_row0\" class=\"row_heading level0 row0\" >count</th>\n",
       "      <td id=\"T_4fe09_row0_col0\" class=\"data row0 col0\" >1000000.000000</td>\n",
       "      <td id=\"T_4fe09_row0_col1\" class=\"data row0 col1\" >1000000.000000</td>\n",
       "      <td id=\"T_4fe09_row0_col2\" class=\"data row0 col2\" >1000000.000000</td>\n",
       "      <td id=\"T_4fe09_row0_col3\" class=\"data row0 col3\" >1000000.000000</td>\n",
       "      <td id=\"T_4fe09_row0_col4\" class=\"data row0 col4\" >1000000.000000</td>\n",
       "      <td id=\"T_4fe09_row0_col5\" class=\"data row0 col5\" >1000000.000000</td>\n",
       "      <td id=\"T_4fe09_row0_col6\" class=\"data row0 col6\" >1000000.000000</td>\n",
       "      <td id=\"T_4fe09_row0_col7\" class=\"data row0 col7\" >1000000.000000</td>\n",
       "    </tr>\n",
       "    <tr>\n",
       "      <th id=\"T_4fe09_level0_row1\" class=\"row_heading level0 row1\" >mean</th>\n",
       "      <td id=\"T_4fe09_row1_col0\" class=\"data row1 col0\" >26.628792</td>\n",
       "      <td id=\"T_4fe09_row1_col1\" class=\"data row1 col1\" >5.036519</td>\n",
       "      <td id=\"T_4fe09_row1_col2\" class=\"data row1 col2\" >1.824182</td>\n",
       "      <td id=\"T_4fe09_row1_col3\" class=\"data row1 col3\" >0.881536</td>\n",
       "      <td id=\"T_4fe09_row1_col4\" class=\"data row1 col4\" >0.350399</td>\n",
       "      <td id=\"T_4fe09_row1_col5\" class=\"data row1 col5\" >0.100608</td>\n",
       "      <td id=\"T_4fe09_row1_col6\" class=\"data row1 col6\" >0.650552</td>\n",
       "      <td id=\"T_4fe09_row1_col7\" class=\"data row1 col7\" >0.087403</td>\n",
       "    </tr>\n",
       "    <tr>\n",
       "      <th id=\"T_4fe09_level0_row2\" class=\"row_heading level0 row2\" >std</th>\n",
       "      <td id=\"T_4fe09_row2_col0\" class=\"data row2 col0\" >65.390784</td>\n",
       "      <td id=\"T_4fe09_row2_col1\" class=\"data row2 col1\" >25.843093</td>\n",
       "      <td id=\"T_4fe09_row2_col2\" class=\"data row2 col2\" >2.799589</td>\n",
       "      <td id=\"T_4fe09_row2_col3\" class=\"data row2 col3\" >0.323157</td>\n",
       "      <td id=\"T_4fe09_row2_col4\" class=\"data row2 col4\" >0.477095</td>\n",
       "      <td id=\"T_4fe09_row2_col5\" class=\"data row2 col5\" >0.300809</td>\n",
       "      <td id=\"T_4fe09_row2_col6\" class=\"data row2 col6\" >0.476796</td>\n",
       "      <td id=\"T_4fe09_row2_col7\" class=\"data row2 col7\" >0.282425</td>\n",
       "    </tr>\n",
       "    <tr>\n",
       "      <th id=\"T_4fe09_level0_row3\" class=\"row_heading level0 row3\" >min</th>\n",
       "      <td id=\"T_4fe09_row3_col0\" class=\"data row3 col0\" >0.004874</td>\n",
       "      <td id=\"T_4fe09_row3_col1\" class=\"data row3 col1\" >0.000118</td>\n",
       "      <td id=\"T_4fe09_row3_col2\" class=\"data row3 col2\" >0.004399</td>\n",
       "      <td id=\"T_4fe09_row3_col3\" class=\"data row3 col3\" >0.000000</td>\n",
       "      <td id=\"T_4fe09_row3_col4\" class=\"data row3 col4\" >0.000000</td>\n",
       "      <td id=\"T_4fe09_row3_col5\" class=\"data row3 col5\" >0.000000</td>\n",
       "      <td id=\"T_4fe09_row3_col6\" class=\"data row3 col6\" >0.000000</td>\n",
       "      <td id=\"T_4fe09_row3_col7\" class=\"data row3 col7\" >0.000000</td>\n",
       "    </tr>\n",
       "    <tr>\n",
       "      <th id=\"T_4fe09_level0_row4\" class=\"row_heading level0 row4\" >25%</th>\n",
       "      <td id=\"T_4fe09_row4_col0\" class=\"data row4 col0\" >3.878008</td>\n",
       "      <td id=\"T_4fe09_row4_col1\" class=\"data row4 col1\" >0.296671</td>\n",
       "      <td id=\"T_4fe09_row4_col2\" class=\"data row4 col2\" >0.475673</td>\n",
       "      <td id=\"T_4fe09_row4_col3\" class=\"data row4 col3\" >1.000000</td>\n",
       "      <td id=\"T_4fe09_row4_col4\" class=\"data row4 col4\" >0.000000</td>\n",
       "      <td id=\"T_4fe09_row4_col5\" class=\"data row4 col5\" >0.000000</td>\n",
       "      <td id=\"T_4fe09_row4_col6\" class=\"data row4 col6\" >0.000000</td>\n",
       "      <td id=\"T_4fe09_row4_col7\" class=\"data row4 col7\" >0.000000</td>\n",
       "    </tr>\n",
       "    <tr>\n",
       "      <th id=\"T_4fe09_level0_row5\" class=\"row_heading level0 row5\" >50%</th>\n",
       "      <td id=\"T_4fe09_row5_col0\" class=\"data row5 col0\" >9.967760</td>\n",
       "      <td id=\"T_4fe09_row5_col1\" class=\"data row5 col1\" >0.998650</td>\n",
       "      <td id=\"T_4fe09_row5_col2\" class=\"data row5 col2\" >0.997717</td>\n",
       "      <td id=\"T_4fe09_row5_col3\" class=\"data row5 col3\" >1.000000</td>\n",
       "      <td id=\"T_4fe09_row5_col4\" class=\"data row5 col4\" >0.000000</td>\n",
       "      <td id=\"T_4fe09_row5_col5\" class=\"data row5 col5\" >0.000000</td>\n",
       "      <td id=\"T_4fe09_row5_col6\" class=\"data row5 col6\" >1.000000</td>\n",
       "      <td id=\"T_4fe09_row5_col7\" class=\"data row5 col7\" >0.000000</td>\n",
       "    </tr>\n",
       "    <tr>\n",
       "      <th id=\"T_4fe09_level0_row6\" class=\"row_heading level0 row6\" >75%</th>\n",
       "      <td id=\"T_4fe09_row6_col0\" class=\"data row6 col0\" >25.743985</td>\n",
       "      <td id=\"T_4fe09_row6_col1\" class=\"data row6 col1\" >3.355748</td>\n",
       "      <td id=\"T_4fe09_row6_col2\" class=\"data row6 col2\" >2.096370</td>\n",
       "      <td id=\"T_4fe09_row6_col3\" class=\"data row6 col3\" >1.000000</td>\n",
       "      <td id=\"T_4fe09_row6_col4\" class=\"data row6 col4\" >1.000000</td>\n",
       "      <td id=\"T_4fe09_row6_col5\" class=\"data row6 col5\" >0.000000</td>\n",
       "      <td id=\"T_4fe09_row6_col6\" class=\"data row6 col6\" >1.000000</td>\n",
       "      <td id=\"T_4fe09_row6_col7\" class=\"data row6 col7\" >0.000000</td>\n",
       "    </tr>\n",
       "    <tr>\n",
       "      <th id=\"T_4fe09_level0_row7\" class=\"row_heading level0 row7\" >max</th>\n",
       "      <td id=\"T_4fe09_row7_col0\" class=\"data row7 col0\" >10632.723672</td>\n",
       "      <td id=\"T_4fe09_row7_col1\" class=\"data row7 col1\" >11851.104565</td>\n",
       "      <td id=\"T_4fe09_row7_col2\" class=\"data row7 col2\" >267.802942</td>\n",
       "      <td id=\"T_4fe09_row7_col3\" class=\"data row7 col3\" >1.000000</td>\n",
       "      <td id=\"T_4fe09_row7_col4\" class=\"data row7 col4\" >1.000000</td>\n",
       "      <td id=\"T_4fe09_row7_col5\" class=\"data row7 col5\" >1.000000</td>\n",
       "      <td id=\"T_4fe09_row7_col6\" class=\"data row7 col6\" >1.000000</td>\n",
       "      <td id=\"T_4fe09_row7_col7\" class=\"data row7 col7\" >1.000000</td>\n",
       "    </tr>\n",
       "  </tbody>\n",
       "</table>\n"
      ],
      "text/plain": [
       "<pandas.io.formats.style.Styler at 0x267377c5850>"
      ]
     },
     "execution_count": 5,
     "metadata": {},
     "output_type": "execute_result"
    }
   ],
   "source": [
    "df.describe().style.background_gradient(cmap = \"plasma\")"
   ]
  },
  {
   "cell_type": "code",
   "execution_count": 6,
   "id": "922fdd89",
   "metadata": {
    "execution": {
     "iopub.execute_input": "2022-06-12T01:02:07.343853Z",
     "iopub.status.busy": "2022-06-12T01:02:07.343117Z",
     "iopub.status.idle": "2022-06-12T01:02:07.381729Z",
     "shell.execute_reply": "2022-06-12T01:02:07.380767Z"
    },
    "papermill": {
     "duration": 0.0532,
     "end_time": "2022-06-12T01:02:07.383985",
     "exception": false,
     "start_time": "2022-06-12T01:02:07.330785",
     "status": "completed"
    },
    "scrolled": true,
    "tags": []
   },
   "outputs": [
    {
     "name": "stdout",
     "output_type": "stream",
     "text": [
      "<class 'pandas.core.frame.DataFrame'>\n",
      "RangeIndex: 1000000 entries, 0 to 999999\n",
      "Data columns (total 8 columns):\n",
      " #   Column                          Non-Null Count    Dtype  \n",
      "---  ------                          --------------    -----  \n",
      " 0   distance_from_home              1000000 non-null  float64\n",
      " 1   distance_from_last_transaction  1000000 non-null  float64\n",
      " 2   ratio_to_median_purchase_price  1000000 non-null  float64\n",
      " 3   repeat_retailer                 1000000 non-null  float64\n",
      " 4   used_chip                       1000000 non-null  float64\n",
      " 5   used_pin_number                 1000000 non-null  float64\n",
      " 6   online_order                    1000000 non-null  float64\n",
      " 7   fraud                           1000000 non-null  float64\n",
      "dtypes: float64(8)\n",
      "memory usage: 61.0 MB\n"
     ]
    }
   ],
   "source": [
    "df.info()"
   ]
  },
  {
   "cell_type": "markdown",
   "id": "28e87320",
   "metadata": {
    "papermill": {
     "duration": 0.010267,
     "end_time": "2022-06-12T01:02:07.404816",
     "exception": false,
     "start_time": "2022-06-12T01:02:07.394549",
     "status": "completed"
    },
    "tags": []
   },
   "source": [
    "**Correlation Heatmap**"
   ]
  },
  {
   "cell_type": "code",
   "execution_count": 7,
   "id": "575131b1",
   "metadata": {
    "execution": {
     "iopub.execute_input": "2022-06-12T01:02:07.427782Z",
     "iopub.status.busy": "2022-06-12T01:02:07.427370Z",
     "iopub.status.idle": "2022-06-12T01:02:08.312350Z",
     "shell.execute_reply": "2022-06-12T01:02:08.311252Z"
    },
    "papermill": {
     "duration": 0.899673,
     "end_time": "2022-06-12T01:02:08.315115",
     "exception": false,
     "start_time": "2022-06-12T01:02:07.415442",
     "status": "completed"
    },
    "tags": []
   },
   "outputs": [
    {
     "data": {
      "text/plain": [
       "<AxesSubplot:>"
      ]
     },
     "execution_count": 7,
     "metadata": {},
     "output_type": "execute_result"
    },
    {
     "data": {
      "image/png": "[encoded data removed]",
      "text/plain": [
       "<Figure size 720x432 with 2 Axes>"
      ]
     },
     "metadata": {},
     "output_type": "display_data"
    }
   ],
   "source": [
    "corr = df.corr()\n",
    "\n",
    "sns.heatmap(corr, xticklabels = corr.columns, yticklabels = corr.columns, annot = True, cmap = \"hot\")"
   ]
  },
  {
   "cell_type": "code",
   "execution_count": 8,
   "id": "ea506581",
   "metadata": {
    "execution": {
     "iopub.execute_input": "2022-06-12T01:02:08.341833Z",
     "iopub.status.busy": "2022-06-12T01:02:08.341421Z",
     "iopub.status.idle": "2022-06-12T01:02:08.526304Z",
     "shell.execute_reply": "2022-06-12T01:02:08.525016Z"
    },
    "papermill": {
     "duration": 0.202651,
     "end_time": "2022-06-12T01:02:08.529927",
     "exception": false,
     "start_time": "2022-06-12T01:02:08.327276",
     "status": "completed"
    },
    "tags": []
   },
   "outputs": [
    {
     "data": {
      "text/plain": [
       "fraud\n",
       "0.0    912597\n",
       "1.0     87403\n",
       "dtype: int64"
      ]
     },
     "execution_count": 8,
     "metadata": {},
     "output_type": "execute_result"
    },
    {
     "data": {
      "image/png": "[encoded data removed]",
      "text/plain": [
       "<Figure size 720x432 with 1 Axes>"
      ]
     },
     "metadata": {},
     "output_type": "display_data"
    }
   ],
   "source": [
    "# Class distribution\n",
    "# Real (class 0.0) meaning non-fraudulent transactions\n",
    "# Fraud (class 1.0) meaning fraudulent transactions\n",
    "df.value_counts(\"fraud\").plot.pie(autopct = \"%.1f\")\n",
    "df.value_counts(\"fraud\")"
   ]
  },
  {
   "cell_type": "markdown",
   "id": "0cfd84b0",
   "metadata": {
    "papermill": {
     "duration": 0.022517,
     "end_time": "2022-06-12T01:02:08.575538",
     "exception": false,
     "start_time": "2022-06-12T01:02:08.553021",
     "status": "completed"
    },
    "tags": []
   },
   "source": [
    "**Under-sampling (Down Sampling)**"
   ]
  },
  {
   "cell_type": "code",
   "execution_count": 9,
   "id": "a04f66ea",
   "metadata": {
    "execution": {
     "iopub.execute_input": "2022-06-12T01:02:08.617318Z",
     "iopub.status.busy": "2022-06-12T01:02:08.616284Z",
     "iopub.status.idle": "2022-06-12T01:02:08.727240Z",
     "shell.execute_reply": "2022-06-12T01:02:08.726015Z"
    },
    "papermill": {
     "duration": 0.131581,
     "end_time": "2022-06-12T01:02:08.730094",
     "exception": false,
     "start_time": "2022-06-12T01:02:08.598513",
     "status": "completed"
    },
    "tags": []
   },
   "outputs": [],
   "source": [
    "real = df[df[\"fraud\"] == 0]\n",
    "fraud = df[df[\"fraud\"] == 1]\n",
    "\n",
    "# Resampling the original dataset with 87,403 datapoints for both classes\n",
    "real_resample = real.sample(n = 87403, random_state = 123)\n",
    "fraud_resample = fraud.sample(n = 87403, random_state = 123)\n",
    "\n",
    "# Creating new dataset consisting of equal class occurence \n",
    "df0 = pd.concat([real_resample, fraud_resample], axis = 0)"
   ]
  },
  {
   "cell_type": "code",
   "execution_count": 10,
   "id": "a0ce3cc0",
   "metadata": {
    "execution": {
     "iopub.execute_input": "2022-06-12T01:02:08.757345Z",
     "iopub.status.busy": "2022-06-12T01:02:08.756480Z",
     "iopub.status.idle": "2022-06-12T01:02:08.865220Z",
     "shell.execute_reply": "2022-06-12T01:02:08.862569Z"
    },
    "papermill": {
     "duration": 0.125918,
     "end_time": "2022-06-12T01:02:08.868667",
     "exception": false,
     "start_time": "2022-06-12T01:02:08.742749",
     "status": "completed"
    },
    "tags": []
   },
   "outputs": [
    {
     "data": {
      "text/plain": [
       "fraud\n",
       "0.0    87403\n",
       "1.0    87403\n",
       "dtype: int64"
      ]
     },
     "execution_count": 10,
     "metadata": {},
     "output_type": "execute_result"
    },
    {
     "data": {
      "image/png": "[encoded data removed]",
      "text/plain": [
       "<Figure size 720x432 with 1 Axes>"
      ]
     },
     "metadata": {},
     "output_type": "display_data"
    }
   ],
   "source": [
    "df0.value_counts(\"fraud\").plot.pie(autopct = \"%.1f\")\n",
    "df0.value_counts(\"fraud\")"
   ]
  },
  {
   "cell_type": "code",
   "execution_count": 11,
   "id": "24163459",
   "metadata": {
    "execution": {
     "iopub.execute_input": "2022-06-12T01:02:08.918868Z",
     "iopub.status.busy": "2022-06-12T01:02:08.917283Z",
     "iopub.status.idle": "2022-06-12T01:02:08.940062Z",
     "shell.execute_reply": "2022-06-12T01:02:08.938914Z"
    },
    "papermill": {
     "duration": 0.051135,
     "end_time": "2022-06-12T01:02:08.943437",
     "exception": false,
     "start_time": "2022-06-12T01:02:08.892302",
     "status": "completed"
    },
    "tags": []
   },
   "outputs": [],
   "source": [
    "X = np.array(df0.drop(columns = \"fraud\"))\n",
    "y = np.array(df0[\"fraud\"])"
   ]
  },
  {
   "cell_type": "code",
   "execution_count": 12,
   "id": "1c6b9bf6",
   "metadata": {
    "execution": {
     "iopub.execute_input": "2022-06-12T01:02:08.972753Z",
     "iopub.status.busy": "2022-06-12T01:02:08.972359Z",
     "iopub.status.idle": "2022-06-12T01:02:08.999049Z",
     "shell.execute_reply": "2022-06-12T01:02:08.998275Z"
    },
    "papermill": {
     "duration": 0.043059,
     "end_time": "2022-06-12T01:02:09.001448",
     "exception": false,
     "start_time": "2022-06-12T01:02:08.958389",
     "status": "completed"
    },
    "tags": []
   },
   "outputs": [],
   "source": [
    "# Creating Train Test Split\n",
    "X_train, X_test, y_train, y_test = model_selection.train_test_split(X, y, test_size = 0.2, random_state = 123, shuffle = True)"
   ]
  },
  {
   "cell_type": "code",
   "execution_count": 13,
   "id": "08756604",
   "metadata": {
    "execution": {
     "iopub.execute_input": "2022-06-12T01:02:09.029118Z",
     "iopub.status.busy": "2022-06-12T01:02:09.028399Z",
     "iopub.status.idle": "2022-06-12T01:02:09.054600Z",
     "shell.execute_reply": "2022-06-12T01:02:09.053804Z"
    },
    "papermill": {
     "duration": 0.04303,
     "end_time": "2022-06-12T01:02:09.057208",
     "exception": false,
     "start_time": "2022-06-12T01:02:09.014178",
     "status": "completed"
    },
    "tags": []
   },
   "outputs": [],
   "source": [
    "# Data scaling to produce good results\n",
    "scale = MinMaxScaler()\n",
    "X_train = scale.fit_transform(X_train)\n",
    "X_test = scale.transform(X_test)"
   ]
  },
  {
   "cell_type": "markdown",
   "id": "a7f8006a",
   "metadata": {
    "papermill": {
     "duration": 0.012631,
     "end_time": "2022-06-12T01:02:09.082783",
     "exception": false,
     "start_time": "2022-06-12T01:02:09.070152",
     "status": "completed"
    },
    "tags": []
   },
   "source": [
    "**K Nearest Neighbors Classifier**"
   ]
  },
  {
   "cell_type": "code",
   "execution_count": 14,
   "id": "43b0dd98",
   "metadata": {
    "execution": {
     "iopub.execute_input": "2022-06-12T01:02:09.110542Z",
     "iopub.status.busy": "2022-06-12T01:02:09.109844Z",
     "iopub.status.idle": "2022-06-12T01:02:09.114308Z",
     "shell.execute_reply": "2022-06-12T01:02:09.113657Z"
    },
    "papermill": {
     "duration": 0.020715,
     "end_time": "2022-06-12T01:02:09.116250",
     "exception": false,
     "start_time": "2022-06-12T01:02:09.095535",
     "status": "completed"
    },
    "tags": []
   },
   "outputs": [],
   "source": [
    "# Empty lists for appending each value of k\n",
    "train_accuracy = []\n",
    "test_accuracy = []"
   ]
  },
  {
   "cell_type": "code",
   "execution_count": 15,
   "id": "caa95326",
   "metadata": {
    "execution": {
     "iopub.execute_input": "2022-06-12T01:02:09.143463Z",
     "iopub.status.busy": "2022-06-12T01:02:09.142751Z",
     "iopub.status.idle": "2022-06-12T01:14:38.076851Z",
     "shell.execute_reply": "2022-06-12T01:14:38.075843Z"
    },
    "papermill": {
     "duration": 748.950754,
     "end_time": "2022-06-12T01:14:38.079543",
     "exception": false,
     "start_time": "2022-06-12T01:02:09.128789",
     "status": "completed"
    },
    "tags": []
   },
   "outputs": [],
   "source": [
    "# Iterate through values of k and store results\n",
    "for k in range(3, 16):\n",
    "    knn = neighbors.KNeighborsClassifier(n_neighbors = k)\n",
    "    knn.fit(X_train, y_train)\n",
    "    y_pred = knn.predict(X_test)\n",
    "    train_accuracy.append(knn.score(X_train, y_train))\n",
    "    test_accuracy.append(knn.score(X_test, y_test))"
   ]
  },
  {
   "cell_type": "code",
   "execution_count": 16,
   "id": "77e73493",
   "metadata": {
    "execution": {
     "iopub.execute_input": "2022-06-12T01:14:38.107584Z",
     "iopub.status.busy": "2022-06-12T01:14:38.107064Z",
     "iopub.status.idle": "2022-06-12T01:14:38.376237Z",
     "shell.execute_reply": "2022-06-12T01:14:38.375200Z"
    },
    "papermill": {
     "duration": 0.285783,
     "end_time": "2022-06-12T01:14:38.378869",
     "exception": false,
     "start_time": "2022-06-12T01:14:38.093086",
     "status": "completed"
    },
    "tags": []
   },
   "outputs": [
    {
     "data": {
      "image/png": "[encoded data removed]",
      "text/plain": [
       "<Figure size 864x432 with 1 Axes>"
      ]
     },
     "metadata": {},
     "output_type": "display_data"
    }
   ],
   "source": [
    "# Displaying model accuracy for different values of k\n",
    "plt.figure(figsize = (12, 6))\n",
    "\n",
    "plt.plot(range(3, 16), train_accuracy, label = \"Train Score\",\n",
    "         marker = \"o\", markerfacecolor = \"#00FF00\", color = \"#000000\")\n",
    "\n",
    "plt.plot(range(3, 16), test_accuracy, label = \"Test Score\", \n",
    "         marker = \"o\", markerfacecolor = \"#FF0000\", color = \"#000000\")\n",
    "\n",
    "plt.xlabel(\"Number of Neighbors\")\n",
    "plt.ylabel(\"Score\")\n",
    "plt.title(\"Train vs Test Score by Number of Neighbors\")\n",
    "plt.legend()\n",
    "plt.show()"
   ]
  },
  {
   "cell_type": "markdown",
   "id": "ca6de33d",
   "metadata": {
    "papermill": {
     "duration": 0.013903,
     "end_time": "2022-06-12T01:14:38.406644",
     "exception": false,
     "start_time": "2022-06-12T01:14:38.392741",
     "status": "completed"
    },
    "tags": []
   },
   "source": [
    "**The accuracy of our KNN model decreases as the value of k increases. Let's use k = 3 for best performance.**"
   ]
  },
  {
   "cell_type": "code",
   "execution_count": 17,
   "id": "1061609d",
   "metadata": {
    "execution": {
     "iopub.execute_input": "2022-06-12T01:14:38.436299Z",
     "iopub.status.busy": "2022-06-12T01:14:38.435666Z",
     "iopub.status.idle": "2022-06-12T01:14:47.281619Z",
     "shell.execute_reply": "2022-06-12T01:14:47.280858Z"
    },
    "papermill": {
     "duration": 8.863372,
     "end_time": "2022-06-12T01:14:47.283881",
     "exception": false,
     "start_time": "2022-06-12T01:14:38.420509",
     "status": "completed"
    },
    "tags": []
   },
   "outputs": [],
   "source": [
    "knn = neighbors.KNeighborsClassifier(n_neighbors = 3)\n",
    "knn.fit(X_train, y_train)\n",
    "y_pred = knn.predict(X_test)"
   ]
  },
  {
   "cell_type": "code",
   "execution_count": 18,
   "id": "e2e4525c",
   "metadata": {
    "execution": {
     "iopub.execute_input": "2022-06-12T01:14:47.313302Z",
     "iopub.status.busy": "2022-06-12T01:14:47.312773Z",
     "iopub.status.idle": "2022-06-12T01:14:47.362501Z",
     "shell.execute_reply": "2022-06-12T01:14:47.361721Z"
    },
    "papermill": {
     "duration": 0.06731,
     "end_time": "2022-06-12T01:14:47.364786",
     "exception": false,
     "start_time": "2022-06-12T01:14:47.297476",
     "status": "completed"
    },
    "tags": []
   },
   "outputs": [
    {
     "data": {
      "text/plain": [
       "array([[17417,    85],\n",
       "       [   13, 17447]], dtype=int64)"
      ]
     },
     "execution_count": 18,
     "metadata": {},
     "output_type": "execute_result"
    }
   ],
   "source": [
    "cm = confusion_matrix(y_test, y_pred)\n",
    "cm"
   ]
  },
  {
   "cell_type": "code",
   "execution_count": 19,
   "id": "68cbf082",
   "metadata": {
    "execution": {
     "iopub.execute_input": "2022-06-12T01:14:47.393873Z",
     "iopub.status.busy": "2022-06-12T01:14:47.393011Z",
     "iopub.status.idle": "2022-06-12T01:14:47.420271Z",
     "shell.execute_reply": "2022-06-12T01:14:47.419276Z"
    },
    "papermill": {
     "duration": 0.044271,
     "end_time": "2022-06-12T01:14:47.422562",
     "exception": false,
     "start_time": "2022-06-12T01:14:47.378291",
     "status": "completed"
    },
    "tags": []
   },
   "outputs": [
    {
     "data": {
      "text/plain": [
       "0.9951517225644536"
      ]
     },
     "execution_count": 19,
     "metadata": {},
     "output_type": "execute_result"
    }
   ],
   "source": [
    "precision_score(y_test, y_pred)"
   ]
  },
  {
   "cell_type": "code",
   "execution_count": 20,
   "id": "93ef75f9",
   "metadata": {
    "execution": {
     "iopub.execute_input": "2022-06-12T01:14:47.452422Z",
     "iopub.status.busy": "2022-06-12T01:14:47.451505Z",
     "iopub.status.idle": "2022-06-12T01:14:47.703293Z",
     "shell.execute_reply": "2022-06-12T01:14:47.702530Z"
    },
    "papermill": {
     "duration": 0.269048,
     "end_time": "2022-06-12T01:14:47.705489",
     "exception": false,
     "start_time": "2022-06-12T01:14:47.436441",
     "status": "completed"
    },
    "tags": []
   },
   "outputs": [
    {
     "data": {
      "text/plain": [
       "Text(84.5, 0.5, 'Truth')"
      ]
     },
     "execution_count": 20,
     "metadata": {},
     "output_type": "execute_result"
    },
    {
     "data": {
      "image/png": "[encoded data removed]",
      "text/plain": [
       "<Figure size 864x432 with 2 Axes>"
      ]
     },
     "metadata": {},
     "output_type": "display_data"
    }
   ],
   "source": [
    "plt.figure(figsize = (12, 6))\n",
    "\n",
    "sns.heatmap(cm, annot = True, cmap = \"hot\")\n",
    "plt.xlabel(\"Predicted\")\n",
    "plt.ylabel(\"Truth\")"
   ]
  },
  {
   "cell_type": "code",
   "execution_count": 21,
   "id": "c4f14f5d",
   "metadata": {
    "execution": {
     "iopub.execute_input": "2022-06-12T01:14:47.737614Z",
     "iopub.status.busy": "2022-06-12T01:14:47.736975Z",
     "iopub.status.idle": "2022-06-12T01:14:56.238151Z",
     "shell.execute_reply": "2022-06-12T01:14:56.237302Z"
    },
    "papermill": {
     "duration": 8.520492,
     "end_time": "2022-06-12T01:14:56.240818",
     "exception": false,
     "start_time": "2022-06-12T01:14:47.720326",
     "status": "completed"
    },
    "tags": []
   },
   "outputs": [
    {
     "name": "stdout",
     "output_type": "stream",
     "text": [
      "KNN Accuracy: 0.9971969566958412\n",
      "              precision    recall  f1-score   support\n",
      "\n",
      "         0.0       1.00      1.00      1.00     17502\n",
      "         1.0       1.00      1.00      1.00     17460\n",
      "\n",
      "    accuracy                           1.00     34962\n",
      "   macro avg       1.00      1.00      1.00     34962\n",
      "weighted avg       1.00      1.00      1.00     34962\n",
      "\n"
     ]
    }
   ],
   "source": [
    "accuracy = knn.score(X_test, y_test)\n",
    "print(\"KNN Accuracy:\",accuracy)\n",
    "print(classification_report(y_test, y_pred))"
   ]
  },
  {
   "cell_type": "markdown",
   "id": "e39c95de",
   "metadata": {
    "papermill": {
     "duration": 0.014881,
     "end_time": "2022-06-12T01:14:56.271155",
     "exception": false,
     "start_time": "2022-06-12T01:14:56.256274",
     "status": "completed"
    },
    "tags": []
   },
   "source": [
    "**Decision Tree Classifier**"
   ]
  },
  {
   "cell_type": "code",
   "execution_count": 22,
   "id": "147ca4e3",
   "metadata": {
    "execution": {
     "iopub.execute_input": "2022-06-12T01:14:56.301900Z",
     "iopub.status.busy": "2022-06-12T01:14:56.300869Z",
     "iopub.status.idle": "2022-06-12T01:14:56.568127Z",
     "shell.execute_reply": "2022-06-12T01:14:56.566958Z"
    },
    "papermill": {
     "duration": 0.28506,
     "end_time": "2022-06-12T01:14:56.570538",
     "exception": false,
     "start_time": "2022-06-12T01:14:56.285478",
     "status": "completed"
    },
    "tags": []
   },
   "outputs": [],
   "source": [
    "dt = DecisionTreeClassifier(random_state = 5)  \n",
    "dt.fit(X_train, y_train) \n",
    "y_pred = dt.predict(X_test)"
   ]
  },
  {
   "cell_type": "code",
   "execution_count": 23,
   "id": "791e7a6d",
   "metadata": {
    "execution": {
     "iopub.execute_input": "2022-06-12T01:14:56.601002Z",
     "iopub.status.busy": "2022-06-12T01:14:56.600582Z",
     "iopub.status.idle": "2022-06-12T01:14:56.649893Z",
     "shell.execute_reply": "2022-06-12T01:14:56.648769Z"
    },
    "papermill": {
     "duration": 0.067192,
     "end_time": "2022-06-12T01:14:56.652154",
     "exception": false,
     "start_time": "2022-06-12T01:14:56.584962",
     "status": "completed"
    },
    "tags": []
   },
   "outputs": [
    {
     "data": {
      "text/plain": [
       "array([[17500,     2],\n",
       "       [    0, 17460]], dtype=int64)"
      ]
     },
     "execution_count": 23,
     "metadata": {},
     "output_type": "execute_result"
    }
   ],
   "source": [
    "cm = confusion_matrix(y_test, y_pred)\n",
    "cm"
   ]
  },
  {
   "cell_type": "code",
   "execution_count": 24,
   "id": "aa794f99",
   "metadata": {
    "execution": {
     "iopub.execute_input": "2022-06-12T01:14:56.682885Z",
     "iopub.status.busy": "2022-06-12T01:14:56.682455Z",
     "iopub.status.idle": "2022-06-12T01:14:56.709883Z",
     "shell.execute_reply": "2022-06-12T01:14:56.708946Z"
    },
    "papermill": {
     "duration": 0.045403,
     "end_time": "2022-06-12T01:14:56.712214",
     "exception": false,
     "start_time": "2022-06-12T01:14:56.666811",
     "status": "completed"
    },
    "tags": []
   },
   "outputs": [
    {
     "data": {
      "text/plain": [
       "0.9998854655824075"
      ]
     },
     "execution_count": 24,
     "metadata": {},
     "output_type": "execute_result"
    }
   ],
   "source": [
    "precision_score(y_test, y_pred)"
   ]
  },
  {
   "cell_type": "code",
   "execution_count": 25,
   "id": "5bdc6412",
   "metadata": {
    "execution": {
     "iopub.execute_input": "2022-06-12T01:14:56.742807Z",
     "iopub.status.busy": "2022-06-12T01:14:56.742184Z",
     "iopub.status.idle": "2022-06-12T01:14:56.997978Z",
     "shell.execute_reply": "2022-06-12T01:14:56.997011Z"
    },
    "papermill": {
     "duration": 0.273362,
     "end_time": "2022-06-12T01:14:57.000121",
     "exception": false,
     "start_time": "2022-06-12T01:14:56.726759",
     "status": "completed"
    },
    "tags": []
   },
   "outputs": [
    {
     "data": {
      "text/plain": [
       "Text(84.5, 0.5, 'Truth')"
      ]
     },
     "execution_count": 25,
     "metadata": {},
     "output_type": "execute_result"
    },
    {
     "data": {
      "image/png": "[encoded data removed]",
      "text/plain": [
       "<Figure size 864x432 with 2 Axes>"
      ]
     },
     "metadata": {},
     "output_type": "display_data"
    }
   ],
   "source": [
    "plt.figure(figsize = (12, 6))\n",
    "\n",
    "sns.heatmap(cm, annot = True, cmap = \"hot\")\n",
    "plt.xlabel(\"Predicted\")\n",
    "plt.ylabel(\"Truth\")"
   ]
  },
  {
   "cell_type": "code",
   "execution_count": 26,
   "id": "3e08e9f9",
   "metadata": {
    "execution": {
     "iopub.execute_input": "2022-06-12T01:14:57.032280Z",
     "iopub.status.busy": "2022-06-12T01:14:57.031354Z",
     "iopub.status.idle": "2022-06-12T01:14:57.133822Z",
     "shell.execute_reply": "2022-06-12T01:14:57.132413Z"
    },
    "papermill": {
     "duration": 0.120997,
     "end_time": "2022-06-12T01:14:57.136061",
     "exception": false,
     "start_time": "2022-06-12T01:14:57.015064",
     "status": "completed"
    },
    "tags": []
   },
   "outputs": [
    {
     "name": "stdout",
     "output_type": "stream",
     "text": [
      "DT Accuracy: 0.999942795034609\n",
      "              precision    recall  f1-score   support\n",
      "\n",
      "         0.0       1.00      1.00      1.00     17502\n",
      "         1.0       1.00      1.00      1.00     17460\n",
      "\n",
      "    accuracy                           1.00     34962\n",
      "   macro avg       1.00      1.00      1.00     34962\n",
      "weighted avg       1.00      1.00      1.00     34962\n",
      "\n"
     ]
    }
   ],
   "source": [
    "accuracy = dt.score(X_test, y_test)\n",
    "print(\"DT Accuracy:\",accuracy)\n",
    "print(classification_report(y_test, y_pred))"
   ]
  },
  {
   "cell_type": "markdown",
   "id": "3f962968",
   "metadata": {
    "papermill": {
     "duration": 0.01474,
     "end_time": "2022-06-12T01:14:57.166004",
     "exception": false,
     "start_time": "2022-06-12T01:14:57.151264",
     "status": "completed"
    },
    "tags": []
   },
   "source": [
    "**Random Forest Classifier**"
   ]
  },
  {
   "cell_type": "code",
   "execution_count": 27,
   "id": "5d7075e0",
   "metadata": {
    "execution": {
     "iopub.execute_input": "2022-06-12T01:14:57.198376Z",
     "iopub.status.busy": "2022-06-12T01:14:57.197984Z",
     "iopub.status.idle": "2022-06-12T01:15:08.858718Z",
     "shell.execute_reply": "2022-06-12T01:15:08.857603Z"
    },
    "papermill": {
     "duration": 11.679544,
     "end_time": "2022-06-12T01:15:08.861170",
     "exception": false,
     "start_time": "2022-06-12T01:14:57.181626",
     "status": "completed"
    },
    "tags": []
   },
   "outputs": [],
   "source": [
    "rf = RandomForestClassifier(random_state = 5)\n",
    "rf.fit(X_train, y_train)\n",
    "y_pred = rf.predict(X_test)"
   ]
  },
  {
   "cell_type": "code",
   "execution_count": 28,
   "id": "0c77c43d",
   "metadata": {
    "execution": {
     "iopub.execute_input": "2022-06-12T01:15:08.893893Z",
     "iopub.status.busy": "2022-06-12T01:15:08.893175Z",
     "iopub.status.idle": "2022-06-12T01:15:08.938552Z",
     "shell.execute_reply": "2022-06-12T01:15:08.937862Z"
    },
    "papermill": {
     "duration": 0.063984,
     "end_time": "2022-06-12T01:15:08.940503",
     "exception": false,
     "start_time": "2022-06-12T01:15:08.876519",
     "status": "completed"
    },
    "tags": []
   },
   "outputs": [
    {
     "data": {
      "text/plain": [
       "array([[17500,     2],\n",
       "       [    0, 17460]], dtype=int64)"
      ]
     },
     "execution_count": 28,
     "metadata": {},
     "output_type": "execute_result"
    }
   ],
   "source": [
    "cm = confusion_matrix(y_test, y_pred)\n",
    "cm"
   ]
  },
  {
   "cell_type": "code",
   "execution_count": 29,
   "id": "b22e7333",
   "metadata": {
    "execution": {
     "iopub.execute_input": "2022-06-12T01:15:08.972928Z",
     "iopub.status.busy": "2022-06-12T01:15:08.972271Z",
     "iopub.status.idle": "2022-06-12T01:15:08.998643Z",
     "shell.execute_reply": "2022-06-12T01:15:08.997707Z"
    },
    "papermill": {
     "duration": 0.045273,
     "end_time": "2022-06-12T01:15:09.000861",
     "exception": false,
     "start_time": "2022-06-12T01:15:08.955588",
     "status": "completed"
    },
    "tags": []
   },
   "outputs": [
    {
     "data": {
      "text/plain": [
       "0.9998854655824075"
      ]
     },
     "execution_count": 29,
     "metadata": {},
     "output_type": "execute_result"
    }
   ],
   "source": [
    "precision_score(y_test, y_pred)"
   ]
  },
  {
   "cell_type": "code",
   "execution_count": 30,
   "id": "c25aee96",
   "metadata": {
    "execution": {
     "iopub.execute_input": "2022-06-12T01:15:09.033808Z",
     "iopub.status.busy": "2022-06-12T01:15:09.033146Z",
     "iopub.status.idle": "2022-06-12T01:15:09.285423Z",
     "shell.execute_reply": "2022-06-12T01:15:09.284404Z"
    },
    "papermill": {
     "duration": 0.271229,
     "end_time": "2022-06-12T01:15:09.287764",
     "exception": false,
     "start_time": "2022-06-12T01:15:09.016535",
     "status": "completed"
    },
    "tags": []
   },
   "outputs": [
    {
     "data": {
      "text/plain": [
       "Text(84.5, 0.5, 'Truth')"
      ]
     },
     "execution_count": 30,
     "metadata": {},
     "output_type": "execute_result"
    },
    {
     "data": {
      "image/png": "[encoded data removed]",
      "text/plain": [
       "<Figure size 864x432 with 2 Axes>"
      ]
     },
     "metadata": {},
     "output_type": "display_data"
    }
   ],
   "source": [
    "plt.figure(figsize = (12, 6))\n",
    "\n",
    "sns.heatmap(cm, annot = True, cmap = \"hot\")\n",
    "plt.xlabel(\"Predicted\")\n",
    "plt.ylabel(\"Truth\")"
   ]
  },
  {
   "cell_type": "code",
   "execution_count": 31,
   "id": "b3709507",
   "metadata": {
    "execution": {
     "iopub.execute_input": "2022-06-12T01:15:09.321522Z",
     "iopub.status.busy": "2022-06-12T01:15:09.321124Z",
     "iopub.status.idle": "2022-06-12T01:15:09.707126Z",
     "shell.execute_reply": "2022-06-12T01:15:09.706132Z"
    },
    "papermill": {
     "duration": 0.405939,
     "end_time": "2022-06-12T01:15:09.710012",
     "exception": false,
     "start_time": "2022-06-12T01:15:09.304073",
     "status": "completed"
    },
    "tags": []
   },
   "outputs": [
    {
     "name": "stdout",
     "output_type": "stream",
     "text": [
      "RF Accuracy: 0.999942795034609\n",
      "              precision    recall  f1-score   support\n",
      "\n",
      "         0.0       1.00      1.00      1.00     17502\n",
      "         1.0       1.00      1.00      1.00     17460\n",
      "\n",
      "    accuracy                           1.00     34962\n",
      "   macro avg       1.00      1.00      1.00     34962\n",
      "weighted avg       1.00      1.00      1.00     34962\n",
      "\n"
     ]
    }
   ],
   "source": [
    "accuracy = rf.score(X_test, y_test)\n",
    "print(\"RF Accuracy:\",accuracy)\n",
    "print(classification_report(y_test, y_pred))"
   ]
  },
  {
   "cell_type": "markdown",
   "id": "c9903a11",
   "metadata": {
    "papermill": {
     "duration": 0.015398,
     "end_time": "2022-06-12T01:15:09.741346",
     "exception": false,
     "start_time": "2022-06-12T01:15:09.725948",
     "status": "completed"
    },
    "tags": []
   },
   "source": [
    "**Thank you for viewing this notebook. Please feel free to provide any feedback on this notebook! I am always looking to improve.**"
   ]
  }
 ],
 "metadata": {
  "kernelspec": {
   "display_name": "Python 3 (ipykernel)",
   "language": "python",
   "name": "python3"
  },
  "language_info": {
   "codemirror_mode": {
    "name": "ipython",
    "version": 3
   },
   "file_extension": ".py",
   "mimetype": "text/x-python",
   "name": "python",
   "nbconvert_exporter": "python",
   "pygments_lexer": "ipython3",
   "version": "3.9.7"
  },
  "papermill": {
   "default_parameters": {},
   "duration": 797.103562,
   "end_time": "2022-06-12T01:15:10.580029",
   "environment_variables": {},
   "exception": null,
   "input_path": "__notebook__.ipynb",
   "output_path": "__notebook__.ipynb",
   "parameters": {},
   "start_time": "2022-06-12T01:01:53.476467",
   "version": "2.3.4"
  }
 },
 "nbformat": 4,
 "nbformat_minor": 5
}
